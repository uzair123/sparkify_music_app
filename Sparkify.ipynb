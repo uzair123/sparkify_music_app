{
 "cells": [
  {
   "cell_type": "markdown",
   "metadata": {},
   "source": [
    "# Sparkify Project Workspace\n",
    "This workspace contains a tiny subset (128MB) of the full dataset available (12GB). Feel free to use this workspace to build your project, or to explore a smaller subset with Spark before deploying your cluster on the cloud. Instructions for setting up your Spark cluster is included in the last lesson of the Extracurricular Spark Course content.\n",
    "\n",
    "You can follow the steps below to guide your data analysis and model building portion of this project."
   ]
  },
  {
   "cell_type": "code",
   "execution_count": null,
   "metadata": {},
   "outputs": [],
   "source": []
  },
  {
   "cell_type": "code",
   "execution_count": 1,
   "metadata": {},
   "outputs": [],
   "source": [
    "# import libraries\n",
    "from pyspark.sql import SparkSession\n",
    "from pyspark.sql.functions import udf\n",
    "from pyspark.sql.functions import isnan\n",
    "from pyspark.sql.functions import to_date\n",
    "from pyspark.sql.types import DateType\n",
    "\n",
    "import datetime\n",
    "import numpy as np\n",
    "import pandas as pd\n",
    "%matplotlib inline\n",
    "import matplotlib.pyplot as plt"
   ]
  },
  {
   "cell_type": "code",
   "execution_count": 2,
   "metadata": {},
   "outputs": [],
   "source": [
    "# create a Spark session\n",
    "spark = SparkSession \\\n",
    "       .builder \\\n",
    "       .appName(\"Sparkify-X\") \\\n",
    "       .getOrCreate()"
   ]
  },
  {
   "cell_type": "code",
   "execution_count": 3,
   "metadata": {},
   "outputs": [
    {
     "data": {
      "text/html": [
       "\n",
       "            <div>\n",
       "                <p><b>SparkSession - in-memory</b></p>\n",
       "                \n",
       "        <div>\n",
       "            <p><b>SparkContext</b></p>\n",
       "\n",
       "            <p><a href=\"http://3e7609394bb1:4040\">Spark UI</a></p>\n",
       "\n",
       "            <dl>\n",
       "              <dt>Version</dt>\n",
       "                <dd><code>v2.4.3</code></dd>\n",
       "              <dt>Master</dt>\n",
       "                <dd><code>local[*]</code></dd>\n",
       "              <dt>AppName</dt>\n",
       "                <dd><code>Sparkify-X</code></dd>\n",
       "            </dl>\n",
       "        </div>\n",
       "        \n",
       "            </div>\n",
       "        "
      ],
      "text/plain": [
       "<pyspark.sql.session.SparkSession at 0x7f9d177be518>"
      ]
     },
     "execution_count": 3,
     "metadata": {},
     "output_type": "execute_result"
    }
   ],
   "source": [
    "spark"
   ]
  },
  {
   "cell_type": "code",
   "execution_count": 4,
   "metadata": {},
   "outputs": [
    {
     "data": {
      "text/plain": [
       "[('spark.driver.port', '36173'),\n",
       " ('spark.app.name', 'Sparkify-X'),\n",
       " ('spark.rdd.compress', 'True'),\n",
       " ('spark.serializer.objectStreamReset', '100'),\n",
       " ('spark.master', 'local[*]'),\n",
       " ('spark.app.id', 'local-1589482890158'),\n",
       " ('spark.executor.id', 'driver'),\n",
       " ('spark.submit.deployMode', 'client'),\n",
       " ('spark.driver.host', '3e7609394bb1'),\n",
       " ('spark.ui.showConsoleProgress', 'true')]"
      ]
     },
     "execution_count": 4,
     "metadata": {},
     "output_type": "execute_result"
    }
   ],
   "source": [
    "spark.sparkContext.getConf().getAll()"
   ]
  },
  {
   "cell_type": "code",
   "execution_count": null,
   "metadata": {},
   "outputs": [],
   "source": []
  },
  {
   "cell_type": "markdown",
   "metadata": {},
   "source": [
    "# Load and Clean Dataset\n",
    "In this workspace, the mini-dataset file is `mini_sparkify_event_data.json`. Load and clean the dataset, checking for invalid or missing data - for example, records without userids or sessionids. "
   ]
  },
  {
   "cell_type": "code",
   "execution_count": 5,
   "metadata": {},
   "outputs": [],
   "source": [
    "path = \"mini_sparkify_event_data.json\"\n",
    "user_log = spark.read.json(path)"
   ]
  },
  {
   "cell_type": "code",
   "execution_count": 6,
   "metadata": {},
   "outputs": [
    {
     "data": {
      "text/plain": [
       "[Row(artist='Martha Tilston', auth='Logged In', firstName='Colin', gender='M', itemInSession=50, lastName='Freeman', length=277.89016, level='paid', location='Bakersfield, CA', method='PUT', page='NextSong', registration=1538173362000, sessionId=29, song='Rockpools', status=200, ts=1538352117000, userAgent='Mozilla/5.0 (Windows NT 6.1; WOW64; rv:31.0) Gecko/20100101 Firefox/31.0', userId='30'),\n",
       " Row(artist='Five Iron Frenzy', auth='Logged In', firstName='Micah', gender='M', itemInSession=79, lastName='Long', length=236.09424, level='free', location='Boston-Cambridge-Newton, MA-NH', method='PUT', page='NextSong', registration=1538331630000, sessionId=8, song='Canada', status=200, ts=1538352180000, userAgent='\"Mozilla/5.0 (Windows NT 6.1; WOW64) AppleWebKit/537.36 (KHTML, like Gecko) Chrome/37.0.2062.103 Safari/537.36\"', userId='9'),\n",
       " Row(artist='Adam Lambert', auth='Logged In', firstName='Colin', gender='M', itemInSession=51, lastName='Freeman', length=282.8273, level='paid', location='Bakersfield, CA', method='PUT', page='NextSong', registration=1538173362000, sessionId=29, song='Time For Miracles', status=200, ts=1538352394000, userAgent='Mozilla/5.0 (Windows NT 6.1; WOW64; rv:31.0) Gecko/20100101 Firefox/31.0', userId='30')]"
      ]
     },
     "execution_count": 6,
     "metadata": {},
     "output_type": "execute_result"
    }
   ],
   "source": [
    "user_log.take(3)"
   ]
  },
  {
   "cell_type": "code",
   "execution_count": 7,
   "metadata": {},
   "outputs": [
    {
     "name": "stdout",
     "output_type": "stream",
     "text": [
      "+--------------------+\n",
      "|                page|\n",
      "+--------------------+\n",
      "|              Cancel|\n",
      "|    Submit Downgrade|\n",
      "|         Thumbs Down|\n",
      "|                Home|\n",
      "|           Downgrade|\n",
      "|         Roll Advert|\n",
      "|              Logout|\n",
      "|       Save Settings|\n",
      "|Cancellation Conf...|\n",
      "|               About|\n",
      "| Submit Registration|\n",
      "|            Settings|\n",
      "|               Login|\n",
      "|            Register|\n",
      "|     Add to Playlist|\n",
      "|          Add Friend|\n",
      "|            NextSong|\n",
      "|           Thumbs Up|\n",
      "|                Help|\n",
      "|             Upgrade|\n",
      "|               Error|\n",
      "|      Submit Upgrade|\n",
      "+--------------------+\n",
      "\n"
     ]
    }
   ],
   "source": [
    "user_log.select(\"page\").dropDuplicates().show(30)"
   ]
  },
  {
   "cell_type": "code",
   "execution_count": 8,
   "metadata": {},
   "outputs": [
    {
     "name": "stdout",
     "output_type": "stream",
     "text": [
      "root\n",
      " |-- artist: string (nullable = true)\n",
      " |-- auth: string (nullable = true)\n",
      " |-- firstName: string (nullable = true)\n",
      " |-- gender: string (nullable = true)\n",
      " |-- itemInSession: long (nullable = true)\n",
      " |-- lastName: string (nullable = true)\n",
      " |-- length: double (nullable = true)\n",
      " |-- level: string (nullable = true)\n",
      " |-- location: string (nullable = true)\n",
      " |-- method: string (nullable = true)\n",
      " |-- page: string (nullable = true)\n",
      " |-- registration: long (nullable = true)\n",
      " |-- sessionId: long (nullable = true)\n",
      " |-- song: string (nullable = true)\n",
      " |-- status: long (nullable = true)\n",
      " |-- ts: long (nullable = true)\n",
      " |-- userAgent: string (nullable = true)\n",
      " |-- userId: string (nullable = true)\n",
      "\n"
     ]
    }
   ],
   "source": [
    "user_log.printSchema()"
   ]
  },
  {
   "cell_type": "code",
   "execution_count": 9,
   "metadata": {},
   "outputs": [],
   "source": [
    "col_list = user_log.schema.names"
   ]
  },
  {
   "cell_type": "code",
   "execution_count": null,
   "metadata": {},
   "outputs": [],
   "source": []
  },
  {
   "cell_type": "code",
   "execution_count": 10,
   "metadata": {},
   "outputs": [
    {
     "data": {
      "text/plain": [
       "286500"
      ]
     },
     "execution_count": 10,
     "metadata": {},
     "output_type": "execute_result"
    }
   ],
   "source": [
    "user_log.count()"
   ]
  },
  {
   "cell_type": "code",
   "execution_count": 11,
   "metadata": {},
   "outputs": [],
   "source": [
    "empty_strings_dict = {}\n",
    "for col in col_list:\n",
    " empty_strings_dict[col] = user_log.filter(user_log[col] == '').count()   "
   ]
  },
  {
   "cell_type": "code",
   "execution_count": 12,
   "metadata": {},
   "outputs": [],
   "source": [
    "null_val_dict = {}\n",
    "for col in col_list:\n",
    " null_val_dict[col] = user_log.filter(user_log[col].isNull()).count()\n"
   ]
  },
  {
   "cell_type": "code",
   "execution_count": 13,
   "metadata": {},
   "outputs": [
    {
     "data": {
      "text/plain": [
       "{'artist': 58392,\n",
       " 'auth': 0,\n",
       " 'firstName': 8346,\n",
       " 'gender': 8346,\n",
       " 'itemInSession': 0,\n",
       " 'lastName': 8346,\n",
       " 'length': 58392,\n",
       " 'level': 0,\n",
       " 'location': 8346,\n",
       " 'method': 0,\n",
       " 'page': 0,\n",
       " 'registration': 8346,\n",
       " 'sessionId': 0,\n",
       " 'song': 58392,\n",
       " 'status': 0,\n",
       " 'ts': 0,\n",
       " 'userAgent': 8346,\n",
       " 'userId': 0}"
      ]
     },
     "execution_count": 13,
     "metadata": {},
     "output_type": "execute_result"
    }
   ],
   "source": [
    "null_val_dict"
   ]
  },
  {
   "cell_type": "code",
   "execution_count": 14,
   "metadata": {},
   "outputs": [
    {
     "data": {
      "text/plain": [
       "{'artist': 0,\n",
       " 'auth': 0,\n",
       " 'firstName': 0,\n",
       " 'gender': 0,\n",
       " 'itemInSession': 0,\n",
       " 'lastName': 0,\n",
       " 'length': 0,\n",
       " 'level': 0,\n",
       " 'location': 0,\n",
       " 'method': 0,\n",
       " 'page': 0,\n",
       " 'registration': 0,\n",
       " 'sessionId': 0,\n",
       " 'song': 0,\n",
       " 'status': 0,\n",
       " 'ts': 0,\n",
       " 'userAgent': 0,\n",
       " 'userId': 8346}"
      ]
     },
     "execution_count": 14,
     "metadata": {},
     "output_type": "execute_result"
    }
   ],
   "source": [
    "empty_strings_dict"
   ]
  },
  {
   "cell_type": "code",
   "execution_count": 15,
   "metadata": {},
   "outputs": [
    {
     "data": {
      "text/plain": [
       "286500"
      ]
     },
     "execution_count": 15,
     "metadata": {},
     "output_type": "execute_result"
    }
   ],
   "source": [
    "#user_log = user_log.dropna(how = 'any', subset = [\"userId\", \"sessionId\"])\n",
    "user_log.count()"
   ]
  },
  {
   "cell_type": "code",
   "execution_count": 16,
   "metadata": {},
   "outputs": [],
   "source": [
    "user_log = user_log.filter(user_log['userId'] != \"\")"
   ]
  },
  {
   "cell_type": "code",
   "execution_count": 17,
   "metadata": {},
   "outputs": [
    {
     "data": {
      "text/plain": [
       "278154"
      ]
     },
     "execution_count": 17,
     "metadata": {},
     "output_type": "execute_result"
    }
   ],
   "source": [
    "user_log.count()"
   ]
  },
  {
   "cell_type": "code",
   "execution_count": 18,
   "metadata": {},
   "outputs": [
    {
     "name": "stdout",
     "output_type": "stream",
     "text": [
      "+--------------------+\n",
      "|                page|\n",
      "+--------------------+\n",
      "|              Cancel|\n",
      "|    Submit Downgrade|\n",
      "|         Thumbs Down|\n",
      "|                Home|\n",
      "|           Downgrade|\n",
      "|         Roll Advert|\n",
      "|              Logout|\n",
      "|       Save Settings|\n",
      "|Cancellation Conf...|\n",
      "|               About|\n",
      "|            Settings|\n",
      "|     Add to Playlist|\n",
      "|          Add Friend|\n",
      "|            NextSong|\n",
      "|           Thumbs Up|\n",
      "|                Help|\n",
      "|             Upgrade|\n",
      "|               Error|\n",
      "|      Submit Upgrade|\n",
      "+--------------------+\n",
      "\n"
     ]
    }
   ],
   "source": [
    "user_log.select(\"page\").dropDuplicates().show()"
   ]
  },
  {
   "cell_type": "code",
   "execution_count": null,
   "metadata": {},
   "outputs": [],
   "source": []
  },
  {
   "cell_type": "code",
   "execution_count": 19,
   "metadata": {},
   "outputs": [],
   "source": [
    "total_locations = user_log.select(\"location\").dropDuplicates().sort(\"location\").count()"
   ]
  },
  {
   "cell_type": "code",
   "execution_count": 20,
   "metadata": {},
   "outputs": [
    {
     "name": "stdout",
     "output_type": "stream",
     "text": [
      "+-------------+\n",
      "| registration|\n",
      "+-------------+\n",
      "|1521380675000|\n",
      "|1526739206000|\n",
      "|1526838391000|\n",
      "|1528403713000|\n",
      "|1528560242000|\n",
      "|1528772084000|\n",
      "|1528780738000|\n",
      "|1529027541000|\n",
      "|1529252604000|\n",
      "|1529643103000|\n",
      "|1529934689000|\n",
      "|1530306321000|\n",
      "|1530333492000|\n",
      "|1530514394000|\n",
      "|1530674962000|\n",
      "|1530763799000|\n",
      "|1530789251000|\n",
      "|1531281160000|\n",
      "|1531350022000|\n",
      "|1531679695000|\n",
      "+-------------+\n",
      "only showing top 20 rows\n",
      "\n"
     ]
    }
   ],
   "source": [
    "user_log.select(\"registration\").dropDuplicates().sort(\"registration\").show()"
   ]
  },
  {
   "cell_type": "code",
   "execution_count": 21,
   "metadata": {},
   "outputs": [
    {
     "name": "stdout",
     "output_type": "stream",
     "text": [
      "+-----+\n",
      "|level|\n",
      "+-----+\n",
      "| free|\n",
      "| paid|\n",
      "+-----+\n",
      "\n"
     ]
    }
   ],
   "source": [
    "\n",
    "num_levels = user_log.select(\"level\").dropDuplicates().sort(\"level\").show()"
   ]
  },
  {
   "cell_type": "code",
   "execution_count": 22,
   "metadata": {},
   "outputs": [
    {
     "name": "stdout",
     "output_type": "stream",
     "text": [
      "+------+\n",
      "|method|\n",
      "+------+\n",
      "|   GET|\n",
      "|   PUT|\n",
      "+------+\n",
      "\n"
     ]
    }
   ],
   "source": [
    "user_log.select(\"method\").dropDuplicates().sort(\"method\").show()"
   ]
  },
  {
   "cell_type": "code",
   "execution_count": 23,
   "metadata": {},
   "outputs": [
    {
     "name": "stdout",
     "output_type": "stream",
     "text": [
      "+---------+\n",
      "|     auth|\n",
      "+---------+\n",
      "|Cancelled|\n",
      "|Logged In|\n",
      "+---------+\n",
      "\n"
     ]
    }
   ],
   "source": [
    "user_log.select(\"auth\").dropDuplicates().sort(\"auth\").show()"
   ]
  },
  {
   "cell_type": "code",
   "execution_count": 24,
   "metadata": {},
   "outputs": [
    {
     "name": "stdout",
     "output_type": "stream",
     "text": [
      "+------+\n",
      "|status|\n",
      "+------+\n",
      "|   200|\n",
      "|   307|\n",
      "|   404|\n",
      "+------+\n",
      "\n"
     ]
    }
   ],
   "source": [
    "user_log.select(\"status\").dropDuplicates().sort(\"status\").show()"
   ]
  },
  {
   "cell_type": "code",
   "execution_count": 25,
   "metadata": {},
   "outputs": [
    {
     "name": "stdout",
     "output_type": "stream",
     "text": [
      "+-------------+\n",
      "|itemInSession|\n",
      "+-------------+\n",
      "|          720|\n",
      "|         1258|\n",
      "|          278|\n",
      "|          964|\n",
      "|           26|\n",
      "|          474|\n",
      "|          243|\n",
      "|           65|\n",
      "|         1224|\n",
      "|           29|\n",
      "|         1277|\n",
      "|          558|\n",
      "|          418|\n",
      "|          541|\n",
      "|          270|\n",
      "|          222|\n",
      "|          730|\n",
      "|          938|\n",
      "|         1145|\n",
      "|          293|\n",
      "+-------------+\n",
      "only showing top 20 rows\n",
      "\n"
     ]
    }
   ],
   "source": [
    "user_log.select(\"itemInSession\").dropDuplicates().sort(\"status\").show()\n"
   ]
  },
  {
   "cell_type": "code",
   "execution_count": 26,
   "metadata": {},
   "outputs": [],
   "source": [
    "location = user_log.select(\"location\").dropDuplicates().sort(\"location\")"
   ]
  },
  {
   "cell_type": "code",
   "execution_count": 27,
   "metadata": {},
   "outputs": [
    {
     "name": "stdout",
     "output_type": "stream",
     "text": [
      "+--------+\n",
      "|  length|\n",
      "+--------+\n",
      "|    null|\n",
      "| 0.78322|\n",
      "| 2.16771|\n",
      "| 4.04853|\n",
      "|  4.8322|\n",
      "|  6.3473|\n",
      "| 7.83628|\n",
      "| 8.30649|\n",
      "| 9.01179|\n",
      "|10.03057|\n",
      "|10.52689|\n",
      "|11.20608|\n",
      "|11.25832|\n",
      "|11.36281|\n",
      "|11.49342|\n",
      "|11.54567|\n",
      "|11.93751|\n",
      "|11.98975|\n",
      "|12.22485|\n",
      "|12.30322|\n",
      "+--------+\n",
      "only showing top 20 rows\n",
      "\n"
     ]
    }
   ],
   "source": [
    "user_log.select(\"length\").dropDuplicates().sort(\"length\").show()\n"
   ]
  },
  {
   "cell_type": "code",
   "execution_count": 28,
   "metadata": {},
   "outputs": [
    {
     "name": "stdout",
     "output_type": "stream",
     "text": [
      "+---------+\n",
      "|sessionId|\n",
      "+---------+\n",
      "|       29|\n",
      "|       26|\n",
      "|      474|\n",
      "|      964|\n",
      "|     1697|\n",
      "|     1806|\n",
      "|     2040|\n",
      "|     1950|\n",
      "|     2214|\n",
      "|      418|\n",
      "|       65|\n",
      "|      541|\n",
      "|      558|\n",
      "|     1010|\n",
      "|     1224|\n",
      "|     1277|\n",
      "|     1258|\n",
      "|     1360|\n",
      "|     1840|\n",
      "|     2173|\n",
      "+---------+\n",
      "only showing top 20 rows\n",
      "\n"
     ]
    }
   ],
   "source": [
    "user_log.select(\"sessionId\").dropDuplicates().show()"
   ]
  },
  {
   "cell_type": "code",
   "execution_count": 29,
   "metadata": {},
   "outputs": [],
   "source": [
    "#user_log.select([\"page\", \"auth\", \"level\",\"hour\"]).filter(user_log.userId == \"18\").orderBy(user_log.hour).show(1000000)"
   ]
  },
  {
   "cell_type": "markdown",
   "metadata": {},
   "source": [
    "# Exploratory Data Analysis\n",
    "When you're working with the full dataset, perform EDA by loading a small subset of the data and doing basic manipulations within Spark. In this workspace, you are already provided a small subset of data you can explore.\n",
    "\n",
    "### Define Churn\n",
    "\n",
    "Once you've done some preliminary analysis, create a column `Churn` to use as the label for your model. I suggest using the `Cancellation Confirmation` events to define your churn, which happen for both paid and free users. As a bonus task, you can also look into the `Downgrade` events.\n",
    "\n",
    "### Explore Data\n",
    "Once you've defined churn, perform some exploratory data analysis to observe the behavior for users who stayed vs users who churned. You can start by exploring aggregates on these two groups of users, observing how much of a specific action they experienced per a certain time unit or number of songs played."
   ]
  },
  {
   "cell_type": "code",
   "execution_count": 30,
   "metadata": {},
   "outputs": [],
   "source": [
    "churned_users = user_log.select([\"userId\"]).filter(user_log.page == \"Cancellation Confirmation\")\n",
    "churned_users = churned_users.toPandas()\n",
    "\n",
    "churned_users = churned_users.userId.tolist()"
   ]
  },
  {
   "cell_type": "code",
   "execution_count": 31,
   "metadata": {},
   "outputs": [
    {
     "data": {
      "text/plain": [
       "['18',\n",
       " '32',\n",
       " '125',\n",
       " '105',\n",
       " '17',\n",
       " '143',\n",
       " '101',\n",
       " '129',\n",
       " '121',\n",
       " '51',\n",
       " '87',\n",
       " '122',\n",
       " '12',\n",
       " '58',\n",
       " '73',\n",
       " '3',\n",
       " '106',\n",
       " '103',\n",
       " '28',\n",
       " '54',\n",
       " '29',\n",
       " '70',\n",
       " '53',\n",
       " '100011',\n",
       " '100001',\n",
       " '100024',\n",
       " '100006',\n",
       " '100019',\n",
       " '100003',\n",
       " '100023',\n",
       " '100005',\n",
       " '100017',\n",
       " '100025',\n",
       " '100009',\n",
       " '100012',\n",
       " '100013',\n",
       " '100022',\n",
       " '100014',\n",
       " '100015',\n",
       " '100021',\n",
       " '100007',\n",
       " '200001',\n",
       " '200024',\n",
       " '200011',\n",
       " '200021',\n",
       " '200018',\n",
       " '200015',\n",
       " '200017',\n",
       " '200016',\n",
       " '200020',\n",
       " '300007',\n",
       " '300001']"
      ]
     },
     "execution_count": 31,
     "metadata": {},
     "output_type": "execute_result"
    }
   ],
   "source": [
    "churned_users"
   ]
  },
  {
   "cell_type": "code",
   "execution_count": 32,
   "metadata": {},
   "outputs": [],
   "source": [
    "get_churn_users = udf(lambda x: 1 if( x in churned_users) else 0)\n",
    "set_churn       = udf(lambda x: 1 if x == \"Cancellation Confirmation\" else 0)"
   ]
  },
  {
   "cell_type": "code",
   "execution_count": 33,
   "metadata": {},
   "outputs": [],
   "source": [
    "user_log = user_log.withColumn('Churn', get_churn_users(\"userId\"))"
   ]
  },
  {
   "cell_type": "code",
   "execution_count": 34,
   "metadata": {},
   "outputs": [
    {
     "name": "stdout",
     "output_type": "stream",
     "text": [
      "+-----+\n",
      "|Churn|\n",
      "+-----+\n",
      "|    0|\n",
      "|    1|\n",
      "+-----+\n",
      "\n"
     ]
    }
   ],
   "source": [
    "user_log.select(\"Churn\").dropDuplicates().show()"
   ]
  },
  {
   "cell_type": "code",
   "execution_count": 35,
   "metadata": {},
   "outputs": [],
   "source": [
    "#get_churn = udf(lambda x: True if(x  == \"Cancellation Confirmation\") else False)\n",
    "#user_log = user_log.withColumn('Churn', get_churn(user_log.page))"
   ]
  },
  {
   "cell_type": "code",
   "execution_count": 36,
   "metadata": {},
   "outputs": [
    {
     "name": "stdout",
     "output_type": "stream",
     "text": [
      "+-----+------------+\n",
      "|Churn|count(Churn)|\n",
      "+-----+------------+\n",
      "|    0|      233290|\n",
      "|    1|       44864|\n",
      "+-----+------------+\n",
      "\n"
     ]
    }
   ],
   "source": [
    "test = user_log.groupby(user_log.Churn).agg({\"Churn\":\"count\"})\n",
    "test.show()"
   ]
  },
  {
   "cell_type": "code",
   "execution_count": null,
   "metadata": {},
   "outputs": [],
   "source": []
  },
  {
   "cell_type": "code",
   "execution_count": 37,
   "metadata": {},
   "outputs": [],
   "source": [
    "get_hour = udf(lambda x: datetime.datetime.fromtimestamp(x / 1000.0). hour)\n",
    "get_month = udf(lambda x: datetime.datetime.fromtimestamp(x / 1000.0). month)\n",
    "user_log = user_log.withColumn(\"hour\", get_hour(user_log.ts))\n",
    "user_log = user_log.withColumn(\"month\", get_month(user_log.ts))\n"
   ]
  },
  {
   "cell_type": "code",
   "execution_count": 38,
   "metadata": {},
   "outputs": [
    {
     "data": {
      "text/plain": [
       "[Row(artist='Martha Tilston', auth='Logged In', firstName='Colin', gender='M', itemInSession=50, lastName='Freeman', length=277.89016, level='paid', location='Bakersfield, CA', method='PUT', page='NextSong', registration=1538173362000, sessionId=29, song='Rockpools', status=200, ts=1538352117000, userAgent='Mozilla/5.0 (Windows NT 6.1; WOW64; rv:31.0) Gecko/20100101 Firefox/31.0', userId='30', Churn='0', hour='0', month='10'),\n",
       " Row(artist='Five Iron Frenzy', auth='Logged In', firstName='Micah', gender='M', itemInSession=79, lastName='Long', length=236.09424, level='free', location='Boston-Cambridge-Newton, MA-NH', method='PUT', page='NextSong', registration=1538331630000, sessionId=8, song='Canada', status=200, ts=1538352180000, userAgent='\"Mozilla/5.0 (Windows NT 6.1; WOW64) AppleWebKit/537.36 (KHTML, like Gecko) Chrome/37.0.2062.103 Safari/537.36\"', userId='9', Churn='0', hour='0', month='10')]"
      ]
     },
     "execution_count": 38,
     "metadata": {},
     "output_type": "execute_result"
    }
   ],
   "source": [
    "user_log.take(2)\n"
   ]
  },
  {
   "cell_type": "code",
   "execution_count": 39,
   "metadata": {},
   "outputs": [],
   "source": [
    "songs_in_hour = user_log.filter(user_log.page == \"NextSong\").groupby(user_log.Churn , user_log.hour).count().orderBy(user_log.hour.cast(\"float\"))"
   ]
  },
  {
   "cell_type": "code",
   "execution_count": 40,
   "metadata": {},
   "outputs": [
    {
     "name": "stdout",
     "output_type": "stream",
     "text": [
      "+-----+-----+\n",
      "|month|count|\n",
      "+-----+-----+\n",
      "|   11| 7831|\n",
      "|   10|37033|\n",
      "+-----+-----+\n",
      "\n"
     ]
    }
   ],
   "source": [
    "thumbs_up = user_log.filter(user_log.page == \"Thumbs Up\").groupby(user_log.Churn, user_log.hour ).count()\n",
    "thumbs_dn = user_log.filter(user_log.page == \"Thumbs Down\").groupby(user_log.Churn,user_log.hour ).count()\n",
    "advert = user_log.filter(user_log.page == \"Roll Advert\").groupby(user_log.Churn ,user_log.hour).count()\n",
    "playlist = user_log.filter(user_log.page == \"Add to Playlist\").groupby(user_log.Churn,user_log.hour ).count()\n",
    "downgrade = user_log.filter(user_log.page == \"Downgrade\").groupby(user_log.Churn,user_log.hour).count()\n",
    "downgrade_month = user_log.filter(user_log.page == \"Downgrade\").groupby(user_log.Churn,user_log.month).count()\n",
    "upgrade_month = user_log.filter(user_log.page == \"Upgrade\").groupby(user_log.Churn, user_log.month ).count()\n",
    "ns = user_log.filter(user_log.page == \"NextSong\").groupby(user_log.Churn, user_log.month ).count()\n",
    "c = user_log.filter(user_log.Churn == \"1\").groupby(user_log.month ).count()\n",
    "\n",
    "#for i in churned_users:\n",
    "#    c = user_log.select('userId', 'month').filter(user_log.userId == i)\n",
    "#c = user_log.select('month').filter(user_log.Churn == \"1\").dropDuplicates().count()\n",
    "#c.select('userId').dropDuplicates().show()\n",
    "#.groupby(user_log.Churn == 'true').count()\n",
    "c.show()\n"
   ]
  },
  {
   "cell_type": "code",
   "execution_count": 41,
   "metadata": {},
   "outputs": [
    {
     "data": {
      "text/plain": [
       "Churn\n",
       "0    AxesSubplot(0.125,0.125;0.775x0.755)\n",
       "1    AxesSubplot(0.125,0.125;0.775x0.755)\n",
       "dtype: object"
      ]
     },
     "execution_count": 41,
     "metadata": {},
     "output_type": "execute_result"
    },
    {
     "data": {
      "image/png": "[encoded data removed]",
      "text/plain": [
       "<matplotlib.figure.Figure at 0x7f9d16f4b6a0>"
      ]
     },
     "metadata": {
      "needs_background": "light"
     },
     "output_type": "display_data"
    }
   ],
   "source": [
    "plist = playlist.toPandas()\n",
    "plist.head()\n",
    "ax = plt.gca()\n",
    "ax.set_xlabel('Hours from 0-24', fontsize=13)\n",
    "ax.set_ylabel('Number of playlist', fontsize= 13)\n",
    "plist.groupby('Churn').plot(x='hour', y='count', use_index=True , ax=ax)"
   ]
  },
  {
   "cell_type": "code",
   "execution_count": 42,
   "metadata": {},
   "outputs": [
    {
     "name": "stdout",
     "output_type": "stream",
     "text": [
      "  Churn month   count\n",
      "1     0    10   88071\n",
      "3     1    10   30031\n",
      "0     1    11    6363\n",
      "2     0    11  103639\n",
      "4     0    12       4\n",
      "<class 'pandas.core.frame.DataFrame'>\n",
      "Int64Index: 5 entries, 1 to 4\n",
      "Data columns (total 3 columns):\n",
      "Churn    5 non-null object\n",
      "month    5 non-null object\n",
      "count    5 non-null int64\n",
      "dtypes: int64(1), object(2)\n",
      "memory usage: 160.0+ bytes\n",
      "None\n",
      "  Churn month  count\n",
      "4     0    12      4\n"
     ]
    },
    {
     "data": {
      "text/plain": [
       "(5, 3)"
      ]
     },
     "execution_count": 42,
     "metadata": {},
     "output_type": "execute_result"
    },
    {
     "data": {
      "image/png": "[encoded data removed]",
      "text/plain": [
       "<matplotlib.figure.Figure at 0x7f9d14e4ea20>"
      ]
     },
     "metadata": {
      "needs_background": "light"
     },
     "output_type": "display_data"
    }
   ],
   "source": [
    "ns1 = ns.toPandas()\n",
    "ns1.sort_values(by=['month'], inplace=True)\n",
    "print(ns1.head())\n",
    "print(ns1.info())\n",
    "print(ns1[ns1['month']== str(12)])\n",
    "fig,axes = plt.subplots(nrows=1, ncols=2)\n",
    "#ax = plt.gca()\n",
    "#figsize=(10,8)\n",
    "#ax.set_xlabel('Hours from 0-24', fontsize=13)\n",
    "ax.set_ylabel('Number of songs', fontsize= 13)\n",
    "nsgrp = ns1.groupby('Churn')\n",
    "nsgrp.get_group('1').plot(x='month', y='count', kind = 'bar', use_index=True ,legend=True, ax=axes[0])\n",
    "\n",
    "\n",
    "    \n",
    "ns1[ns1['Churn'] == '0']['Churn'].value_counts()\n",
    "ns1.shape\n",
    "#.plot(x='month', kind = 'bar', use_index=True ,legend=True, ax=axes[1])\n",
    "#ax.legend([\"Non Churned Users\", \"Churned Users\"])\n"
   ]
  },
  {
   "cell_type": "code",
   "execution_count": 43,
   "metadata": {},
   "outputs": [
    {
     "name": "stdout",
     "output_type": "stream",
     "text": [
      "  Churn month  count\n",
      "1     0    10    227\n",
      "3     1    10    105\n",
      "0     1    11      7\n",
      "2     0    11    160\n"
     ]
    },
    {
     "data": {
      "text/plain": [
       "<matplotlib.legend.Legend at 0x7f9d14d8d320>"
      ]
     },
     "execution_count": 43,
     "metadata": {},
     "output_type": "execute_result"
    },
    {
     "data": {
      "image/png": "[encoded data removed]",
      "text/plain": [
       "<matplotlib.figure.Figure at 0x7f9d14d251d0>"
      ]
     },
     "metadata": {
      "needs_background": "light"
     },
     "output_type": "display_data"
    }
   ],
   "source": [
    "upgrade_month1 = upgrade_month.toPandas()\n",
    "upgrade_month1.sort_values(by=['month'], inplace=True)\n",
    "print(upgrade_month1.head())\n",
    "\n",
    "ax = plt.gca()\n",
    "#ax.set_xlabel('Hours from 0-24', fontsize=13)\n",
    "ax.set_ylabel('Number of upgrades', fontsize= 13)\n",
    "upgrade_month1.groupby('Churn').plot(x='month', y='count', kind = 'line', use_index=True ,legend=True, subplots = True, ax=ax)\n",
    "ax.legend([\"Non Churned Users\", \"Churned Users\"])"
   ]
  },
  {
   "cell_type": "code",
   "execution_count": 44,
   "metadata": {},
   "outputs": [
    {
     "name": "stdout",
     "output_type": "stream",
     "text": [
      "  Churn month  count\n",
      "1     0    10    757\n",
      "3     1    10    268\n",
      "0     1    11     69\n",
      "2     0    11    961\n",
      "<class 'pandas.core.frame.DataFrame'>\n",
      "RangeIndex: 48 entries, 0 to 47\n",
      "Data columns (total 3 columns):\n",
      "Churn    48 non-null object\n",
      "hour     48 non-null object\n",
      "count    48 non-null int64\n",
      "dtypes: int64(1), object(2)\n",
      "memory usage: 1.2+ KB\n"
     ]
    },
    {
     "data": {
      "image/png": "[encoded data removed]",
      "text/plain": [
       "<matplotlib.figure.Figure at 0x7f9d177ce630>"
      ]
     },
     "metadata": {
      "needs_background": "light"
     },
     "output_type": "display_data"
    }
   ],
   "source": [
    "dngrade = downgrade.toPandas()\n",
    "dngrade_month = downgrade_month.toPandas()\n",
    "dngrade_month.sort_values(by=['month'], inplace=True)\n",
    "print(dngrade_month.head())\n",
    "dngrade.info()\n",
    "fig,axes = plt.subplots(nrows=1, ncols=2)\n",
    "figsize = (14, 8)\n",
    "fontsize = 13\n",
    "#ax.set_xlabel('Hours from 0-24', fontsize=13)\n",
    "#ax.set_ylabel('Number of `downgrade', fontsize= 13)\n",
    "dngrade.groupby('Churn').plot(x='hour', y='count', use_index=True ,figsize=figsize, legend=True, ax=axes[0])\n",
    "dngrade_month.groupby('Churn').plot(x='month', y='count', kind='line', use_index=True ,legend=True, ax=axes[1])\n",
    "\n",
    "\n",
    "axes[0].legend([\"Non Churned Users\", \"Churned Users\"]);\n",
    "axes[1].legend([\"Non Churned Users\", \"Churned Users\"]);"
   ]
  },
  {
   "cell_type": "code",
   "execution_count": 45,
   "metadata": {},
   "outputs": [
    {
     "data": {
      "text/plain": [
       "Churn\n",
       "0    AxesSubplot(0.125,0.125;0.775x0.755)\n",
       "1    AxesSubplot(0.125,0.125;0.775x0.755)\n",
       "dtype: object"
      ]
     },
     "execution_count": 45,
     "metadata": {},
     "output_type": "execute_result"
    },
    {
     "data": {
      "image/png": "[encoded data removed]",
      "text/plain": [
       "<matplotlib.figure.Figure at 0x7f9d14cad6a0>"
      ]
     },
     "metadata": {
      "needs_background": "light"
     },
     "output_type": "display_data"
    }
   ],
   "source": [
    "add = advert.toPandas()\n",
    "add.head()\n",
    "ax = plt.gca()\n",
    "ax.set_xlabel('Hours from 0-24', fontsize=13)\n",
    "ax.set_ylabel('Number of Advert', fontsize= 13)\n",
    "add.groupby('Churn').plot(x='hour', y='count', use_index=True , ax=ax)"
   ]
  },
  {
   "cell_type": "code",
   "execution_count": 46,
   "metadata": {},
   "outputs": [
    {
     "data": {
      "text/plain": [
       "Churn\n",
       "0    AxesSubplot(0.125,0.125;0.775x0.755)\n",
       "1    AxesSubplot(0.125,0.125;0.775x0.755)\n",
       "dtype: object"
      ]
     },
     "execution_count": 46,
     "metadata": {},
     "output_type": "execute_result"
    },
    {
     "data": {
      "image/png": "[encoded data removed]",
      "text/plain": [
       "<matplotlib.figure.Figure at 0x7f9d14c857f0>"
      ]
     },
     "metadata": {
      "needs_background": "light"
     },
     "output_type": "display_data"
    }
   ],
   "source": [
    "tdn = thumbs_dn.toPandas()\n",
    "tdn.head()\n",
    "ax = plt.gca()\n",
    "ax.set_xlabel('Hours from 0-24', fontsize=13)\n",
    "ax.set_ylabel('Number of Thumbs down', fontsize= 13)\n",
    "tdn.groupby('Churn').plot(x='hour', y='count', use_index=True , ax=ax)"
   ]
  },
  {
   "cell_type": "code",
   "execution_count": 47,
   "metadata": {},
   "outputs": [
    {
     "data": {
      "text/plain": [
       "Churn\n",
       "0    AxesSubplot(0.125,0.125;0.775x0.755)\n",
       "1    AxesSubplot(0.125,0.125;0.775x0.755)\n",
       "dtype: object"
      ]
     },
     "execution_count": 47,
     "metadata": {},
     "output_type": "execute_result"
    },
    {
     "data": {
      "image/png": "[encoded data removed]",
      "text/plain": [
       "<matplotlib.figure.Figure at 0x7f9d14cbe668>"
      ]
     },
     "metadata": {
      "needs_background": "light"
     },
     "output_type": "display_data"
    }
   ],
   "source": [
    "tups = thumbs_up.toPandas()\n",
    "tups.head()\n",
    "ax = plt.gca()\n",
    "ax.set_xlabel('Hours from 0-24', fontsize=13)\n",
    "ax.set_ylabel('Number of Thumbs up', fontsize= 13)\n",
    "tups.groupby('Churn').plot(x='hour', y='count', use_index=True , ax=ax)"
   ]
  },
  {
   "cell_type": "code",
   "execution_count": 48,
   "metadata": {},
   "outputs": [],
   "source": [
    "#songs_in_hour.select(\"Churn\").dropDuplicates().show()"
   ]
  },
  {
   "cell_type": "code",
   "execution_count": 49,
   "metadata": {},
   "outputs": [
    {
     "name": "stdout",
     "output_type": "stream",
     "text": [
      "<class 'pandas.core.frame.DataFrame'>\n",
      "RangeIndex: 48 entries, 0 to 47\n",
      "Data columns (total 3 columns):\n",
      "Churn    48 non-null object\n",
      "hour     48 non-null object\n",
      "count    48 non-null int64\n",
      "dtypes: int64(1), object(2)\n",
      "memory usage: 1.2+ KB\n",
      "None\n"
     ]
    },
    {
     "data": {
      "image/png": "[encoded data removed]",
      "text/plain": [
       "<matplotlib.figure.Figure at 0x7f9d14adceb8>"
      ]
     },
     "metadata": {
      "needs_background": "light"
     },
     "output_type": "display_data"
    }
   ],
   "source": [
    "#churn_usr_songs = songs_in_hour.filter(songs_in_hour.Churn == 'true')\n",
    "churn_usr_songs = songs_in_hour.toPandas()\n",
    "print(churn_usr_songs.info())\n",
    "churn_usr_songs['Churn'].value_counts()\n",
    "ax = plt.gca()\n",
    "ax.set_xlabel('Hours from 0-24', fontsize=13)\n",
    "ax.set_ylabel('Number of Songs', fontsize= 13)\n",
    "\n",
    "churn_usr_songs.groupby('Churn').plot(x='hour',y='count',title = 'Churned vs Non Churned Users' ,use_index=True,figsize = (9,7) ,legend = True, grid = True, ax=ax)\n",
    "ax.legend([\"Non Churned Users\", \"Churned Users\"]);"
   ]
  },
  {
   "cell_type": "code",
   "execution_count": 50,
   "metadata": {},
   "outputs": [
    {
     "name": "stdout",
     "output_type": "stream",
     "text": [
      "  Churn hour  count\n",
      "0     0    0   7527\n",
      "1     1    0   1535\n",
      "2     0    1   7035\n",
      "3     1    1   1353\n",
      "4     1    2   1322\n"
     ]
    },
    {
     "data": {
      "text/plain": [
       "<matplotlib.axes._subplots.AxesSubplot at 0x7f9d14a36780>"
      ]
     },
     "execution_count": 50,
     "metadata": {},
     "output_type": "execute_result"
    },
    {
     "data": {
      "image/png": "[encoded data removed]",
      "text/plain": [
       "<matplotlib.figure.Figure at 0x7f9d14a43c50>"
      ]
     },
     "metadata": {
      "needs_background": "light"
     },
     "output_type": "display_data"
    }
   ],
   "source": [
    "print(churn_usr_songs.head())\n",
    "churn_usr_songs.groupby('Churn')['count'].sum().plot(kind='bar')\n",
    "#x = churn_usr_songs.groupby('Churn')\n",
    "#y = x.get_group('true')\n",
    "#y.head()\n",
    "#['count'].plot(kind='bar')"
   ]
  },
  {
   "cell_type": "code",
   "execution_count": 51,
   "metadata": {},
   "outputs": [
    {
     "name": "stdout",
     "output_type": "stream",
     "text": [
      "<class 'pandas.core.frame.DataFrame'>\n",
      "RangeIndex: 278154 entries, 0 to 278153\n",
      "Data columns (total 21 columns):\n",
      "artist           228108 non-null object\n",
      "auth             278154 non-null object\n",
      "firstName        278154 non-null object\n",
      "gender           278154 non-null object\n",
      "itemInSession    278154 non-null int64\n",
      "lastName         278154 non-null object\n",
      "length           228108 non-null float64\n",
      "level            278154 non-null object\n",
      "location         278154 non-null object\n",
      "method           278154 non-null object\n",
      "page             278154 non-null object\n",
      "registration     278154 non-null int64\n",
      "sessionId        278154 non-null int64\n",
      "song             228108 non-null object\n",
      "status           278154 non-null int64\n",
      "ts               278154 non-null int64\n",
      "userAgent        278154 non-null object\n",
      "userId           278154 non-null object\n",
      "Churn            278154 non-null object\n",
      "hour             278154 non-null object\n",
      "month            278154 non-null object\n",
      "dtypes: float64(1), int64(5), object(15)\n",
      "memory usage: 44.6+ MB\n",
      "2018    278154\n",
      "Name: year, dtype: int64\n",
      "2     11843\n",
      "1     11298\n",
      "9     11292\n",
      "16    11007\n",
      "30    10964\n",
      "20    10882\n",
      "15    10882\n",
      "19    10122\n",
      "26    10117\n",
      "23     9866\n",
      "29     9726\n",
      "27     9615\n",
      "10     9380\n",
      "21     9306\n",
      "8      9028\n",
      "12     8964\n",
      "5      8505\n",
      "11     8375\n",
      "6      8372\n",
      "24     8242\n",
      "22     8025\n",
      "3      7934\n",
      "13     7855\n",
      "25     7836\n",
      "18     7671\n",
      "17     7632\n",
      "7      7258\n",
      "14     7171\n",
      "4      7059\n",
      "28     6825\n",
      "31     5102\n",
      "Name: day, dtype: int64\n"
     ]
    }
   ],
   "source": [
    "from datetime import datetime\n",
    "from datetime import date\n",
    "df_user_log     = user_log.toPandas()\n",
    "df_user_log.info()\n",
    "df_user_log['time'] = df_user_log['ts'].apply(lambda x: (datetime.fromtimestamp(x/1000.0). hour))\n",
    "df_user_log['day'] = df_user_log['ts'].apply(lambda x: (datetime.fromtimestamp(x/1000.0). day))\n",
    "df_user_log['month'] = df_user_log['ts'].apply(lambda x: (datetime.fromtimestamp(x/1000.0). month))\n",
    "df_user_log['year'] = df_user_log['ts'].apply(lambda x: (datetime.fromtimestamp(x/1000.0). year))\n",
    "print(df_user_log['year'].value_counts())\n",
    "print(df_user_log['day'].value_counts())"
   ]
  },
  {
   "cell_type": "code",
   "execution_count": 52,
   "metadata": {},
   "outputs": [],
   "source": [
    "#df_user_log[df_user_log['Churn'] == True]['month'].drop_dup\n",
    "#.value_counts(sort=False, ascending=True)\n",
    "#plot(kind='bar')[]"
   ]
  },
  {
   "cell_type": "code",
   "execution_count": 53,
   "metadata": {},
   "outputs": [],
   "source": [
    "#df_user_log[df_user_log['userId'] == '32'].groupby('time')['page'].head(200)\n",
    "#df_user_log[df_user_log['userId'] == '32'].groupby('time')['page'].value_counts().plot(kind='bar', figsize=(16,8))\n",
    "#df_user_log['time'].drop_duplicates().value_counts()\n",
    "#df_user_log[df_user_log['userId'] == '18']['page'].value_counts().plot(kind='bar', figsize=(8,5))"
   ]
  },
  {
   "cell_type": "code",
   "execution_count": 54,
   "metadata": {},
   "outputs": [
    {
     "name": "stdout",
     "output_type": "stream",
     "text": [
      "F    154578\n",
      "M    123576\n",
      "Name: gender, dtype: int64\n",
      "count     278154\n",
      "unique         2\n",
      "top            F\n",
      "freq      154578\n",
      "Name: gender, dtype: object\n"
     ]
    },
    {
     "data": {
      "text/plain": [
       "<matplotlib.axes._subplots.AxesSubplot at 0x7f9cfa5dee48>"
      ]
     },
     "execution_count": 54,
     "metadata": {},
     "output_type": "execute_result"
    },
    {
     "data": {
      "image/png": "[encoded data removed]",
      "text/plain": [
       "<matplotlib.figure.Figure at 0x7f9d14b7fd30>"
      ]
     },
     "metadata": {
      "needs_background": "light"
     },
     "output_type": "display_data"
    }
   ],
   "source": [
    "print(df_user_log['gender'].value_counts())\n",
    "print(df_user_log['gender'].describe())\n",
    "ax = plt.gca()\n",
    "#df_user_log['gender'].value_counts().plot(kind='bar', position = 1, ax=ax)\n",
    "#df_user_log.groupby([\"Churn\"])['gender'].value_counts().plot(kind='bar', ax=ax)\n",
    "df_user_log.groupby([\"Churn\", 'userId'])['gender'].unique().value_counts().plot(kind='bar')"
   ]
  },
  {
   "cell_type": "code",
   "execution_count": 55,
   "metadata": {},
   "outputs": [],
   "source": [
    "#ax = plt.gca()\n",
    "#df_user_log['gender'].value_counts().plot(kind='bar', position = 1, ax=ax)\n",
    "#VISUALIZE\n",
    "#figsize = (15, 20)\n",
    "#fontsize = 17\n",
    "#fig,axes = plt.subplots(nrows=5, ncols=1, figsize=figsize)\n",
    "#fig.subplots_adjust(top=5, bottom = 2.5, hspace= 1, wspace = 13)\n",
    "#df_user_log[df_user_log[\"Churn\"] == 'true']['location'].value_counts().plot(kind='bar', ax=axes[0])\n",
    "#df_user_log[df_user_log[\"Churn\"] == 'false']['location'].value_counts().plot(kind='bar', ax=axes[1])"
   ]
  },
  {
   "cell_type": "code",
   "execution_count": 56,
   "metadata": {},
   "outputs": [
    {
     "data": {
      "text/plain": [
       "<matplotlib.axes._subplots.AxesSubplot at 0x7f9cfa5dee48>"
      ]
     },
     "execution_count": 56,
     "metadata": {},
     "output_type": "execute_result"
    }
   ],
   "source": [
    "df_user_log.groupby([\"page\"])['gender'].value_counts().plot(kind='bar', ax=ax)"
   ]
  },
  {
   "cell_type": "code",
   "execution_count": null,
   "metadata": {},
   "outputs": [],
   "source": []
  },
  {
   "cell_type": "code",
   "execution_count": 57,
   "metadata": {},
   "outputs": [
    {
     "data": {
      "text/plain": [
       "{'0': Int64Index([ 0,  2,  5,  7,  9, 10, 12, 15, 16, 19, 20, 23, 25, 26, 29, 31, 33,\n",
       "             35, 36, 38, 40, 42, 44, 47],\n",
       "            dtype='int64'),\n",
       " '1': Int64Index([ 1,  3,  4,  6,  8, 11, 13, 14, 17, 18, 21, 22, 24, 27, 28, 30, 32,\n",
       "             34, 37, 39, 41, 43, 45, 46],\n",
       "            dtype='int64')}"
      ]
     },
     "execution_count": 57,
     "metadata": {},
     "output_type": "execute_result"
    }
   ],
   "source": [
    "import pandas as pd\n",
    "churn_usr_songs.hour = pd.to_numeric(churn_usr_songs.hour)\n",
    "grp = churn_usr_songs.groupby('Churn')\n",
    "grp.groups\n",
    "#grp.get_group('true').plot(x ='hour' , y = 'count')\n",
    "#['hour', 'count'].plot()\n",
    "#plt.plot(churn_usr_songs['hour'] , churn_usr_songs['count'])"
   ]
  },
  {
   "cell_type": "code",
   "execution_count": 58,
   "metadata": {},
   "outputs": [],
   "source": [
    "import matplotlib.pyplot as plt\n",
    "\n",
    "def explore_data(df, target_col, exit):\n",
    "    num = df.select([target_col]).filter(df.Churn == exit).dropDuplicates().count()\n",
    "    return num\n",
    "\n",
    "\n",
    "def plot_pie_chart(data1, data2, label1= 'Churned', label2='Not Churned'):\n",
    "# Pie chart, where the slices will be ordered and plotted counter-clockwise:\n",
    " labels = label1, label2\n",
    " sizes = [data1, data2]\n",
    " explode = (0, 0.1)  # only \"explode\" the 2nd slice - churned users\n",
    "\n",
    " fig1, ax1 = plt.subplots()\n",
    " ax1.pie(sizes, explode=explode, labels=labels, autopct='%1.1f%%',\n",
    "        shadow=True, startangle=90)\n",
    " ax1.axis('equal')  # Equal aspect ratio ensures that pie is drawn as a circle.\n",
    "\n",
    " plt.show()"
   ]
  },
  {
   "cell_type": "code",
   "execution_count": 59,
   "metadata": {},
   "outputs": [
    {
     "name": "stdout",
     "output_type": "stream",
     "text": [
      "114\n"
     ]
    }
   ],
   "source": [
    "total_users = user_log.select(\"userId\").dropDuplicates().count()\n",
    "\n",
    "num_churned_user    = explore_data(user_log, \"userId\", \"1\")\n",
    "num_non_churned_user = explore_data(user_log,\"userId\", \"0\")\n",
    "\n",
    "num_males    = user_log.select([\"userId\"]).filter(user_log.gender == \"M\").dropDuplicates().count()\n",
    "num_females  = user_log.select([\"userId\"]).filter(user_log.gender == \"F\").dropDuplicates().count()\n",
    "loc = user_log.select([\"location\"]).dropDuplicates().count()\n",
    "print(loc)\n",
    "#num_non_churned_user = user_log.select([\"userId\"]).filter(user_log.Churn == \"false\").dropDuplicates().count()"
   ]
  },
  {
   "cell_type": "code",
   "execution_count": 60,
   "metadata": {},
   "outputs": [
    {
     "data": {
      "image/png": "[encoded data removed]",
      "text/plain": [
       "<matplotlib.figure.Figure at 0x7f9cfa7feb38>"
      ]
     },
     "metadata": {},
     "output_type": "display_data"
    },
    {
     "data": {
      "image/png": "[encoded data removed]",
      "text/plain": [
       "<matplotlib.figure.Figure at 0x7f9cfa7c5c88>"
      ]
     },
     "metadata": {},
     "output_type": "display_data"
    },
    {
     "name": "stdout",
     "output_type": "stream",
     "text": [
      "TOTAL USERS 225\n",
      "CHURNED USERS: 52\n",
      "NON CHURNED USERS 173\n"
     ]
    }
   ],
   "source": [
    "plot_pie_chart(num_churned_user, num_non_churned_user)\n",
    "plot_pie_chart(num_males, num_females, 'males', 'females')\n",
    "\n",
    "\n",
    "print(\"TOTAL USERS\", total_users)\n",
    "print(\"CHURNED USERS:\",    num_churned_user)\n",
    "print(\"NON CHURNED USERS\", num_non_churned_user)"
   ]
  },
  {
   "cell_type": "code",
   "execution_count": 61,
   "metadata": {},
   "outputs": [
    {
     "data": {
      "text/html": [
       "<script>requirejs.config({paths: { 'plotly': ['https://cdn.plot.ly/plotly-latest.min']},});if(!window.Plotly) {{require(['plotly'],function(plotly) {window.Plotly=plotly;});}}</script>"
      ],
      "text/vnd.plotly.v1+html": [
       "<script>requirejs.config({paths: { 'plotly': ['https://cdn.plot.ly/plotly-latest.min']},});if(!window.Plotly) {{require(['plotly'],function(plotly) {window.Plotly=plotly;});}}</script>"
      ]
     },
     "metadata": {},
     "output_type": "display_data"
    }
   ],
   "source": [
    "#https://www.kaggle.com/bandiang2/prediction-of-customer-churn-at-a-bank\n",
    "\n",
    "churn    = df_user_log[df_user_log[\"Churn\"] == '1']\n",
    "not_churn= df_user_log[df_user_log[\"Churn\"] == '0']\n",
    "\n",
    "#function  for pie plot for customer attrition types\n",
    "import plotly.graph_objs as go #visualization\n",
    "import plotly.offline as py #visualization\n",
    "py.init_notebook_mode(connected=True) #visualization\n",
    "import plotly.graph_objs as go #visualization\n",
    "import plotly.tools as tls #visualization\n",
    "import plotly.figure_factory as ff #visualization\n",
    "\n",
    "def plot_pie(column) :\n",
    "    \n",
    "    trace1 = go.Pie(values  = churn[column].value_counts().values.tolist(),\n",
    "                    labels  = churn[column].value_counts().keys().tolist(),\n",
    "                    hoverinfo = \"label+percent+name\",\n",
    "                    domain  = dict(x = [0,.48]),\n",
    "                    name    = \"Churn Customers\",\n",
    "                    marker  = dict(line = dict(width = 2,\n",
    "                                               color = \"rgb(243,243,243)\")\n",
    "                                  ),\n",
    "                    hole    = .6\n",
    "                   )\n",
    "    trace2 = go.Pie(values  = not_churn[column].value_counts().values.tolist(),\n",
    "                    labels  = not_churn[column].value_counts().keys().tolist(),\n",
    "                    hoverinfo = \"label+percent+name\",\n",
    "                    marker  = dict(line = dict(width = 2,\n",
    "                                               color = \"rgb(243,243,243)\")\n",
    "                                  ),\n",
    "                    domain  = dict(x = [.52,1]),\n",
    "                    hole    = .6,\n",
    "                    name    = \"Non churn customers\" \n",
    "                   )\n",
    "\n",
    "\n",
    "    layout = go.Layout(dict(title = column + \" distribution in customer attrition \",\n",
    "                            plot_bgcolor  = \"rgb(243,243,243)\",\n",
    "                            paper_bgcolor = \"rgb(243,243,243)\",\n",
    "                            annotations = [dict(text = \"churn customers\",\n",
    "                                                font = dict(size = 13),\n",
    "                                                showarrow = False,\n",
    "                                                x = .15, y = .5),\n",
    "                                           dict(text = \"Non churn customers\",\n",
    "                                                font = dict(size = 13),\n",
    "                                                showarrow = False,\n",
    "                                                x = .88,y = .5\n",
    "                                               )\n",
    "                                          ]\n",
    "                           )\n",
    "                      )\n",
    "    data = [trace1,trace2]\n",
    "    fig  = go.Figure(data = data,layout = layout)\n",
    "    py.iplot(fig)\n",
    "#for all categorical columns plot pie\n",
    "#for i in cat_cols :\n",
    "    #plot_pie(i)"
   ]
  },
  {
   "cell_type": "code",
   "execution_count": 62,
   "metadata": {},
   "outputs": [],
   "source": [
    "def get_total_number(df, cat_col, new_col):\n",
    " df[new_col] = df.groupby('userId')[cat_col].transform('sum')\n",
    " return df\n",
    "\n",
    "def trend_over_time(df, eventcol, eventtype, time , xtitle , ytitle , kind = 'bar'):\n",
    "    fig1, ax1 = plt.subplots(1,2)\n",
    "    figsize=(12,5)\n",
    "    \n",
    "    ax1[0].set_xlabel(xtitle, fontsize=13)\n",
    "    ax1[0].set_ylabel(ytitle, fontsize= 13)\n",
    "    \n",
    "    ax1[1].set_xlabel('Month', fontsize=13)\n",
    "    ax1[1].set_ylabel('Non Chruned', fontsize= 13)\n",
    "    \n",
    "    y = df[df['Churn'] == '1'][[eventcol, time]]\n",
    "    y[y[eventcol] == eventtype][time].value_counts(normalize=False).plot(kind=kind, use_index=True, figsize=figsize, ax=ax1[0])\n",
    "    s = df[df['Churn'] == '0'][[eventcol, time]]\n",
    "    s[s[eventcol] == eventtype][time].value_counts(normalize=False).plot(kind=kind, use_index=True, figsize=figsize, ax=ax1[1])"
   ]
  },
  {
   "cell_type": "code",
   "execution_count": 63,
   "metadata": {},
   "outputs": [],
   "source": [
    "cat_col_names = df_user_log['page'].unique()\n",
    "cat_col_names = list(cat_col_names)\n",
    "\n",
    "tt = pd.get_dummies(df_user_log, columns=['gender', 'page'])\n",
    "\n",
    "#print(tt.info())\n",
    "for name in cat_col_names:\n",
    " tt = get_total_number(tt, 'page_'+name,'num_'+name)"
   ]
  },
  {
   "cell_type": "code",
   "execution_count": 64,
   "metadata": {},
   "outputs": [
    {
     "name": "stdout",
     "output_type": "stream",
     "text": [
      "(225, 62)\n",
      "Index(['artist', 'auth', 'firstName', 'itemInSession', 'lastName', 'length',\n",
      "       'level', 'location', 'method', 'registration', 'sessionId', 'song',\n",
      "       'status', 'ts', 'userAgent', 'userId', 'Churn', 'hour', 'month', 'time',\n",
      "       'day', 'year', 'gender_F', 'gender_M', 'page_About', 'page_Add Friend',\n",
      "       'page_Add to Playlist', 'page_Cancel', 'page_Cancellation Confirmation',\n",
      "       'page_Downgrade', 'page_Error', 'page_Help', 'page_Home', 'page_Logout',\n",
      "       'page_NextSong', 'page_Roll Advert', 'page_Save Settings',\n",
      "       'page_Settings', 'page_Submit Downgrade', 'page_Submit Upgrade',\n",
      "       'page_Thumbs Down', 'page_Thumbs Up', 'page_Upgrade', 'num_NextSong',\n",
      "       'num_Add to Playlist', 'num_Roll Advert', 'num_Thumbs Up',\n",
      "       'num_Downgrade', 'num_Thumbs Down', 'num_Home', 'num_Logout',\n",
      "       'num_Help', 'num_Upgrade', 'num_Add Friend', 'num_Settings',\n",
      "       'num_Submit Upgrade', 'num_About', 'num_Submit Downgrade', 'num_Error',\n",
      "       'num_Save Settings', 'num_Cancel', 'num_Cancellation Confirmation'],\n",
      "      dtype='object')\n"
     ]
    },
    {
     "data": {
      "image/png": "[encoded data removed]",
      "text/plain": [
       "<matplotlib.figure.Figure at 0x7f9cfc447278>"
      ]
     },
     "metadata": {
      "needs_background": "light"
     },
     "output_type": "display_data"
    },
    {
     "data": {
      "image/png": "[encoded data removed]",
      "text/plain": [
       "<matplotlib.figure.Figure at 0x7f9cfd57a860>"
      ]
     },
     "metadata": {
      "needs_background": "light"
     },
     "output_type": "display_data"
    },
    {
     "data": {
      "image/png": "[encoded data removed]",
      "text/plain": [
       "<matplotlib.figure.Figure at 0x7f9cfd57a9e8>"
      ]
     },
     "metadata": {
      "needs_background": "light"
     },
     "output_type": "display_data"
    },
    {
     "data": {
      "image/png": "[encoded data removed]",
      "text/plain": [
       "<matplotlib.figure.Figure at 0x7f9cfd8d6be0>"
      ]
     },
     "metadata": {
      "needs_background": "light"
     },
     "output_type": "display_data"
    },
    {
     "data": {
      "image/png": "[encoded data removed]",
      "text/plain": [
       "<matplotlib.figure.Figure at 0x7f9cfdad0e48>"
      ]
     },
     "metadata": {
      "needs_background": "light"
     },
     "output_type": "display_data"
    },
    {
     "data": {
      "image/png": "[encoded data removed]",
      "text/plain": [
       "<matplotlib.figure.Figure at 0x7f9cfdcfc828>"
      ]
     },
     "metadata": {
      "needs_background": "light"
     },
     "output_type": "display_data"
    },
    {
     "data": {
      "image/png": "[encoded data removed]",
      "text/plain": [
       "<matplotlib.figure.Figure at 0x7f9cfd9caa90>"
      ]
     },
     "metadata": {
      "needs_background": "light"
     },
     "output_type": "display_data"
    },
    {
     "data": {
      "image/png": "[encoded data removed]",
      "text/plain": [
       "<matplotlib.figure.Figure at 0x7f9cfded7dd8>"
      ]
     },
     "metadata": {
      "needs_background": "light"
     },
     "output_type": "display_data"
    }
   ],
   "source": [
    "tt = tt.drop_duplicates(subset=['userId'], keep='first')\n",
    "print(tt.shape)\n",
    "x = df_user_log[df_user_log['page'] == 'Cancellation Confirmation'][['day', 'month']]\n",
    "#y = df_user_log[df_user_log['Churn'] == '1'][['page', 'month']]\n",
    "\n",
    "print(tt.columns)\n",
    "x\n",
    "x['month'].value_counts(sort=False, normalize=True).plot(kind='bar', use_index=True)\n",
    "trend_over_time(df_user_log, 'page' , 'NextSong' , 'month' , 'Months' , 'Songs Played')\n",
    "trend_over_time(df_user_log, 'page' , 'Downgrade', 'month' , 'Months' , 'Downgrade')\n",
    "trend_over_time(df_user_log, 'page' , 'Upgrade', 'month' , 'Months' , 'Upgrade')\n",
    "trend_over_time(df_user_log, 'page' , 'Submit Downgrade', 'month' , 'Months' , 'Submit Downgrade')\n",
    "trend_over_time(df_user_log, 'page' , 'Submit Upgrade', 'month' , 'Months' , 'Submit Upgrade')\n",
    "trend_over_time(df_user_log, 'page' , 'Thumbs Down', 'month' , 'Months' , 'Thumbs Down')\n",
    "trend_over_time(df_user_log, 'page' , 'Thumbs Up', 'month' , 'Months' , 'Thumbs Up')\n",
    "\n",
    "\n",
    "#y[y['page'] == 'NextSong']['month'].value_counts().plot(kind='bar', use_index=True)"
   ]
  },
  {
   "cell_type": "code",
   "execution_count": 65,
   "metadata": {},
   "outputs": [
    {
     "data": {
      "application/vnd.plotly.v1+json": {
       "data": [
        {
         "domain": {
          "x": [
           0,
           0.48
          ]
         },
         "hole": 0.6,
         "hoverinfo": "label+percent+name",
         "labels": [
          "M",
          "F"
         ],
         "marker": {
          "line": {
           "color": "rgb(243,243,243)",
           "width": 2
          }
         },
         "name": "Churn Customers",
         "type": "pie",
         "values": [
          25696,
          19168
         ]
        },
        {
         "domain": {
          "x": [
           0.52,
           1
          ]
         },
         "hole": 0.6,
         "hoverinfo": "label+percent+name",
         "labels": [
          "F",
          "M"
         ],
         "marker": {
          "line": {
           "color": "rgb(243,243,243)",
           "width": 2
          }
         },
         "name": "Non churn customers",
         "type": "pie",
         "values": [
          135410,
          97880
         ]
        }
       ],
       "layout": {
        "annotations": [
         {
          "font": {
           "size": 13
          },
          "showarrow": false,
          "text": "churn customers",
          "x": 0.15,
          "y": 0.5
         },
         {
          "font": {
           "size": 13
          },
          "showarrow": false,
          "text": "Non churn customers",
          "x": 0.88,
          "y": 0.5
         }
        ],
        "paper_bgcolor": "rgb(243,243,243)",
        "plot_bgcolor": "rgb(243,243,243)",
        "title": "gender distribution in customer attrition "
       }
      },
      "text/html": [
       "<div id=\"1cee6d17-8b1d-439b-bdfb-f143b7e85cf9\" style=\"height: 525px; width: 100%;\" class=\"plotly-graph-div\"></div><script type=\"text/javascript\">require([\"plotly\"], function(Plotly) { window.PLOTLYENV=window.PLOTLYENV || {};window.PLOTLYENV.BASE_URL=\"https://plot.ly\";Plotly.newPlot(\"1cee6d17-8b1d-439b-bdfb-f143b7e85cf9\", [{\"type\": \"pie\", \"values\": [25696, 19168], \"labels\": [\"M\", \"F\"], \"hoverinfo\": \"label+percent+name\", \"domain\": {\"x\": [0, 0.48]}, \"name\": \"Churn Customers\", \"marker\": {\"line\": {\"width\": 2, \"color\": \"rgb(243,243,243)\"}}, \"hole\": 0.6}, {\"type\": \"pie\", \"values\": [135410, 97880], \"labels\": [\"F\", \"M\"], \"hoverinfo\": \"label+percent+name\", \"marker\": {\"line\": {\"width\": 2, \"color\": \"rgb(243,243,243)\"}}, \"domain\": {\"x\": [0.52, 1]}, \"hole\": 0.6, \"name\": \"Non churn customers\"}], {\"title\": \"gender distribution in customer attrition \", \"plot_bgcolor\": \"rgb(243,243,243)\", \"paper_bgcolor\": \"rgb(243,243,243)\", \"annotations\": [{\"text\": \"churn customers\", \"font\": {\"size\": 13}, \"showarrow\": false, \"x\": 0.15, \"y\": 0.5}, {\"text\": \"Non churn customers\", \"font\": {\"size\": 13}, \"showarrow\": false, \"x\": 0.88, \"y\": 0.5}]}, {\"showLink\": true, \"linkText\": \"Export to plot.ly\"})});</script>"
      ],
      "text/vnd.plotly.v1+html": [
       "<div id=\"1cee6d17-8b1d-439b-bdfb-f143b7e85cf9\" style=\"height: 525px; width: 100%;\" class=\"plotly-graph-div\"></div><script type=\"text/javascript\">require([\"plotly\"], function(Plotly) { window.PLOTLYENV=window.PLOTLYENV || {};window.PLOTLYENV.BASE_URL=\"https://plot.ly\";Plotly.newPlot(\"1cee6d17-8b1d-439b-bdfb-f143b7e85cf9\", [{\"type\": \"pie\", \"values\": [25696, 19168], \"labels\": [\"M\", \"F\"], \"hoverinfo\": \"label+percent+name\", \"domain\": {\"x\": [0, 0.48]}, \"name\": \"Churn Customers\", \"marker\": {\"line\": {\"width\": 2, \"color\": \"rgb(243,243,243)\"}}, \"hole\": 0.6}, {\"type\": \"pie\", \"values\": [135410, 97880], \"labels\": [\"F\", \"M\"], \"hoverinfo\": \"label+percent+name\", \"marker\": {\"line\": {\"width\": 2, \"color\": \"rgb(243,243,243)\"}}, \"domain\": {\"x\": [0.52, 1]}, \"hole\": 0.6, \"name\": \"Non churn customers\"}], {\"title\": \"gender distribution in customer attrition \", \"plot_bgcolor\": \"rgb(243,243,243)\", \"paper_bgcolor\": \"rgb(243,243,243)\", \"annotations\": [{\"text\": \"churn customers\", \"font\": {\"size\": 13}, \"showarrow\": false, \"x\": 0.15, \"y\": 0.5}, {\"text\": \"Non churn customers\", \"font\": {\"size\": 13}, \"showarrow\": false, \"x\": 0.88, \"y\": 0.5}]}, {\"showLink\": true, \"linkText\": \"Export to plot.ly\"})});</script>"
      ]
     },
     "metadata": {},
     "output_type": "display_data"
    }
   ],
   "source": [
    "plot_pie('gender')"
   ]
  },
  {
   "cell_type": "code",
   "execution_count": 66,
   "metadata": {},
   "outputs": [
    {
     "data": {
      "application/vnd.plotly.v1+json": {
       "data": [
        {
         "domain": {
          "x": [
           0,
           0.48
          ]
         },
         "hole": 0.6,
         "hoverinfo": "label+percent+name",
         "labels": [
          "NextSong",
          "Thumbs Up",
          "Home",
          "Add to Playlist",
          "Roll Advert",
          "Add Friend",
          "Logout",
          "Thumbs Down",
          "Downgrade",
          "Settings",
          "Help",
          "Upgrade",
          "Save Settings",
          "About",
          "Cancellation Confirmation",
          "Cancel",
          "Error",
          "Submit Upgrade",
          "Submit Downgrade"
         ],
         "marker": {
          "line": {
           "color": "rgb(243,243,243)",
           "width": 2
          }
         },
         "name": "Churn Customers",
         "type": "pie",
         "values": [
          36394,
          1859,
          1672,
          1038,
          967,
          636,
          553,
          496,
          337,
          270,
          239,
          112,
          58,
          56,
          52,
          52,
          32,
          32,
          9
         ]
        },
        {
         "domain": {
          "x": [
           0.52,
           1
          ]
         },
         "hole": 0.6,
         "hoverinfo": "label+percent+name",
         "labels": [
          "NextSong",
          "Thumbs Up",
          "Home",
          "Add to Playlist",
          "Add Friend",
          "Roll Advert",
          "Logout",
          "Thumbs Down",
          "Downgrade",
          "Settings",
          "Help",
          "About",
          "Upgrade",
          "Save Settings",
          "Error",
          "Submit Upgrade",
          "Submit Downgrade"
         ],
         "marker": {
          "line": {
           "color": "rgb(243,243,243)",
           "width": 2
          }
         },
         "name": "Non churn customers",
         "type": "pie",
         "values": [
          191714,
          10692,
          8410,
          5488,
          3641,
          2966,
          2673,
          2050,
          1718,
          1244,
          1215,
          439,
          387,
          252,
          220,
          127,
          54
         ]
        }
       ],
       "layout": {
        "annotations": [
         {
          "font": {
           "size": 13
          },
          "showarrow": false,
          "text": "churn customers",
          "x": 0.15,
          "y": 0.5
         },
         {
          "font": {
           "size": 13
          },
          "showarrow": false,
          "text": "Non churn customers",
          "x": 0.88,
          "y": 0.5
         }
        ],
        "paper_bgcolor": "rgb(243,243,243)",
        "plot_bgcolor": "rgb(243,243,243)",
        "title": "page distribution in customer attrition "
       }
      },
      "text/html": [
       "<div id=\"ec27fa46-c28c-474c-a066-f38184598379\" style=\"height: 525px; width: 100%;\" class=\"plotly-graph-div\"></div><script type=\"text/javascript\">require([\"plotly\"], function(Plotly) { window.PLOTLYENV=window.PLOTLYENV || {};window.PLOTLYENV.BASE_URL=\"https://plot.ly\";Plotly.newPlot(\"ec27fa46-c28c-474c-a066-f38184598379\", [{\"type\": \"pie\", \"values\": [36394, 1859, 1672, 1038, 967, 636, 553, 496, 337, 270, 239, 112, 58, 56, 52, 52, 32, 32, 9], \"labels\": [\"NextSong\", \"Thumbs Up\", \"Home\", \"Add to Playlist\", \"Roll Advert\", \"Add Friend\", \"Logout\", \"Thumbs Down\", \"Downgrade\", \"Settings\", \"Help\", \"Upgrade\", \"Save Settings\", \"About\", \"Cancellation Confirmation\", \"Cancel\", \"Error\", \"Submit Upgrade\", \"Submit Downgrade\"], \"hoverinfo\": \"label+percent+name\", \"domain\": {\"x\": [0, 0.48]}, \"name\": \"Churn Customers\", \"marker\": {\"line\": {\"width\": 2, \"color\": \"rgb(243,243,243)\"}}, \"hole\": 0.6}, {\"type\": \"pie\", \"values\": [191714, 10692, 8410, 5488, 3641, 2966, 2673, 2050, 1718, 1244, 1215, 439, 387, 252, 220, 127, 54], \"labels\": [\"NextSong\", \"Thumbs Up\", \"Home\", \"Add to Playlist\", \"Add Friend\", \"Roll Advert\", \"Logout\", \"Thumbs Down\", \"Downgrade\", \"Settings\", \"Help\", \"About\", \"Upgrade\", \"Save Settings\", \"Error\", \"Submit Upgrade\", \"Submit Downgrade\"], \"hoverinfo\": \"label+percent+name\", \"marker\": {\"line\": {\"width\": 2, \"color\": \"rgb(243,243,243)\"}}, \"domain\": {\"x\": [0.52, 1]}, \"hole\": 0.6, \"name\": \"Non churn customers\"}], {\"title\": \"page distribution in customer attrition \", \"plot_bgcolor\": \"rgb(243,243,243)\", \"paper_bgcolor\": \"rgb(243,243,243)\", \"annotations\": [{\"text\": \"churn customers\", \"font\": {\"size\": 13}, \"showarrow\": false, \"x\": 0.15, \"y\": 0.5}, {\"text\": \"Non churn customers\", \"font\": {\"size\": 13}, \"showarrow\": false, \"x\": 0.88, \"y\": 0.5}]}, {\"showLink\": true, \"linkText\": \"Export to plot.ly\"})});</script>"
      ],
      "text/vnd.plotly.v1+html": [
       "<div id=\"ec27fa46-c28c-474c-a066-f38184598379\" style=\"height: 525px; width: 100%;\" class=\"plotly-graph-div\"></div><script type=\"text/javascript\">require([\"plotly\"], function(Plotly) { window.PLOTLYENV=window.PLOTLYENV || {};window.PLOTLYENV.BASE_URL=\"https://plot.ly\";Plotly.newPlot(\"ec27fa46-c28c-474c-a066-f38184598379\", [{\"type\": \"pie\", \"values\": [36394, 1859, 1672, 1038, 967, 636, 553, 496, 337, 270, 239, 112, 58, 56, 52, 52, 32, 32, 9], \"labels\": [\"NextSong\", \"Thumbs Up\", \"Home\", \"Add to Playlist\", \"Roll Advert\", \"Add Friend\", \"Logout\", \"Thumbs Down\", \"Downgrade\", \"Settings\", \"Help\", \"Upgrade\", \"Save Settings\", \"About\", \"Cancellation Confirmation\", \"Cancel\", \"Error\", \"Submit Upgrade\", \"Submit Downgrade\"], \"hoverinfo\": \"label+percent+name\", \"domain\": {\"x\": [0, 0.48]}, \"name\": \"Churn Customers\", \"marker\": {\"line\": {\"width\": 2, \"color\": \"rgb(243,243,243)\"}}, \"hole\": 0.6}, {\"type\": \"pie\", \"values\": [191714, 10692, 8410, 5488, 3641, 2966, 2673, 2050, 1718, 1244, 1215, 439, 387, 252, 220, 127, 54], \"labels\": [\"NextSong\", \"Thumbs Up\", \"Home\", \"Add to Playlist\", \"Add Friend\", \"Roll Advert\", \"Logout\", \"Thumbs Down\", \"Downgrade\", \"Settings\", \"Help\", \"About\", \"Upgrade\", \"Save Settings\", \"Error\", \"Submit Upgrade\", \"Submit Downgrade\"], \"hoverinfo\": \"label+percent+name\", \"marker\": {\"line\": {\"width\": 2, \"color\": \"rgb(243,243,243)\"}}, \"domain\": {\"x\": [0.52, 1]}, \"hole\": 0.6, \"name\": \"Non churn customers\"}], {\"title\": \"page distribution in customer attrition \", \"plot_bgcolor\": \"rgb(243,243,243)\", \"paper_bgcolor\": \"rgb(243,243,243)\", \"annotations\": [{\"text\": \"churn customers\", \"font\": {\"size\": 13}, \"showarrow\": false, \"x\": 0.15, \"y\": 0.5}, {\"text\": \"Non churn customers\", \"font\": {\"size\": 13}, \"showarrow\": false, \"x\": 0.88, \"y\": 0.5}]}, {\"showLink\": true, \"linkText\": \"Export to plot.ly\"})});</script>"
      ]
     },
     "metadata": {},
     "output_type": "display_data"
    }
   ],
   "source": [
    "plot_pie('page')"
   ]
  },
  {
   "cell_type": "code",
   "execution_count": 67,
   "metadata": {},
   "outputs": [
    {
     "name": "stdout",
     "output_type": "stream",
     "text": [
      "['num_NextSong', 'num_Add to Playlist', 'num_Roll Advert', 'num_Thumbs Up', 'num_Downgrade', 'num_Thumbs Down', 'num_Home', 'num_Logout', 'num_Help', 'num_Upgrade', 'num_Add Friend', 'num_Settings', 'num_Submit Upgrade', 'num_About', 'num_Submit Downgrade', 'num_Error', 'num_Save Settings', 'num_Cancel', 'num_Cancellation Confirmation']\n"
     ]
    }
   ],
   "source": [
    "cols_to_plot=  []\n",
    "#fig, ax = plt.subplots(2, 1, figsize=(14, 4))\n",
    "#fig,ax = plt.subplots()\n",
    "for name in cat_col_names:\n",
    "  cols_to_plot.append('num_'+name)\n",
    "\n",
    "print(cols_to_plot)\n",
    "#tt.hist(column=cols_to_plot , bins=15, color=\"blue\", alpha=0.5, figsize=(20,20))  \n",
    "\n",
    "\n",
    "#mgrp = tt[tt['num_Cancellation Confirmation'] == 1].groupby('month')\n",
    "#mgrp.groups\n",
    "#for m in mgrp.groups:\n",
    "# print(m)\n",
    "\n",
    "#tt.groupby('Churn')['num_Downgrade'].hist(bins=15, color=\"blue\", alpha=0.5, figsize=(20,20), ax=ax)  \n",
    "#tt['num_dngrade'] = tt.groupby('userId')['page_Downgrade'].transform('sum')"
   ]
  },
  {
   "cell_type": "code",
   "execution_count": 68,
   "metadata": {},
   "outputs": [
    {
     "name": "stdout",
     "output_type": "stream",
     "text": [
      "(225, 19)\n"
     ]
    },
    {
     "data": {
      "image/png": "[encoded data removed]",
      "text/plain": [
       "<matplotlib.figure.Figure at 0x7f9cfe571ac8>"
      ]
     },
     "metadata": {
      "needs_background": "light"
     },
     "output_type": "display_data"
    }
   ],
   "source": [
    "import seaborn as sn\n",
    "\n",
    "fig, ax = plt.subplots(figsize=(18,20))  \n",
    "\n",
    "#cols_to_plot.append('Churn')\n",
    "\n",
    "df_tmp = tt[cols_to_plot]\n",
    "#df_tmp = tt[tt['Churn'] == 1]\n",
    "print(df_tmp.shape)\n",
    "#print(df_tmp['Churn'].head())\n",
    "corrMatrix= df_tmp[cols_to_plot].corr()\n",
    "sn.heatmap(corrMatrix, annot=True)\n",
    "plt.show()"
   ]
  },
  {
   "cell_type": "code",
   "execution_count": 69,
   "metadata": {},
   "outputs": [
    {
     "name": "stdout",
     "output_type": "stream",
     "text": [
      "      userId level  month                       page\n",
      "4622      18  paid     10                       Home\n",
      "4625      18  paid     10                   NextSong\n",
      "4632      18  paid     10                   NextSong\n",
      "4641      18  paid     10                   NextSong\n",
      "4650      18  paid     10                   NextSong\n",
      "4659      18  paid     10                   NextSong\n",
      "4660      18  paid     10                   Settings\n",
      "4666      18  paid     10                   NextSong\n",
      "4679      18  paid     10                   NextSong\n",
      "4684      18  paid     10                   NextSong\n",
      "4695      18  paid     10                   NextSong\n",
      "4702      18  paid     10                   NextSong\n",
      "4703      18  paid     10                   Settings\n",
      "4707      18  paid     10                   NextSong\n",
      "4717      18  paid     10                   NextSong\n",
      "4726      18  paid     10                   NextSong\n",
      "4733      18  paid     10                   NextSong\n",
      "4737      18  paid     10                   NextSong\n",
      "4744      18  paid     10                   NextSong\n",
      "4749      18  paid     10                   NextSong\n",
      "4753      18  paid     10                   NextSong\n",
      "4763      18  paid     10                   NextSong\n",
      "4764      18  paid     10                  Thumbs Up\n",
      "4770      18  paid     10                   NextSong\n",
      "4776      18  paid     10                   NextSong\n",
      "4782      18  paid     10                   NextSong\n",
      "4791      18  paid     10                   NextSong\n",
      "4792      18  paid     10                  Thumbs Up\n",
      "4795      18  paid     10                   NextSong\n",
      "4806      18  paid     10                   NextSong\n",
      "...      ...   ...    ...                        ...\n",
      "19375     18  paid     10                   NextSong\n",
      "19380     18  paid     10                   NextSong\n",
      "19392     18  paid     10                   NextSong\n",
      "19401     18  paid     10                   NextSong\n",
      "19402     18  paid     10                 Add Friend\n",
      "19407     18  paid     10                   NextSong\n",
      "19416     18  paid     10                   NextSong\n",
      "19424     18  paid     10                   NextSong\n",
      "19425     18  paid     10                  Thumbs Up\n",
      "19434     18  paid     10                   NextSong\n",
      "19441     18  paid     10                   NextSong\n",
      "19447     18  paid     10                   NextSong\n",
      "19455     18  paid     10                   NextSong\n",
      "19457     18  paid     10                   NextSong\n",
      "19465     18  paid     10                   NextSong\n",
      "19478     18  paid     10                   NextSong\n",
      "19488     18  paid     10                   NextSong\n",
      "19497     18  paid     10                   NextSong\n",
      "19503     18  paid     10                   NextSong\n",
      "19511     18  paid     10                   NextSong\n",
      "19525     18  paid     10                   NextSong\n",
      "19539     18  paid     10                   NextSong\n",
      "19546     18  paid     10                   NextSong\n",
      "19555     18  paid     10                   NextSong\n",
      "19564     18  paid     10                   NextSong\n",
      "19576     18  paid     10                   NextSong\n",
      "19583     18  paid     10                   NextSong\n",
      "19585     18  paid     10                  Downgrade\n",
      "19586     18  paid     10                     Cancel\n",
      "19592     18  paid     10  Cancellation Confirmation\n",
      "\n",
      "[513 rows x 4 columns]\n"
     ]
    }
   ],
   "source": [
    "print(df_user_log[df_user_log['userId']== '18'][['userId', 'level', 'month', 'page']])\n"
   ]
  },
  {
   "cell_type": "markdown",
   "metadata": {},
   "source": [
    "# Feature Engineering\n",
    "Once you've familiarized yourself with the data, build out the features you find promising to train your model on. To work with the full dataset, you can follow the following steps.\n",
    "- Write a script to extract the necessary features from the smaller subset of data\n",
    "- Ensure that your script is scalable, using the best practices discussed in Lesson 3\n",
    "- Try your script on the full data set, debugging your script if necessary\n",
    "\n",
    "If you are working in the classroom workspace, you can just extract features based on the small subset of data contained here. Be sure to transfer over this work to the larger dataset when you work on your Spark cluster."
   ]
  },
  {
   "cell_type": "code",
   "execution_count": 70,
   "metadata": {},
   "outputs": [
    {
     "name": "stdout",
     "output_type": "stream",
     "text": [
      "<class 'pandas.core.frame.DataFrame'>\n",
      "Int64Index: 225 entries, 0 to 252939\n",
      "Data columns (total 62 columns):\n",
      "artist                            110 non-null object\n",
      "auth                              225 non-null object\n",
      "firstName                         225 non-null object\n",
      "itemInSession                     225 non-null int64\n",
      "lastName                          225 non-null object\n",
      "length                            110 non-null float64\n",
      "level                             225 non-null object\n",
      "location                          225 non-null object\n",
      "method                            225 non-null object\n",
      "registration                      225 non-null int64\n",
      "sessionId                         225 non-null int64\n",
      "song                              110 non-null object\n",
      "status                            225 non-null int64\n",
      "ts                                225 non-null int64\n",
      "userAgent                         225 non-null object\n",
      "userId                            225 non-null object\n",
      "Churn                             225 non-null object\n",
      "hour                              225 non-null object\n",
      "month                             225 non-null int64\n",
      "time                              225 non-null int64\n",
      "day                               225 non-null int64\n",
      "year                              225 non-null int64\n",
      "gender_F                          225 non-null uint8\n",
      "gender_M                          225 non-null uint8\n",
      "page_About                        225 non-null uint8\n",
      "page_Add Friend                   225 non-null uint8\n",
      "page_Add to Playlist              225 non-null uint8\n",
      "page_Cancel                       225 non-null uint8\n",
      "page_Cancellation Confirmation    225 non-null uint8\n",
      "page_Downgrade                    225 non-null uint8\n",
      "page_Error                        225 non-null uint8\n",
      "page_Help                         225 non-null uint8\n",
      "page_Home                         225 non-null uint8\n",
      "page_Logout                       225 non-null uint8\n",
      "page_NextSong                     225 non-null uint8\n",
      "page_Roll Advert                  225 non-null uint8\n",
      "page_Save Settings                225 non-null uint8\n",
      "page_Settings                     225 non-null uint8\n",
      "page_Submit Downgrade             225 non-null uint8\n",
      "page_Submit Upgrade               225 non-null uint8\n",
      "page_Thumbs Down                  225 non-null uint8\n",
      "page_Thumbs Up                    225 non-null uint8\n",
      "page_Upgrade                      225 non-null uint8\n",
      "num_NextSong                      225 non-null float64\n",
      "num_Add to Playlist               225 non-null uint8\n",
      "num_Roll Advert                   225 non-null uint8\n",
      "num_Thumbs Up                     225 non-null float64\n",
      "num_Downgrade                     225 non-null uint8\n",
      "num_Thumbs Down                   225 non-null uint8\n",
      "num_Home                          225 non-null float64\n",
      "num_Logout                        225 non-null uint8\n",
      "num_Help                          225 non-null uint8\n",
      "num_Upgrade                       225 non-null uint8\n",
      "num_Add Friend                    225 non-null uint8\n",
      "num_Settings                      225 non-null uint8\n",
      "num_Submit Upgrade                225 non-null uint8\n",
      "num_About                         225 non-null uint8\n",
      "num_Submit Downgrade              225 non-null uint8\n",
      "num_Error                         225 non-null uint8\n",
      "num_Save Settings                 225 non-null uint8\n",
      "num_Cancel                        225 non-null uint8\n",
      "num_Cancellation Confirmation     225 non-null uint8\n",
      "dtypes: float64(4), int64(9), object(12), uint8(37)\n",
      "memory usage: 53.8+ KB\n"
     ]
    }
   ],
   "source": [
    "tt[tt.isna()].count()\n",
    "tt.columns\n",
    "#tt['Churn'] = pd.to_numeric(tt['Churn'])\n",
    "tt.info()"
   ]
  },
  {
   "cell_type": "code",
   "execution_count": 71,
   "metadata": {},
   "outputs": [
    {
     "data": {
      "text/html": [
       "<div>\n",
       "<style scoped>\n",
       "    .dataframe tbody tr th:only-of-type {\n",
       "        vertical-align: middle;\n",
       "    }\n",
       "\n",
       "    .dataframe tbody tr th {\n",
       "        vertical-align: top;\n",
       "    }\n",
       "\n",
       "    .dataframe thead th {\n",
       "        text-align: right;\n",
       "    }\n",
       "</style>\n",
       "<table border=\"1\" class=\"dataframe\">\n",
       "  <thead>\n",
       "    <tr style=\"text-align: right;\">\n",
       "      <th></th>\n",
       "      <th>userId</th>\n",
       "      <th>num_NextSong</th>\n",
       "      <th>num_Add to Playlist</th>\n",
       "      <th>num_Roll Advert</th>\n",
       "      <th>num_Thumbs Up</th>\n",
       "      <th>num_Downgrade</th>\n",
       "      <th>num_Thumbs Down</th>\n",
       "      <th>num_Home</th>\n",
       "      <th>num_Logout</th>\n",
       "      <th>num_Help</th>\n",
       "      <th>num_Upgrade</th>\n",
       "      <th>num_Add Friend</th>\n",
       "      <th>num_Settings</th>\n",
       "      <th>num_Submit Upgrade</th>\n",
       "      <th>num_About</th>\n",
       "      <th>num_Submit Downgrade</th>\n",
       "      <th>num_Error</th>\n",
       "      <th>num_Save Settings</th>\n",
       "      <th>Churn</th>\n",
       "    </tr>\n",
       "  </thead>\n",
       "  <tbody>\n",
       "    <tr>\n",
       "      <th>0</th>\n",
       "      <td>30</td>\n",
       "      <td>1417.0</td>\n",
       "      <td>47</td>\n",
       "      <td>72</td>\n",
       "      <td>62.0</td>\n",
       "      <td>6</td>\n",
       "      <td>17</td>\n",
       "      <td>70.0</td>\n",
       "      <td>20</td>\n",
       "      <td>5</td>\n",
       "      <td>14</td>\n",
       "      <td>25</td>\n",
       "      <td>13</td>\n",
       "      <td>1</td>\n",
       "      <td>3</td>\n",
       "      <td>1</td>\n",
       "      <td>1</td>\n",
       "      <td>1</td>\n",
       "      <td>0</td>\n",
       "    </tr>\n",
       "    <tr>\n",
       "      <th>1</th>\n",
       "      <td>9</td>\n",
       "      <td>2676.0</td>\n",
       "      <td>77</td>\n",
       "      <td>16</td>\n",
       "      <td>118.0</td>\n",
       "      <td>32</td>\n",
       "      <td>32</td>\n",
       "      <td>117.0</td>\n",
       "      <td>34</td>\n",
       "      <td>15</td>\n",
       "      <td>6</td>\n",
       "      <td>40</td>\n",
       "      <td>12</td>\n",
       "      <td>2</td>\n",
       "      <td>9</td>\n",
       "      <td>1</td>\n",
       "      <td>3</td>\n",
       "      <td>1</td>\n",
       "      <td>0</td>\n",
       "    </tr>\n",
       "    <tr>\n",
       "      <th>17</th>\n",
       "      <td>74</td>\n",
       "      <td>2400.0</td>\n",
       "      <td>80</td>\n",
       "      <td>22</td>\n",
       "      <td>135.0</td>\n",
       "      <td>31</td>\n",
       "      <td>25</td>\n",
       "      <td>84.0</td>\n",
       "      <td>25</td>\n",
       "      <td>13</td>\n",
       "      <td>3</td>\n",
       "      <td>43</td>\n",
       "      <td>17</td>\n",
       "      <td>2</td>\n",
       "      <td>4</td>\n",
       "      <td>1</td>\n",
       "      <td>1</td>\n",
       "      <td>1</td>\n",
       "      <td>0</td>\n",
       "    </tr>\n",
       "    <tr>\n",
       "      <th>22</th>\n",
       "      <td>54</td>\n",
       "      <td>2841.0</td>\n",
       "      <td>72</td>\n",
       "      <td>47</td>\n",
       "      <td>163.0</td>\n",
       "      <td>39</td>\n",
       "      <td>29</td>\n",
       "      <td>129.0</td>\n",
       "      <td>36</td>\n",
       "      <td>17</td>\n",
       "      <td>1</td>\n",
       "      <td>33</td>\n",
       "      <td>17</td>\n",
       "      <td>1</td>\n",
       "      <td>5</td>\n",
       "      <td>1</td>\n",
       "      <td>1</td>\n",
       "      <td>3</td>\n",
       "      <td>1</td>\n",
       "    </tr>\n",
       "    <tr>\n",
       "      <th>70</th>\n",
       "      <td>4</td>\n",
       "      <td>2048.0</td>\n",
       "      <td>59</td>\n",
       "      <td>4</td>\n",
       "      <td>95.0</td>\n",
       "      <td>21</td>\n",
       "      <td>26</td>\n",
       "      <td>80.0</td>\n",
       "      <td>24</td>\n",
       "      <td>12</td>\n",
       "      <td>4</td>\n",
       "      <td>46</td>\n",
       "      <td>10</td>\n",
       "      <td>1</td>\n",
       "      <td>6</td>\n",
       "      <td>0</td>\n",
       "      <td>4</td>\n",
       "      <td>2</td>\n",
       "      <td>0</td>\n",
       "    </tr>\n",
       "  </tbody>\n",
       "</table>\n",
       "</div>"
      ],
      "text/plain": [
       "   userId  num_NextSong  num_Add to Playlist  num_Roll Advert  num_Thumbs Up  \\\n",
       "0      30        1417.0                   47               72           62.0   \n",
       "1       9        2676.0                   77               16          118.0   \n",
       "17     74        2400.0                   80               22          135.0   \n",
       "22     54        2841.0                   72               47          163.0   \n",
       "70      4        2048.0                   59                4           95.0   \n",
       "\n",
       "    num_Downgrade  num_Thumbs Down  num_Home  num_Logout  num_Help  \\\n",
       "0               6               17      70.0          20         5   \n",
       "1              32               32     117.0          34        15   \n",
       "17             31               25      84.0          25        13   \n",
       "22             39               29     129.0          36        17   \n",
       "70             21               26      80.0          24        12   \n",
       "\n",
       "    num_Upgrade  num_Add Friend  num_Settings  num_Submit Upgrade  num_About  \\\n",
       "0            14              25            13                   1          3   \n",
       "1             6              40            12                   2          9   \n",
       "17            3              43            17                   2          4   \n",
       "22            1              33            17                   1          5   \n",
       "70            4              46            10                   1          6   \n",
       "\n",
       "    num_Submit Downgrade  num_Error  num_Save Settings Churn  \n",
       "0                      1          1                  1     0  \n",
       "1                      1          3                  1     0  \n",
       "17                     1          1                  1     0  \n",
       "22                     1          1                  3     1  \n",
       "70                     0          4                  2     0  "
      ]
     },
     "execution_count": 71,
     "metadata": {},
     "output_type": "execute_result"
    }
   ],
   "source": [
    "feature_df_pd = tt[['userId', 'num_NextSong', \n",
    "                   'num_Add to Playlist',\n",
    "                   'num_Roll Advert',\n",
    "                   'num_Thumbs Up', \n",
    "                   'num_Downgrade' , \n",
    "                   'num_Thumbs Down',\n",
    "                   'num_Home', \n",
    "                   'num_Logout',\n",
    "                   'num_Help',\n",
    "                   'num_Upgrade',\n",
    "                   'num_Add Friend',\n",
    "                   'num_Settings',\n",
    "                   'num_Submit Upgrade',\n",
    "                   'num_About',\n",
    "                   'num_Submit Downgrade',\n",
    "                   'num_Error',\n",
    "                   'num_Save Settings',\n",
    "                   'Churn']]\n",
    "feature_df_pd.head()"
   ]
  },
  {
   "cell_type": "code",
   "execution_count": 72,
   "metadata": {},
   "outputs": [
    {
     "name": "stdout",
     "output_type": "stream",
     "text": [
      "19\n"
     ]
    }
   ],
   "source": [
    "feature_spark_df = spark.createDataFrame(feature_df_pd)\n",
    "print(len(cat_col_names))"
   ]
  },
  {
   "cell_type": "markdown",
   "metadata": {},
   "source": [
    "# Modeling\n",
    "Split the full dataset into train, test, and validation sets. Test out several of the machine learning methods you learned. Evaluate the accuracy of the various models, tuning parameters as necessary. Determine your winning model based on test accuracy and report results on the validation set. Since the churned users are a fairly small subset, I suggest using F1 score as the metric to optimize."
   ]
  },
  {
   "cell_type": "code",
   "execution_count": 73,
   "metadata": {},
   "outputs": [
    {
     "data": {
      "text/plain": [
       "['num_NextSong',\n",
       " 'num_Add to Playlist',\n",
       " 'num_Roll Advert',\n",
       " 'num_Thumbs Up',\n",
       " 'num_Downgrade',\n",
       " 'num_Thumbs Down',\n",
       " 'num_Home',\n",
       " 'num_Logout',\n",
       " 'num_Help',\n",
       " 'num_Upgrade',\n",
       " 'num_Add Friend',\n",
       " 'num_Settings',\n",
       " 'num_Submit Upgrade',\n",
       " 'num_About',\n",
       " 'num_Submit Downgrade',\n",
       " 'num_Error',\n",
       " 'num_Save Settings']"
      ]
     },
     "execution_count": 73,
     "metadata": {},
     "output_type": "execute_result"
    }
   ],
   "source": [
    "feature_spark_df.columns[1:18]"
   ]
  },
  {
   "cell_type": "code",
   "execution_count": 134,
   "metadata": {},
   "outputs": [],
   "source": [
    "from pyspark.ml import Pipeline\n",
    "from pyspark.ml.feature import VectorAssembler\n",
    "from pyspark.ml.feature import StandardScaler \n",
    "from pyspark.ml.feature import StringIndexer \n",
    "from pyspark.mllib.tree import RandomForest\n",
    "from pyspark.ml.classification import RandomForestClassifier\n",
    "from pyspark.ml.tuning import CrossValidator, ParamGridBuilder\n",
    "from pyspark.mllib.evaluation import BinaryClassificationMetrics\n",
    "from pyspark.ml.evaluation import BinaryClassificationEvaluator    \n",
    "from pyspark.ml.evaluation import MulticlassClassificationEvaluator\n",
    "from pyspark.ml.classification import LogisticRegression\n",
    "from pyspark.ml.classification import DecisionTreeClassifier\n",
    "from pyspark.ml.classification import GBTClassifier"
   ]
  },
  {
   "cell_type": "code",
   "execution_count": 122,
   "metadata": {},
   "outputs": [],
   "source": [
    "def get_accuracy(result):\n",
    " true_pred_count = result.filter(result.label == result.prediction).count()\n",
    " print(\"Correct prediction:\", true_pred_count)\n",
    " print(\"Total values:\", result.count())\n",
    " print(\"Accuracy:\" ,true_pred_count/result.count())"
   ]
  },
  {
   "cell_type": "code",
   "execution_count": 123,
   "metadata": {},
   "outputs": [],
   "source": [
    "def get_eval_metrics(df):\n",
    " predictionRDD = df.select(['label', 'prediction']) \\\n",
    "                            .rdd.map(lambda line: (line[1], line[0]))\n",
    " metrics = MulticlassMetrics(predictionRDD)\n",
    " print(\"Precision:\", metrics.precision())\n",
    " print(\"Accuracy:\", metrics.accuracy)\n",
    " print(\"Recall:\", metrics.recall())\n",
    " print(\"F1:\", metrics.fMeasure())  \n",
    " print(\"Weighted Precision:\",metrics.weightedPrecision)\n",
    " print(\"Weighted Recall:\",metrics.weightedRecall)\n",
    " print(\"Weighted F1:\",metrics.weightedFMeasure())"
   ]
  },
  {
   "cell_type": "code",
   "execution_count": 124,
   "metadata": {},
   "outputs": [],
   "source": [
    "def config_pipeline(assembler, scaler, indexer,model):\n",
    "    pipeline = Pipeline(stages=[assembler, scaler, indexer, model])\n",
    "    return pipeline\n"
   ]
  },
  {
   "cell_type": "code",
   "execution_count": null,
   "metadata": {},
   "outputs": [],
   "source": [
    "(trainingData, testData) = feature_spark_df.randomSplit([0.7, 0.3])"
   ]
  },
  {
   "cell_type": "code",
   "execution_count": 139,
   "metadata": {},
   "outputs": [],
   "source": [
    "assembler = VectorAssembler(inputCols=feature_spark_df.columns[1:18], outputCol=\"features\")\n",
    "scaler    = StandardScaler(inputCol=\"features\", outputCol=\"scaled_features\")\n",
    "indexer = StringIndexer(inputCol=\"Churn\", outputCol=\"label\")\n",
    "\n",
    "#Define all the algorithms which we are going to use\n",
    "rf           = RandomForestClassifier(featuresCol=\"scaled_features\", labelCol=\"label\", maxDepth=5, numTrees=20)\n",
    "logistic_reg = LogisticRegression(featuresCol = 'scaled_features', labelCol = 'label', maxIter=50)\n",
    "d_tree       = DecisionTreeClassifier(featuresCol = 'scaled_features', labelCol = 'label', maxDepth = 5)\n",
    "grad_bt      = GBTClassifier(maxIter=50)\n",
    "\n",
    "# Select (prediction, true label) and compute test error\n",
    "#evaluator = BinaryClassificationEvaluator(labelCol=\"Churn\")\n",
    "evaluator = BinaryClassificationEvaluator()"
   ]
  },
  {
   "cell_type": "code",
   "execution_count": 143,
   "metadata": {},
   "outputs": [
    {
     "name": "stdout",
     "output_type": "stream",
     "text": [
      "0.6033163265306122\n",
      "Correct prediction: 56\n",
      "Total values: 70\n",
      "Accuracy: 0.8\n",
      "Precision: 0.8\n",
      "Accuracy: 0.8\n",
      "Recall: 0.8\n",
      "F1: 0.8\n",
      "Weighted Precision: 0.7545454545454545\n",
      "Weighted Recall: 0.8\n",
      "Weighted F1: 0.7526411657559199\n"
     ]
    }
   ],
   "source": [
    "#RandomForest\n",
    "pipeline_rf = config_pipeline(assembler, scaler, indexer,rf)\n",
    "\n",
    "pmodel = pipeline_rf.fit(trainingData)\n",
    "result = pmodel.transform(testData)\n",
    "#result.printSchema()\n",
    "eval_result  = evaluator.evaluate(result)\n",
    "#eval_metric = BinaryClassificationMetrics(result)\n",
    "\n",
    "print(eval_result)\n",
    "get_accuracy(result)\n",
    "get_eval_metrics(result)\n"
   ]
  },
  {
   "cell_type": "code",
   "execution_count": 127,
   "metadata": {},
   "outputs": [],
   "source": [
    "#c =result.toPandas()\n",
    "#c[['userId', 'label' , 'probability' , 'rawPrediction', 'prediction']].head(20)"
   ]
  },
  {
   "cell_type": "code",
   "execution_count": 141,
   "metadata": {},
   "outputs": [
    {
     "name": "stdout",
     "output_type": "stream",
     "text": [
      "Precision: 0.7571428571428571\n",
      "Accuracy: 0.7571428571428571\n",
      "Recall: 0.7571428571428571\n",
      "F1: 0.7571428571428571\n",
      "Weighted Precision: 0.7371340523882897\n",
      "Weighted Recall: 0.7571428571428571\n",
      "Weighted F1: 0.7457391304347827\n"
     ]
    }
   ],
   "source": [
    "#Gradient BT Classifier\n",
    "\n",
    "pipeline_grad  = config_pipeline(assembler, scaler, indexer,grad_bt)\n",
    "grad_model     = pipeline_grad.fit(trainingData)\n",
    "grad_pred      = grad_model.transform(testData)\n",
    "evaluator.evaluate(grad_pred)\n",
    "get_eval_metrics(grad_pred)\n"
   ]
  },
  {
   "cell_type": "code",
   "execution_count": null,
   "metadata": {},
   "outputs": [],
   "source": [
    " "
   ]
  },
  {
   "cell_type": "code",
   "execution_count": null,
   "metadata": {},
   "outputs": [],
   "source": []
  },
  {
   "cell_type": "code",
   "execution_count": null,
   "metadata": {},
   "outputs": [],
   "source": []
  },
  {
   "cell_type": "code",
   "execution_count": 128,
   "metadata": {},
   "outputs": [
    {
     "name": "stdout",
     "output_type": "stream",
     "text": [
      "Precision: 0.7\n",
      "Accuracy: 0.7\n",
      "Recall: 0.7\n",
      "F1: 0.7\n",
      "Weighted Precision: 0.6517304189435337\n",
      "Weighted Recall: 0.7\n",
      "Weighted F1: 0.6738015607580825\n",
      "Evaluator Result: 0.4706632653061225\n"
     ]
    }
   ],
   "source": [
    "#Logistic Regression \n",
    "pipeline_lr    =  config_pipeline(assembler, scaler, indexer,logistic_reg)\n",
    "lrModel        = pipeline_lr.fit(trainingData)\n",
    "lrModel_pred = lrModel.transform(testData)\n",
    "eval_result  = evaluator.evaluate(lrModel_pred)\n",
    "get_eval_metrics(lrModel_pred)\n",
    "print(\"Evaluator Result:\",eval_result)"
   ]
  },
  {
   "cell_type": "code",
   "execution_count": 129,
   "metadata": {},
   "outputs": [
    {
     "name": "stdout",
     "output_type": "stream",
     "text": [
      "Correct prediction: 49\n",
      "Total values: 70\n",
      "Accuracy: 0.7\n"
     ]
    }
   ],
   "source": [
    "get_accuracy(lrModel_pred)"
   ]
  },
  {
   "cell_type": "code",
   "execution_count": 140,
   "metadata": {},
   "outputs": [
    {
     "name": "stdout",
     "output_type": "stream",
     "text": [
      "Precision: 0.7285714285714285\n",
      "Accuracy: 0.7285714285714285\n",
      "Recall: 0.7285714285714285\n",
      "F1: 0.7285714285714285\n",
      "Weighted Precision: 0.7053929121725733\n",
      "Weighted Recall: 0.7285714285714285\n",
      "Weighted F1: 0.7158260869565218\n",
      "Evaluator Result: 0.5803571428571428\n",
      "Correct prediction: 51\n",
      "Total values: 70\n",
      "Accuracy: 0.7285714285714285\n"
     ]
    }
   ],
   "source": [
    "#Decesion Tree\n",
    "pipeline_dt   =  config_pipeline(assembler, scaler, indexer,d_tree)\n",
    "dtModel = pipeline_dt.fit(trainingData)\n",
    "dt_pred = dtModel.transform(testData)\n",
    "eval_result  = evaluator.evaluate(dt_pred)\n",
    "get_eval_metrics(dt_pred)\n",
    "print(\"Evaluator Result:\",eval_result)\n",
    "get_accuracy(dt_pred)"
   ]
  },
  {
   "cell_type": "code",
   "execution_count": null,
   "metadata": {},
   "outputs": [],
   "source": []
  },
  {
   "cell_type": "code",
   "execution_count": 131,
   "metadata": {},
   "outputs": [
    {
     "name": "stdout",
     "output_type": "stream",
     "text": [
      " 2) num_NextSong                   0.108701\n",
      " 3) num_Add to Playlist            0.104067\n",
      " 4) num_Roll Advert                0.096028\n",
      " 5) num_Thumbs Up                  0.094013\n",
      " 6) num_Downgrade                  0.083909\n",
      " 7) num_Thumbs Down                0.060771\n",
      " 8) num_Home                       0.060200\n",
      " 9) num_Logout                     0.059966\n",
      "10) num_Help                       0.059130\n",
      "11) num_Upgrade                    0.045616\n",
      "12) num_Add Friend                 0.042150\n",
      "13) num_Settings                   0.038391\n",
      "14) num_Submit Upgrade             0.012448\n",
      "15) num_About                      0.011013\n",
      "16) num_Submit Downgrade           0.010331\n",
      "17) num_Error                      0.003795\n"
     ]
    },
    {
     "ename": "IndexError",
     "evalue": "index 17 is out of bounds for axis 0 with size 17",
     "output_type": "error",
     "traceback": [
      "\u001b[0;31m---------------------------------------------------------------------------\u001b[0m",
      "\u001b[0;31mIndexError\u001b[0m                                Traceback (most recent call last)",
      "\u001b[0;32m<ipython-input-131-b983ccbcb87b>\u001b[0m in \u001b[0;36m<module>\u001b[0;34m()\u001b[0m\n\u001b[1;32m     10\u001b[0m \u001b[0;34m\u001b[0m\u001b[0m\n\u001b[1;32m     11\u001b[0m \u001b[0;32mfor\u001b[0m \u001b[0mi\u001b[0m \u001b[0;32min\u001b[0m \u001b[0mrange\u001b[0m\u001b[0;34m(\u001b[0m\u001b[0;36m1\u001b[0m\u001b[0;34m,\u001b[0m\u001b[0mfeature_df_pd\u001b[0m\u001b[0;34m.\u001b[0m\u001b[0mshape\u001b[0m\u001b[0;34m[\u001b[0m\u001b[0;36m1\u001b[0m\u001b[0;34m]\u001b[0m \u001b[0;34m-\u001b[0m\u001b[0;36m1\u001b[0m\u001b[0;34m)\u001b[0m\u001b[0;34m:\u001b[0m\u001b[0;34m\u001b[0m\u001b[0m\n\u001b[0;32m---> 12\u001b[0;31m    \u001b[0mprint\u001b[0m \u001b[0;34m(\u001b[0m\u001b[0;34m\"%2d) %-*s %f\"\u001b[0m \u001b[0;34m%\u001b[0m \u001b[0;34m(\u001b[0m\u001b[0mi\u001b[0m \u001b[0;34m+\u001b[0m \u001b[0;36m1\u001b[0m\u001b[0;34m,\u001b[0m \u001b[0;36m30\u001b[0m\u001b[0;34m,\u001b[0m \u001b[0mfeatures_label\u001b[0m\u001b[0;34m[\u001b[0m\u001b[0mi\u001b[0m\u001b[0;34m]\u001b[0m\u001b[0;34m,\u001b[0m \u001b[0mimportances\u001b[0m\u001b[0;34m[\u001b[0m\u001b[0mint\u001b[0m\u001b[0;34m(\u001b[0m\u001b[0mindices\u001b[0m\u001b[0;34m[\u001b[0m\u001b[0mi\u001b[0m\u001b[0;34m]\u001b[0m\u001b[0;34m)\u001b[0m\u001b[0;34m]\u001b[0m \u001b[0;34m)\u001b[0m\u001b[0;34m)\u001b[0m\u001b[0;34m\u001b[0m\u001b[0m\n\u001b[0m\u001b[1;32m     13\u001b[0m    \u001b[0;31m#print(features_label[i], importances[indices[i]])\u001b[0m\u001b[0;34m\u001b[0m\u001b[0;34m\u001b[0m\u001b[0m\n",
      "\u001b[0;31mIndexError\u001b[0m: index 17 is out of bounds for axis 0 with size 17"
     ]
    }
   ],
   "source": [
    "rfModel = pmodel.stages[3]\n",
    "importances = rfModel.featureImportances\n",
    "#gives sparse vector\n",
    "importances\n",
    "features_label = feature_df_pd.columns\n",
    "import numpy as np\n",
    "indices = np.argsort(importances)[::-1]\n",
    "indices\n",
    "importances[int(indices[1])]\n",
    "\n",
    "for i in range(1,feature_df_pd.shape[1] -1):     \n",
    "   print (\"%2d) %-*s %f\" % (i + 1, 30, features_label[i], importances[int(indices[i])] )) \n",
    "   #print(features_label[i], importances[indices[i]]) "
   ]
  },
  {
   "cell_type": "code",
   "execution_count": 142,
   "metadata": {},
   "outputs": [
    {
     "name": "stdout",
     "output_type": "stream",
     "text": [
      "cacheNodeIds: If false, the algorithm will pass trees to executors to match instances with nodes. If true, the algorithm will cache node IDs for each instance. Caching can speed up training of deeper trees. Users can set how often should the cache be checkpointed or disable it by setting checkpointInterval. (default: False)\n",
      "checkpointInterval: set checkpoint interval (>= 1) or disable checkpoint (-1). E.g. 10 means that the cache will get checkpointed every 10 iterations. Note: this setting will be ignored if the checkpoint directory is not set in the SparkContext. (default: 10)\n",
      "featureSubsetStrategy: The number of features to consider for splits at each tree node. Supported options: 'auto' (choose automatically for task: If numTrees == 1, set to 'all'. If numTrees > 1 (forest), set to 'sqrt' for classification and to 'onethird' for regression), 'all' (use all features), 'onethird' (use 1/3 of the features), 'sqrt' (use sqrt(number of features)), 'log2' (use log2(number of features)), 'n' (when n is in the range (0, 1.0], use n * number of features. When n is in the range (1, number of features), use n features). default = 'auto' (default: auto)\n",
      "featuresCol: features column name. (default: features, current: scaled_features)\n",
      "impurity: Criterion used for information gain calculation (case-insensitive). Supported options: entropy, gini (default: gini)\n",
      "labelCol: label column name. (default: label, current: label)\n",
      "maxBins: Max number of bins for discretizing continuous features.  Must be >=2 and >= number of categories for any categorical feature. (default: 32)\n",
      "maxDepth: Maximum depth of the tree. (>= 0) E.g., depth 0 means 1 leaf node; depth 1 means 1 internal node + 2 leaf nodes. (default: 5, current: 5)\n",
      "maxMemoryInMB: Maximum memory in MB allocated to histogram aggregation. If too small, then 1 node will be split per iteration, and its aggregates may exceed this size. (default: 256)\n",
      "minInfoGain: Minimum information gain for a split to be considered at a tree node. (default: 0.0)\n",
      "minInstancesPerNode: Minimum number of instances each child must have after split. If a split causes the left or right child to have fewer than minInstancesPerNode, the split will be discarded as invalid. Should be >= 1. (default: 1)\n",
      "numTrees: Number of trees to train (>= 1). (default: 20, current: 20)\n",
      "predictionCol: prediction column name. (default: prediction)\n",
      "probabilityCol: Column name for predicted class conditional probabilities. Note: Not all models output well-calibrated probability estimates! These probabilities should be treated as confidences, not precise probabilities. (default: probability)\n",
      "rawPredictionCol: raw prediction (a.k.a. confidence) column name. (default: rawPrediction)\n",
      "seed: random seed. (default: -1857782237936102247)\n",
      "subsamplingRate: Fraction of the training data used for learning each decision tree, in range (0, 1]. (default: 1.0)\n"
     ]
    }
   ],
   "source": [
    "print(rf.explainParams())"
   ]
  },
  {
   "cell_type": "code",
   "execution_count": 196,
   "metadata": {},
   "outputs": [],
   "source": [
    "#paramGrid = (ParamGridBuilder. \n",
    "#    .addGrid(rf.numTrees, [3, 10])\n",
    "#    .addGrid(...)  # Add other parameters\n",
    "#    .build())\n",
    "# Set F-1 score as evaluation metric for best model selection\n",
    "evaluator_ = MulticlassClassificationEvaluator(labelCol='label',\n",
    "                                              predictionCol='prediction', metricName='f1')   \n",
    "\n",
    "#Following two parameters chosen because of recommendation in spark api documentation\n",
    "paramGrid = ParamGridBuilder() \\\n",
    "           .addGrid(rf.maxDepth, [5,8,10,12]) \\\n",
    "           .addGrid(rf.numTrees, [8,10,12,15,20,25]) \\\n",
    "           .build()\n",
    "\n",
    "cv = CrossValidator(estimator=pipeline_rf,                         \n",
    "                    estimatorParamMaps=paramGrid,\n",
    "                    evaluator=evaluator_,\n",
    "                    numFolds=3)  # use 3+ folds in practice\n",
    "\n",
    "# Train model.  This also runs the indexers.\n",
    "tuned_model = cv.fit(trainingData)"
   ]
  },
  {
   "cell_type": "code",
   "execution_count": 197,
   "metadata": {},
   "outputs": [
    {
     "name": "stdout",
     "output_type": "stream",
     "text": [
      "[0.6704403338393243, 0.6465040518157463, 0.6062192923823604, 0.6391447779576658, 0.6089178234703874, 0.6351310798374056, 0.6689656914888654, 0.6501192229344794, 0.6037639704595534, 0.6454084873896196, 0.63240309655404, 0.6398595115576247, 0.6614888698315338, 0.6589361546682951, 0.5999658817558043, 0.6497573556565786, 0.6389687531196966, 0.6517387173075833, 0.6657715649629395, 0.6589361546682951, 0.5999658817558043, 0.6454084873896196, 0.6389687531196966, 0.6517387173075833]\n",
      "RandomForestClassificationModel (uid=RandomForestClassifier_ad90ac8883c4) with 8 trees\n"
     ]
    }
   ],
   "source": [
    "print(tuned_model.avgMetrics)\n",
    "info = tuned_model.bestModel.stages[3]\n",
    "print(info)"
   ]
  },
  {
   "cell_type": "code",
   "execution_count": 198,
   "metadata": {},
   "outputs": [],
   "source": [
    "tuned_results = tuned_model.transform(testData)"
   ]
  },
  {
   "cell_type": "code",
   "execution_count": 199,
   "metadata": {},
   "outputs": [
    {
     "name": "stdout",
     "output_type": "stream",
     "text": [
      "53\n",
      "70\n"
     ]
    }
   ],
   "source": [
    "print(tuned_results.filter(tuned_results.label == tuned_results.prediction).count())\n",
    "print(tuned_results.count())"
   ]
  },
  {
   "cell_type": "code",
   "execution_count": 200,
   "metadata": {},
   "outputs": [
    {
     "name": "stdout",
     "output_type": "stream",
     "text": [
      "f1 accuracy: 0.7086559373640713\n"
     ]
    }
   ],
   "source": [
    "print (evaluator_.getMetricName(), 'accuracy:', evaluator_.evaluate(tuned_results))"
   ]
  },
  {
   "cell_type": "code",
   "execution_count": 190,
   "metadata": {},
   "outputs": [
    {
     "name": "stdout",
     "output_type": "stream",
     "text": [
      "Precision: 0.8\n",
      "Accuracy: 0.8\n",
      "Recall: 0.8\n",
      "F1: 0.8\n",
      "Weighted Precision: 0.64\n",
      "Weighted Recall: 0.8\n",
      "Weighted F1: 0.7111111111111111\n"
     ]
    }
   ],
   "source": [
    "get_eval_metrics(tuned_results)"
   ]
  },
  {
   "cell_type": "code",
   "execution_count": null,
   "metadata": {},
   "outputs": [],
   "source": [
    "\n",
    "#tree_model = CV_model.bestModel.stages[2]\n",
    "#print tree_model"
   ]
  },
  {
   "cell_type": "code",
   "execution_count": null,
   "metadata": {},
   "outputs": [],
   "source": [
    "                     "
   ]
  },
  {
   "cell_type": "code",
   "execution_count": null,
   "metadata": {},
   "outputs": [],
   "source": []
  },
  {
   "cell_type": "code",
   "execution_count": null,
   "metadata": {},
   "outputs": [],
   "source": []
  },
  {
   "cell_type": "code",
   "execution_count": null,
   "metadata": {},
   "outputs": [],
   "source": [
    "\n"
   ]
  },
  {
   "cell_type": "code",
   "execution_count": null,
   "metadata": {},
   "outputs": [],
   "source": []
  },
  {
   "cell_type": "code",
   "execution_count": null,
   "metadata": {},
   "outputs": [],
   "source": [
    "\n"
   ]
  },
  {
   "cell_type": "code",
   "execution_count": null,
   "metadata": {},
   "outputs": [],
   "source": []
  },
  {
   "cell_type": "code",
   "execution_count": null,
   "metadata": {},
   "outputs": [],
   "source": []
  },
  {
   "cell_type": "markdown",
   "metadata": {},
   "source": [
    "# Final Steps\n",
    "Clean up your code, adding comments and renaming variables to make the code easier to read and maintain. Refer to the Spark Project Overview page and Data Scientist Capstone Project Rubric to make sure you are including all components of the capstone project and meet all expectations. Remember, this includes thorough documentation in a README file in a Github repository, as well as a web app or blog post."
   ]
  },
  {
   "cell_type": "code",
   "execution_count": null,
   "metadata": {},
   "outputs": [],
   "source": []
  }
 ],
 "metadata": {
  "kernelspec": {
   "display_name": "Python 3",
   "language": "python",
   "name": "python3"
  },
  "language_info": {
   "codemirror_mode": {
    "name": "ipython",
    "version": 3
   },
   "file_extension": ".py",
   "mimetype": "text/x-python",
   "name": "python",
   "nbconvert_exporter": "python",
   "pygments_lexer": "ipython3",
   "version": "3.6.3"
  }
 },
 "nbformat": 4,
 "nbformat_minor": 2
}
