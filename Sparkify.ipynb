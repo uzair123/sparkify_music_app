{
 "cells": [
  {
   "cell_type": "markdown",
   "metadata": {},
   "source": [
    "# Sparkify Project Workspace\n",
    "This workspace contains a tiny subset (128MB) of the full dataset available (12GB). Feel free to use this workspace to build your project, or to explore a smaller subset with Spark before deploying your cluster on the cloud. Instructions for setting up your Spark cluster is included in the last lesson of the Extracurricular Spark Course content.\n",
    "\n",
    "You can follow the steps below to guide your data analysis and model building portion of this project."
   ]
  },
  {
   "cell_type": "code",
   "execution_count": 296,
   "metadata": {},
   "outputs": [],
   "source": [
    "# import libraries\n",
    "from pyspark.sql import SparkSession\n",
    "from pyspark.sql.functions import udf\n",
    "from pyspark.sql.functions import isnan\n",
    "from pyspark.sql.functions import to_date\n",
    "from pyspark.sql.types import DateType\n",
    "\n",
    "import datetime\n",
    "import numpy as np\n",
    "import pandas as pd\n",
    "%matplotlib inline\n",
    "import matplotlib.pyplot as plt"
   ]
  },
  {
   "cell_type": "code",
   "execution_count": 297,
   "metadata": {},
   "outputs": [],
   "source": [
    "# create a Spark session\n",
    "spark = SparkSession \\\n",
    "       .builder \\\n",
    "       .appName(\"Sparkify-X\") \\\n",
    "       .getOrCreate()"
   ]
  },
  {
   "cell_type": "code",
   "execution_count": 298,
   "metadata": {},
   "outputs": [
    {
     "data": {
      "text/html": [
       "\n",
       "            <div>\n",
       "                <p><b>SparkSession - in-memory</b></p>\n",
       "                \n",
       "        <div>\n",
       "            <p><b>SparkContext</b></p>\n",
       "\n",
       "            <p><a href=\"http://2909db09f87a:4040\">Spark UI</a></p>\n",
       "\n",
       "            <dl>\n",
       "              <dt>Version</dt>\n",
       "                <dd><code>v2.4.3</code></dd>\n",
       "              <dt>Master</dt>\n",
       "                <dd><code>local[*]</code></dd>\n",
       "              <dt>AppName</dt>\n",
       "                <dd><code>Sparkify-X</code></dd>\n",
       "            </dl>\n",
       "        </div>\n",
       "        \n",
       "            </div>\n",
       "        "
      ],
      "text/plain": [
       "<pyspark.sql.session.SparkSession at 0x7f91f3a864e0>"
      ]
     },
     "execution_count": 298,
     "metadata": {},
     "output_type": "execute_result"
    }
   ],
   "source": [
    "spark"
   ]
  },
  {
   "cell_type": "code",
   "execution_count": 299,
   "metadata": {},
   "outputs": [
    {
     "data": {
      "text/plain": [
       "[('spark.driver.host', '2909db09f87a'),\n",
       " ('spark.app.name', 'Sparkify-X'),\n",
       " ('spark.app.id', 'local-1589885900640'),\n",
       " ('spark.rdd.compress', 'True'),\n",
       " ('spark.driver.port', '37061'),\n",
       " ('spark.serializer.objectStreamReset', '100'),\n",
       " ('spark.master', 'local[*]'),\n",
       " ('spark.executor.id', 'driver'),\n",
       " ('spark.submit.deployMode', 'client'),\n",
       " ('spark.ui.showConsoleProgress', 'true')]"
      ]
     },
     "execution_count": 299,
     "metadata": {},
     "output_type": "execute_result"
    }
   ],
   "source": [
    "spark.sparkContext.getConf().getAll()"
   ]
  },
  {
   "cell_type": "markdown",
   "metadata": {},
   "source": [
    "# Load and Clean Dataset\n",
    "In this workspace, the mini-dataset file is `mini_sparkify_event_data.json`. Load and clean the dataset, checking for invalid or missing data - for example, records without userids or sessionids. "
   ]
  },
  {
   "cell_type": "code",
   "execution_count": 300,
   "metadata": {},
   "outputs": [],
   "source": [
    "path = \"mini_sparkify_event_data.json\"\n",
    "user_log = spark.read.json(path)"
   ]
  },
  {
   "cell_type": "code",
   "execution_count": 301,
   "metadata": {},
   "outputs": [
    {
     "data": {
      "text/plain": [
       "[Row(artist='Martha Tilston', auth='Logged In', firstName='Colin', gender='M', itemInSession=50, lastName='Freeman', length=277.89016, level='paid', location='Bakersfield, CA', method='PUT', page='NextSong', registration=1538173362000, sessionId=29, song='Rockpools', status=200, ts=1538352117000, userAgent='Mozilla/5.0 (Windows NT 6.1; WOW64; rv:31.0) Gecko/20100101 Firefox/31.0', userId='30'),\n",
       " Row(artist='Five Iron Frenzy', auth='Logged In', firstName='Micah', gender='M', itemInSession=79, lastName='Long', length=236.09424, level='free', location='Boston-Cambridge-Newton, MA-NH', method='PUT', page='NextSong', registration=1538331630000, sessionId=8, song='Canada', status=200, ts=1538352180000, userAgent='\"Mozilla/5.0 (Windows NT 6.1; WOW64) AppleWebKit/537.36 (KHTML, like Gecko) Chrome/37.0.2062.103 Safari/537.36\"', userId='9'),\n",
       " Row(artist='Adam Lambert', auth='Logged In', firstName='Colin', gender='M', itemInSession=51, lastName='Freeman', length=282.8273, level='paid', location='Bakersfield, CA', method='PUT', page='NextSong', registration=1538173362000, sessionId=29, song='Time For Miracles', status=200, ts=1538352394000, userAgent='Mozilla/5.0 (Windows NT 6.1; WOW64; rv:31.0) Gecko/20100101 Firefox/31.0', userId='30')]"
      ]
     },
     "execution_count": 301,
     "metadata": {},
     "output_type": "execute_result"
    }
   ],
   "source": [
    "#Display first 3 rows - to get an idea\n",
    "user_log.take(3)"
   ]
  },
  {
   "cell_type": "code",
   "execution_count": 302,
   "metadata": {},
   "outputs": [
    {
     "name": "stdout",
     "output_type": "stream",
     "text": [
      "+--------------------+\n",
      "|                page|\n",
      "+--------------------+\n",
      "|              Cancel|\n",
      "|    Submit Downgrade|\n",
      "|         Thumbs Down|\n",
      "|                Home|\n",
      "|           Downgrade|\n",
      "|         Roll Advert|\n",
      "|              Logout|\n",
      "|       Save Settings|\n",
      "|Cancellation Conf...|\n",
      "|               About|\n",
      "| Submit Registration|\n",
      "|            Settings|\n",
      "|               Login|\n",
      "|            Register|\n",
      "|     Add to Playlist|\n",
      "|          Add Friend|\n",
      "|            NextSong|\n",
      "|           Thumbs Up|\n",
      "|                Help|\n",
      "|             Upgrade|\n",
      "|               Error|\n",
      "|      Submit Upgrade|\n",
      "+--------------------+\n",
      "\n"
     ]
    }
   ],
   "source": [
    "user_log.select(\"page\").dropDuplicates().show(29)"
   ]
  },
  {
   "cell_type": "code",
   "execution_count": 303,
   "metadata": {},
   "outputs": [
    {
     "name": "stdout",
     "output_type": "stream",
     "text": [
      "root\n",
      " |-- artist: string (nullable = true)\n",
      " |-- auth: string (nullable = true)\n",
      " |-- firstName: string (nullable = true)\n",
      " |-- gender: string (nullable = true)\n",
      " |-- itemInSession: long (nullable = true)\n",
      " |-- lastName: string (nullable = true)\n",
      " |-- length: double (nullable = true)\n",
      " |-- level: string (nullable = true)\n",
      " |-- location: string (nullable = true)\n",
      " |-- method: string (nullable = true)\n",
      " |-- page: string (nullable = true)\n",
      " |-- registration: long (nullable = true)\n",
      " |-- sessionId: long (nullable = true)\n",
      " |-- song: string (nullable = true)\n",
      " |-- status: long (nullable = true)\n",
      " |-- ts: long (nullable = true)\n",
      " |-- userAgent: string (nullable = true)\n",
      " |-- userId: string (nullable = true)\n",
      "\n"
     ]
    }
   ],
   "source": [
    "user_log.printSchema()"
   ]
  },
  {
   "cell_type": "code",
   "execution_count": 304,
   "metadata": {},
   "outputs": [],
   "source": [
    "col_list = user_log.schema.names"
   ]
  },
  {
   "cell_type": "code",
   "execution_count": 305,
   "metadata": {},
   "outputs": [
    {
     "data": {
      "text/plain": [
       "['artist',\n",
       " 'auth',\n",
       " 'firstName',\n",
       " 'gender',\n",
       " 'itemInSession',\n",
       " 'lastName',\n",
       " 'length',\n",
       " 'level',\n",
       " 'location',\n",
       " 'method',\n",
       " 'page',\n",
       " 'registration',\n",
       " 'sessionId',\n",
       " 'song',\n",
       " 'status',\n",
       " 'ts',\n",
       " 'userAgent',\n",
       " 'userId']"
      ]
     },
     "execution_count": 305,
     "metadata": {},
     "output_type": "execute_result"
    }
   ],
   "source": [
    "col_list"
   ]
  },
  {
   "cell_type": "code",
   "execution_count": 306,
   "metadata": {},
   "outputs": [
    {
     "data": {
      "text/plain": [
       "286500"
      ]
     },
     "execution_count": 306,
     "metadata": {},
     "output_type": "execute_result"
    }
   ],
   "source": [
    "user_log.count() #total entries"
   ]
  },
  {
   "cell_type": "code",
   "execution_count": 307,
   "metadata": {},
   "outputs": [],
   "source": [
    "empty_strings_dict = {}\n",
    "for col in col_list:\n",
    " empty_strings_dict[col] = user_log.filter(user_log[col] == '').count()   "
   ]
  },
  {
   "cell_type": "code",
   "execution_count": 308,
   "metadata": {},
   "outputs": [],
   "source": [
    "null_val_dict = {}\n",
    "for col in col_list:\n",
    " null_val_dict[col] = user_log.filter(user_log[col].isNull()).count()\n"
   ]
  },
  {
   "cell_type": "code",
   "execution_count": 309,
   "metadata": {},
   "outputs": [
    {
     "data": {
      "text/plain": [
       "{'artist': 58392,\n",
       " 'auth': 0,\n",
       " 'firstName': 8346,\n",
       " 'gender': 8346,\n",
       " 'itemInSession': 0,\n",
       " 'lastName': 8346,\n",
       " 'length': 58392,\n",
       " 'level': 0,\n",
       " 'location': 8346,\n",
       " 'method': 0,\n",
       " 'page': 0,\n",
       " 'registration': 8346,\n",
       " 'sessionId': 0,\n",
       " 'song': 58392,\n",
       " 'status': 0,\n",
       " 'ts': 0,\n",
       " 'userAgent': 8346,\n",
       " 'userId': 0}"
      ]
     },
     "execution_count": 309,
     "metadata": {},
     "output_type": "execute_result"
    }
   ],
   "source": [
    "#dictionary - with number of null values for each colummn\n",
    "null_val_dict"
   ]
  },
  {
   "cell_type": "code",
   "execution_count": 310,
   "metadata": {},
   "outputs": [
    {
     "data": {
      "text/plain": [
       "{'artist': 0,\n",
       " 'auth': 0,\n",
       " 'firstName': 0,\n",
       " 'gender': 0,\n",
       " 'itemInSession': 0,\n",
       " 'lastName': 0,\n",
       " 'length': 0,\n",
       " 'level': 0,\n",
       " 'location': 0,\n",
       " 'method': 0,\n",
       " 'page': 0,\n",
       " 'registration': 0,\n",
       " 'sessionId': 0,\n",
       " 'song': 0,\n",
       " 'status': 0,\n",
       " 'ts': 0,\n",
       " 'userAgent': 0,\n",
       " 'userId': 8346}"
      ]
     },
     "execution_count": 310,
     "metadata": {},
     "output_type": "execute_result"
    }
   ],
   "source": [
    "#dictionary - with number of emptry string for each colummn\n",
    "empty_strings_dict"
   ]
  },
  {
   "cell_type": "code",
   "execution_count": 311,
   "metadata": {},
   "outputs": [
    {
     "name": "stdout",
     "output_type": "stream",
     "text": [
      "278154\n"
     ]
    }
   ],
   "source": [
    "#drop the empty strings\n",
    "user_log = user_log.filter(user_log['userId'] != \"\")\n",
    "#check number of entries after dropping rows with empty strings\n",
    "print(user_log.count())"
   ]
  },
  {
   "cell_type": "code",
   "execution_count": 312,
   "metadata": {},
   "outputs": [
    {
     "name": "stdout",
     "output_type": "stream",
     "text": [
      "total locations 114\n"
     ]
    }
   ],
   "source": [
    "total_locations = user_log.select(\"location\").dropDuplicates().sort(\"location\").count()\n",
    "location = user_log.select(\"location\").dropDuplicates().sort(\"location\")\n",
    "print('total locations', total_locations)"
   ]
  },
  {
   "cell_type": "code",
   "execution_count": 313,
   "metadata": {},
   "outputs": [
    {
     "name": "stdout",
     "output_type": "stream",
     "text": [
      "+-------------+\n",
      "| registration|\n",
      "+-------------+\n",
      "|1521380675000|\n",
      "|1526739206000|\n",
      "|1526838391000|\n",
      "|1528403713000|\n",
      "|1528560242000|\n",
      "|1528772084000|\n",
      "|1528780738000|\n",
      "|1529027541000|\n",
      "|1529252604000|\n",
      "|1529643103000|\n",
      "|1529934689000|\n",
      "|1530306321000|\n",
      "|1530333492000|\n",
      "|1530514394000|\n",
      "|1530674962000|\n",
      "|1530763799000|\n",
      "|1530789251000|\n",
      "|1531281160000|\n",
      "|1531350022000|\n",
      "|1531679695000|\n",
      "+-------------+\n",
      "only showing top 20 rows\n",
      "\n"
     ]
    }
   ],
   "source": [
    "user_log.select(\"registration\").dropDuplicates().sort(\"registration\").show()"
   ]
  },
  {
   "cell_type": "code",
   "execution_count": 314,
   "metadata": {},
   "outputs": [
    {
     "name": "stdout",
     "output_type": "stream",
     "text": [
      "+------+\n",
      "|gender|\n",
      "+------+\n",
      "|     F|\n",
      "|     M|\n",
      "+------+\n",
      "\n",
      "+-----+\n",
      "|level|\n",
      "+-----+\n",
      "| free|\n",
      "| paid|\n",
      "+-----+\n",
      "\n",
      "+------+\n",
      "|method|\n",
      "+------+\n",
      "|   GET|\n",
      "|   PUT|\n",
      "+------+\n",
      "\n",
      "+---------+\n",
      "|     auth|\n",
      "+---------+\n",
      "|Cancelled|\n",
      "|Logged In|\n",
      "+---------+\n",
      "\n",
      "+------+\n",
      "|status|\n",
      "+------+\n",
      "|   200|\n",
      "|   307|\n",
      "|   404|\n",
      "+------+\n",
      "\n"
     ]
    }
   ],
   "source": [
    "user_log.select(\"gender\").dropDuplicates().sort(\"gender\").show()\n",
    "user_log.select(\"level\").dropDuplicates().sort(\"level\").show()\n",
    "user_log.select(\"method\").dropDuplicates().sort(\"method\").show()\n",
    "user_log.select(\"auth\").dropDuplicates().sort(\"auth\").show()\n",
    "user_log.select(\"status\").dropDuplicates().sort(\"status\").show()"
   ]
  },
  {
   "cell_type": "code",
   "execution_count": 315,
   "metadata": {},
   "outputs": [
    {
     "name": "stdout",
     "output_type": "stream",
     "text": [
      "+--------------------+\n",
      "|           userAgent|\n",
      "+--------------------+\n",
      "|\"Mozilla/5.0 (Mac...|\n",
      "|\"Mozilla/5.0 (Mac...|\n",
      "|\"Mozilla/5.0 (Mac...|\n",
      "|\"Mozilla/5.0 (Mac...|\n",
      "|\"Mozilla/5.0 (Mac...|\n",
      "|\"Mozilla/5.0 (Mac...|\n",
      "|\"Mozilla/5.0 (Mac...|\n",
      "|\"Mozilla/5.0 (Mac...|\n",
      "|\"Mozilla/5.0 (Mac...|\n",
      "|\"Mozilla/5.0 (Mac...|\n",
      "|\"Mozilla/5.0 (Mac...|\n",
      "|\"Mozilla/5.0 (Mac...|\n",
      "|\"Mozilla/5.0 (Mac...|\n",
      "|\"Mozilla/5.0 (Mac...|\n",
      "|\"Mozilla/5.0 (Mac...|\n",
      "|\"Mozilla/5.0 (Mac...|\n",
      "|\"Mozilla/5.0 (Mac...|\n",
      "|\"Mozilla/5.0 (Win...|\n",
      "|\"Mozilla/5.0 (Win...|\n",
      "|\"Mozilla/5.0 (Win...|\n",
      "+--------------------+\n",
      "only showing top 20 rows\n",
      "\n"
     ]
    }
   ],
   "source": [
    "user_log.select(\"userAgent\").dropDuplicates().sort(\"userAgent\").show()"
   ]
  },
  {
   "cell_type": "code",
   "execution_count": 316,
   "metadata": {},
   "outputs": [
    {
     "name": "stdout",
     "output_type": "stream",
     "text": [
      "+-------------+\n",
      "|itemInSession|\n",
      "+-------------+\n",
      "|          720|\n",
      "|         1258|\n",
      "|          278|\n",
      "|          964|\n",
      "|           26|\n",
      "|          474|\n",
      "|          243|\n",
      "|           65|\n",
      "|         1224|\n",
      "|           29|\n",
      "|         1277|\n",
      "|          558|\n",
      "|          418|\n",
      "|          541|\n",
      "|          270|\n",
      "|          222|\n",
      "|          730|\n",
      "|          938|\n",
      "|         1145|\n",
      "|          293|\n",
      "+-------------+\n",
      "only showing top 20 rows\n",
      "\n"
     ]
    }
   ],
   "source": [
    "user_log.select(\"itemInSession\").dropDuplicates().sort(\"status\").show()\n"
   ]
  },
  {
   "cell_type": "code",
   "execution_count": 317,
   "metadata": {},
   "outputs": [
    {
     "name": "stdout",
     "output_type": "stream",
     "text": [
      "+--------+\n",
      "|  length|\n",
      "+--------+\n",
      "|    null|\n",
      "| 0.78322|\n",
      "| 2.16771|\n",
      "| 4.04853|\n",
      "|  4.8322|\n",
      "|  6.3473|\n",
      "| 7.83628|\n",
      "| 8.30649|\n",
      "| 9.01179|\n",
      "|10.03057|\n",
      "|10.52689|\n",
      "|11.20608|\n",
      "|11.25832|\n",
      "|11.36281|\n",
      "|11.49342|\n",
      "|11.54567|\n",
      "|11.93751|\n",
      "|11.98975|\n",
      "|12.22485|\n",
      "|12.30322|\n",
      "+--------+\n",
      "only showing top 20 rows\n",
      "\n"
     ]
    }
   ],
   "source": [
    "user_log.select(\"length\").dropDuplicates().sort(\"length\").show()\n"
   ]
  },
  {
   "cell_type": "markdown",
   "metadata": {},
   "source": [
    "# Exploratory Data Analysis\n",
    "When you're working with the full dataset, perform EDA by loading a small subset of the data and doing basic manipulations within Spark. In this workspace, you are already provided a small subset of data you can explore.\n",
    "\n",
    "### Define Churn\n",
    "\n",
    "Once you've done some preliminary analysis, create a column `Churn` to use as the label for your model. I suggest using the `Cancellation Confirmation` events to define your churn, which happen for both paid and free users. As a bonus task, you can also look into the `Downgrade` events.\n",
    "\n",
    "### Explore Data\n",
    "Once you've defined churn, perform some exploratory data analysis to observe the behavior for users who stayed vs users who churned. You can start by exploring aggregates on these two groups of users, observing how much of a specific action they experienced per a certain time unit or number of songs played."
   ]
  },
  {
   "cell_type": "code",
   "execution_count": null,
   "metadata": {},
   "outputs": [],
   "source": [
    "#---FUNCTIONS---#\n",
    "\n",
    "import matplotlib.pyplot as plt\n",
    "#=============================================================\n",
    "#\n",
    "#=============================================================\n",
    "def explore_data(df, target_col, exit):\n",
    "    num = df[df['Churn'] == exit][[target_col]].drop_duplicates().count()\n",
    "    #num = df.select([target_col]).filter(df.Churn == exit).dropDuplicates().count()\n",
    "    return num\n",
    "\n",
    "#=============================================================\n",
    "#\n",
    "#=============================================================\n",
    "def plot_pie_chart(data1, data2, label1= 'Churned', label2='Not Churned'):\n",
    "# Pie chart, where the slices will be ordered and plotted counter-clockwise:\n",
    " labels = label1, label2\n",
    " sizes = [data1, data2]\n",
    " explode = (0, 0.1)  # only \"explode\" the 2nd slice - churned users\n",
    "\n",
    " fig1, ax1 = plt.subplots()\n",
    " ax1.pie(sizes, explode=explode, labels=labels, autopct='%1.1f%%',\n",
    "        shadow=True, startangle=90)\n",
    " ax1.axis('equal')  # Equal aspect ratio ensures that pie is drawn as a circle.\n",
    "\n",
    " plt.show()\n",
    "    \n",
    "\n",
    "#=============================================================\n",
    "#\n",
    "#============================================================= \n",
    "def get_total_number(df, cat_col, new_col):\n",
    " df[new_col] = df.groupby('userId')[cat_col].transform('sum')\n",
    " return df\n",
    "\n",
    "\n",
    "#=============================================================\n",
    "#\n",
    "#=============================================================\n",
    "def trend_over_time(df, eventcol, eventtype, time , xtitle , ytitle , kind = 'bar',heading1='Churned', heading2='Non Churned'):\n",
    "    fig1, ax1 = plt.subplots(1,2)\n",
    "    figsize=(12,5)\n",
    "\n",
    "    ax1[0].set_xlabel(xtitle, fontsize=13)\n",
    "    ax1[0].set_ylabel(ytitle, fontsize= 13)\n",
    "    \n",
    "    ax1[1].set_xlabel(xtitle, fontsize=13)\n",
    "    ax1[1].set_ylabel(ytitle, fontsize= 13)\n",
    "    \n",
    "    y = df[df['Churn'] == '1'][[eventcol, time]]\n",
    "    y[y[eventcol] == eventtype][time].value_counts(normalize=False).plot(kind=kind, use_index=True, title=heading1 ,figsize=figsize,ax=ax1[0])\n",
    "    s = df[df['Churn'] == '0'][[eventcol, time]]\n",
    "    s[s[eventcol] == eventtype][time].value_counts(normalize=False, sort=False).plot(kind=kind, use_index=True, title=heading2,figsize=figsize,ax=ax1[1])\n",
    "\n",
    "\n",
    "\n",
    "#===========================================================\n",
    "# Following piece of code taken from matplot lib examples and \n",
    "# modified according to the needs\n",
    "#===========================================================\n",
    "def plot_over_time(df, eventcol, eventtype, time , xtitle , ytitle , kind = 'bar',heading1='Churned', heading2='Non Churned'):\n",
    " y = df[df['Churn'] == '1'][[eventcol, time]]\n",
    " grp1 = y[y[eventcol] == eventtype][time].value_counts(normalize=False)\n",
    "\n",
    " s = df[df['Churn'] == '0'][[eventcol, time]]\n",
    " grp2 = s[s[eventcol] == eventtype][time].value_counts(normalize=False, sort=False)\n",
    " #labels = ['G1', 'G2']\n",
    " labels = grp1.index\n",
    "\n",
    " #men_means = [20, 34, 30, 35, 27]\n",
    " #women_means = [25, 32, 34, 20, 25]\n",
    " x = np.arange(len(labels))  # the label locations\n",
    " width = 0.35  # the width of the bars\n",
    "\n",
    " fig, ax = plt.subplots()\n",
    " rects1 = ax.bar(x - width/2, grp1, width, label=heading1)\n",
    " rects2 = ax.bar(x + width/2, grp2, width, label=heading2)\n",
    "\n",
    " # Add some text for labels, title and custom x-axis tick labels, etc.\n",
    " ax.set_ylabel(ytitle)\n",
    " ax.set_xlabel(xtitle)\n",
    " ax.set_title('Scores by Event '+eventtype)\n",
    " ax.set_xticks(x)\n",
    " ax.set_xticklabels(labels)\n",
    " ax.legend()\n",
    "\n",
    "\n",
    " def autolabel(rects):\n",
    "    \"\"\"Attach a text label above each bar in *rects*, displaying its height.\"\"\"\n",
    "    for rect in rects:\n",
    "        height = rect.get_height()\n",
    "        ax.annotate('{}'.format(height),\n",
    "                    xy=(rect.get_x() + rect.get_width() / 2, height),\n",
    "                    xytext=(0, 3),  # 3 points vertical offset\n",
    "                    textcoords=\"offset points\",\n",
    "                    ha='center', va='bottom')\n",
    "\n",
    "\n",
    " autolabel(rects1)\n",
    " autolabel(rects2)\n",
    "\n",
    " fig.tight_layout()\n",
    "\n",
    " plt.show()\n",
    "    \n",
    "#--------------------------------------------------------------------------#   \n",
    "#Following code is taken from the following link - it is not written by me-\n",
    "#https://www.kaggle.com/bandiang2/prediction-of-customer-churn-at-a-bank\n",
    "#--------------------------------------------------------------------------#   \n",
    "\n",
    "#function  for pie plot for customer attrition types\n",
    "import plotly.graph_objs as go #visualization\n",
    "import plotly.offline as py #visualization\n",
    "py.init_notebook_mode(connected=True) #visualization\n",
    "import plotly.graph_objs as go #visualization\n",
    "import plotly.tools as tls #visualization\n",
    "import plotly.figure_factory as ff #visualization\n",
    "\n",
    "def plot_pie(column):\n",
    "    \n",
    "    trace1 = go.Pie(values  = churn[column].value_counts().values.tolist(),\n",
    "                    labels  = churn[column].value_counts().keys().tolist(),\n",
    "                    hoverinfo = \"label+percent+name\",\n",
    "                    domain  = dict(x = [0,.48]),\n",
    "                    name    = \"Churn Customers\",\n",
    "                    marker  = dict(line = dict(width = 2,\n",
    "                                               color = \"rgb(243,243,243)\")\n",
    "                                  ),\n",
    "                    hole    = .6\n",
    "                   )\n",
    "    trace2 = go.Pie(values  = not_churn[column].value_counts().values.tolist(),\n",
    "                    labels  = not_churn[column].value_counts().keys().tolist(),\n",
    "                    hoverinfo = \"label+percent+name\",\n",
    "                    marker  = dict(line = dict(width = 2,\n",
    "                                               color = \"rgb(243,243,243)\")\n",
    "                                  ),\n",
    "                    domain  = dict(x = [.52,1]),\n",
    "                    hole    = .6,\n",
    "                    name    = \"Non churn customers\" \n",
    "                   )\n",
    "\n",
    "\n",
    "    layout = go.Layout(dict(title = column + \" distribution\",\n",
    "                            plot_bgcolor  = \"rgb(243,243,243)\",\n",
    "                            paper_bgcolor = \"rgb(243,243,243)\",\n",
    "                            annotations = [dict(text = \"churn customers\",\n",
    "                                                font = dict(size = 13),\n",
    "                                                showarrow = False,\n",
    "                                                x = .15, y = .5),\n",
    "                                           dict(text = \"Non churn customers\",\n",
    "                                                font = dict(size = 13),\n",
    "                                                showarrow = False,\n",
    "                                                x = .88,y = .5\n",
    "                                               )\n",
    "                                          ]\n",
    "                           )\n",
    "                      )\n",
    "    data = [trace1,trace2]\n",
    "    fig  = go.Figure(data = data,layout = layout)\n",
    "    py.iplot(fig)"
   ]
  },
  {
   "cell_type": "code",
   "execution_count": 318,
   "metadata": {},
   "outputs": [],
   "source": [
    "#GET USERS WHO CHURNED\n",
    "churned_users = user_log.select([\"userId\"]).filter(user_log.page == \"Cancellation Confirmation\")\n",
    "churned_users = churned_users.toPandas()\n",
    "churned_users = churned_users.userId.tolist()"
   ]
  },
  {
   "cell_type": "code",
   "execution_count": 319,
   "metadata": {},
   "outputs": [
    {
     "data": {
      "text/plain": [
       "['18',\n",
       " '32',\n",
       " '125',\n",
       " '105',\n",
       " '17',\n",
       " '143',\n",
       " '101',\n",
       " '129',\n",
       " '121',\n",
       " '51',\n",
       " '87',\n",
       " '122',\n",
       " '12',\n",
       " '58',\n",
       " '73',\n",
       " '3',\n",
       " '106',\n",
       " '103',\n",
       " '28',\n",
       " '54',\n",
       " '29',\n",
       " '70',\n",
       " '53',\n",
       " '100011',\n",
       " '100001',\n",
       " '100024',\n",
       " '100006',\n",
       " '100019',\n",
       " '100003',\n",
       " '100023',\n",
       " '100005',\n",
       " '100017',\n",
       " '100025',\n",
       " '100009',\n",
       " '100012',\n",
       " '100013',\n",
       " '100022',\n",
       " '100014',\n",
       " '100015',\n",
       " '100021',\n",
       " '100007',\n",
       " '200001',\n",
       " '200024',\n",
       " '200011',\n",
       " '200021',\n",
       " '200018',\n",
       " '200015',\n",
       " '200017',\n",
       " '200016',\n",
       " '200020',\n",
       " '300007',\n",
       " '300001']"
      ]
     },
     "execution_count": 319,
     "metadata": {},
     "output_type": "execute_result"
    }
   ],
   "source": [
    "churned_users"
   ]
  },
  {
   "cell_type": "code",
   "execution_count": 320,
   "metadata": {},
   "outputs": [],
   "source": [
    "get_churn_users = udf(lambda x: 1 if( x in churned_users) else 0)"
   ]
  },
  {
   "cell_type": "code",
   "execution_count": 321,
   "metadata": {},
   "outputs": [],
   "source": [
    "#Create Churn column and mark it 1 for users who churned\n",
    "user_log = user_log.withColumn('Churn', get_churn_users(\"userId\"))"
   ]
  },
  {
   "cell_type": "code",
   "execution_count": 322,
   "metadata": {},
   "outputs": [
    {
     "name": "stdout",
     "output_type": "stream",
     "text": [
      "+-----+\n",
      "|Churn|\n",
      "+-----+\n",
      "|    0|\n",
      "|    1|\n",
      "+-----+\n",
      "\n"
     ]
    }
   ],
   "source": [
    "user_log.select(\"Churn\").dropDuplicates().show()"
   ]
  },
  {
   "cell_type": "code",
   "execution_count": 323,
   "metadata": {},
   "outputs": [],
   "source": [
    "#Decode timestamp into hour and month\n",
    "get_hour = udf(lambda x: datetime.datetime.fromtimestamp(x / 1000.0). hour)\n",
    "get_month = udf(lambda x: datetime.datetime.fromtimestamp(x / 1000.0). month)\n",
    "user_log = user_log.withColumn(\"hour\", get_hour(user_log.ts))\n",
    "user_log = user_log.withColumn(\"month\", get_month(user_log.ts))"
   ]
  },
  {
   "cell_type": "code",
   "execution_count": 324,
   "metadata": {},
   "outputs": [
    {
     "data": {
      "text/plain": [
       "[Row(artist='Martha Tilston', auth='Logged In', firstName='Colin', gender='M', itemInSession=50, lastName='Freeman', length=277.89016, level='paid', location='Bakersfield, CA', method='PUT', page='NextSong', registration=1538173362000, sessionId=29, song='Rockpools', status=200, ts=1538352117000, userAgent='Mozilla/5.0 (Windows NT 6.1; WOW64; rv:31.0) Gecko/20100101 Firefox/31.0', userId='30', Churn='0', hour='0', month='10'),\n",
       " Row(artist='Five Iron Frenzy', auth='Logged In', firstName='Micah', gender='M', itemInSession=79, lastName='Long', length=236.09424, level='free', location='Boston-Cambridge-Newton, MA-NH', method='PUT', page='NextSong', registration=1538331630000, sessionId=8, song='Canada', status=200, ts=1538352180000, userAgent='\"Mozilla/5.0 (Windows NT 6.1; WOW64) AppleWebKit/537.36 (KHTML, like Gecko) Chrome/37.0.2062.103 Safari/537.36\"', userId='9', Churn='0', hour='0', month='10')]"
      ]
     },
     "execution_count": 324,
     "metadata": {},
     "output_type": "execute_result"
    }
   ],
   "source": [
    "user_log.take(2)\n"
   ]
  },
  {
   "cell_type": "code",
   "execution_count": 325,
   "metadata": {},
   "outputs": [
    {
     "name": "stdout",
     "output_type": "stream",
     "text": [
      "+-----+----+-----+\n",
      "|Churn|hour|count|\n",
      "+-----+----+-----+\n",
      "|    0|   0| 7527|\n",
      "|    1|   0| 1535|\n",
      "|    0|   1| 7035|\n",
      "|    1|   1| 1353|\n",
      "|    1|   2| 1322|\n",
      "|    0|   2| 7014|\n",
      "|    0|   3| 7063|\n",
      "|    1|   3| 1292|\n",
      "|    0|   4| 6914|\n",
      "|    1|   4| 1233|\n",
      "|    0|   5| 6960|\n",
      "|    1|   5| 1218|\n",
      "|    0|   6| 6836|\n",
      "|    1|   6| 1218|\n",
      "|    1|   7| 1218|\n",
      "|    0|   7| 6873|\n",
      "|    1|   8| 1230|\n",
      "|    0|   8| 7023|\n",
      "|    1|   9| 1230|\n",
      "|    0|   9| 7268|\n",
      "|    0|  10| 7502|\n",
      "|    1|  10| 1380|\n",
      "|    1|  11| 1390|\n",
      "|    0|  11| 7440|\n",
      "+-----+----+-----+\n",
      "only showing top 24 rows\n",
      "\n"
     ]
    }
   ],
   "source": [
    "songs_in_hour = user_log.filter(user_log.page == \"NextSong\").groupby(user_log.Churn , user_log.hour).count().orderBy(user_log.hour.cast(\"float\"))\n",
    "songs_in_hour.show(24)"
   ]
  },
  {
   "cell_type": "code",
   "execution_count": null,
   "metadata": {},
   "outputs": [],
   "source": []
  },
  {
   "cell_type": "code",
   "execution_count": null,
   "metadata": {},
   "outputs": [],
   "source": []
  },
  {
   "cell_type": "code",
   "execution_count": 327,
   "metadata": {},
   "outputs": [
    {
     "name": "stdout",
     "output_type": "stream",
     "text": [
      "<class 'pandas.core.frame.DataFrame'>\n",
      "RangeIndex: 48 entries, 0 to 47\n",
      "Data columns (total 3 columns):\n",
      "Churn    48 non-null object\n",
      "hour     48 non-null object\n",
      "count    48 non-null int64\n",
      "dtypes: int64(1), object(2)\n",
      "memory usage: 1.2+ KB\n",
      "None\n"
     ]
    },
    {
     "data": {
      "image/png": "[encoded data removed]",
      "text/plain": [
       "<matplotlib.figure.Figure at 0x7f91bebce128>"
      ]
     },
     "metadata": {
      "needs_background": "light"
     },
     "output_type": "display_data"
    }
   ],
   "source": [
    "#Convert to Pandas for visualization\n",
    "#Number of songs in 24 hours aggregated for churned and non churned users \n",
    "\n",
    "churn_usr_songs = songs_in_hour.toPandas()\n",
    "print(churn_usr_songs.info())\n",
    "churn_usr_songs['Churn'].value_counts()\n",
    "ax = plt.gca()\n",
    "ax.set_xlabel('Hours from 0-24', fontsize=13)\n",
    "ax.set_ylabel('Number of Songs', fontsize= 13)\n",
    "\n",
    "churn_usr_songs.groupby('Churn').plot(x='hour',y='count',title = 'Churned vs Non Churned Users' ,use_index=True,figsize = (9,7) ,legend = True, grid = True, ax=ax)\n",
    "ax.legend([\"Non Churned Users\", \"Churned Users\"]);"
   ]
  },
  {
   "cell_type": "code",
   "execution_count": null,
   "metadata": {},
   "outputs": [],
   "source": []
  },
  {
   "cell_type": "code",
   "execution_count": 328,
   "metadata": {},
   "outputs": [
    {
     "name": "stdout",
     "output_type": "stream",
     "text": [
      "<class 'pandas.core.frame.DataFrame'>\n",
      "RangeIndex: 278154 entries, 0 to 278153\n",
      "Data columns (total 21 columns):\n",
      "artist           228108 non-null object\n",
      "auth             278154 non-null object\n",
      "firstName        278154 non-null object\n",
      "gender           278154 non-null object\n",
      "itemInSession    278154 non-null int64\n",
      "lastName         278154 non-null object\n",
      "length           228108 non-null float64\n",
      "level            278154 non-null object\n",
      "location         278154 non-null object\n",
      "method           278154 non-null object\n",
      "page             278154 non-null object\n",
      "registration     278154 non-null int64\n",
      "sessionId        278154 non-null int64\n",
      "song             228108 non-null object\n",
      "status           278154 non-null int64\n",
      "ts               278154 non-null int64\n",
      "userAgent        278154 non-null object\n",
      "userId           278154 non-null object\n",
      "Churn            278154 non-null object\n",
      "hour             278154 non-null object\n",
      "month            278154 non-null object\n",
      "dtypes: float64(1), int64(5), object(15)\n",
      "memory usage: 44.6+ MB\n"
     ]
    }
   ],
   "source": [
    "#-Convert user_log to PANDAS for further exploration --#\n",
    "\n",
    "from datetime import datetime\n",
    "from datetime import date\n",
    "\n",
    "\n",
    "df_user_log     = user_log.toPandas()\n",
    "df_user_log.info()\n",
    "\n",
    "#Decode ts column into time, day, month and year\n",
    "df_user_log['time']  = df_user_log['ts'].apply(lambda x: (datetime.fromtimestamp(x/1000.0). hour))\n",
    "df_user_log['day']   = df_user_log['ts'].apply(lambda x: (datetime.fromtimestamp(x/1000.0). day))\n",
    "df_user_log['month'] = df_user_log['ts'].apply(lambda x: (datetime.fromtimestamp(x/1000.0). month))\n",
    "df_user_log['year']  = df_user_log['ts'].apply(lambda x: (datetime.fromtimestamp(x/1000.0). year))\n"
   ]
  },
  {
   "cell_type": "code",
   "execution_count": 329,
   "metadata": {},
   "outputs": [
    {
     "data": {
      "text/html": [
       "<div>\n",
       "<style scoped>\n",
       "    .dataframe tbody tr th:only-of-type {\n",
       "        vertical-align: middle;\n",
       "    }\n",
       "\n",
       "    .dataframe tbody tr th {\n",
       "        vertical-align: top;\n",
       "    }\n",
       "\n",
       "    .dataframe thead th {\n",
       "        text-align: right;\n",
       "    }\n",
       "</style>\n",
       "<table border=\"1\" class=\"dataframe\">\n",
       "  <thead>\n",
       "    <tr style=\"text-align: right;\">\n",
       "      <th></th>\n",
       "      <th>artist</th>\n",
       "      <th>auth</th>\n",
       "      <th>firstName</th>\n",
       "      <th>gender</th>\n",
       "      <th>itemInSession</th>\n",
       "      <th>lastName</th>\n",
       "      <th>length</th>\n",
       "      <th>level</th>\n",
       "      <th>location</th>\n",
       "      <th>method</th>\n",
       "      <th>...</th>\n",
       "      <th>status</th>\n",
       "      <th>ts</th>\n",
       "      <th>userAgent</th>\n",
       "      <th>userId</th>\n",
       "      <th>Churn</th>\n",
       "      <th>hour</th>\n",
       "      <th>month</th>\n",
       "      <th>time</th>\n",
       "      <th>day</th>\n",
       "      <th>year</th>\n",
       "    </tr>\n",
       "  </thead>\n",
       "  <tbody>\n",
       "    <tr>\n",
       "      <th>0</th>\n",
       "      <td>Martha Tilston</td>\n",
       "      <td>Logged In</td>\n",
       "      <td>Colin</td>\n",
       "      <td>M</td>\n",
       "      <td>50</td>\n",
       "      <td>Freeman</td>\n",
       "      <td>277.89016</td>\n",
       "      <td>paid</td>\n",
       "      <td>Bakersfield, CA</td>\n",
       "      <td>PUT</td>\n",
       "      <td>...</td>\n",
       "      <td>200</td>\n",
       "      <td>1538352117000</td>\n",
       "      <td>Mozilla/5.0 (Windows NT 6.1; WOW64; rv:31.0) G...</td>\n",
       "      <td>30</td>\n",
       "      <td>0</td>\n",
       "      <td>0</td>\n",
       "      <td>10</td>\n",
       "      <td>0</td>\n",
       "      <td>1</td>\n",
       "      <td>2018</td>\n",
       "    </tr>\n",
       "    <tr>\n",
       "      <th>1</th>\n",
       "      <td>Five Iron Frenzy</td>\n",
       "      <td>Logged In</td>\n",
       "      <td>Micah</td>\n",
       "      <td>M</td>\n",
       "      <td>79</td>\n",
       "      <td>Long</td>\n",
       "      <td>236.09424</td>\n",
       "      <td>free</td>\n",
       "      <td>Boston-Cambridge-Newton, MA-NH</td>\n",
       "      <td>PUT</td>\n",
       "      <td>...</td>\n",
       "      <td>200</td>\n",
       "      <td>1538352180000</td>\n",
       "      <td>\"Mozilla/5.0 (Windows NT 6.1; WOW64) AppleWebK...</td>\n",
       "      <td>9</td>\n",
       "      <td>0</td>\n",
       "      <td>0</td>\n",
       "      <td>10</td>\n",
       "      <td>0</td>\n",
       "      <td>1</td>\n",
       "      <td>2018</td>\n",
       "    </tr>\n",
       "    <tr>\n",
       "      <th>2</th>\n",
       "      <td>Adam Lambert</td>\n",
       "      <td>Logged In</td>\n",
       "      <td>Colin</td>\n",
       "      <td>M</td>\n",
       "      <td>51</td>\n",
       "      <td>Freeman</td>\n",
       "      <td>282.82730</td>\n",
       "      <td>paid</td>\n",
       "      <td>Bakersfield, CA</td>\n",
       "      <td>PUT</td>\n",
       "      <td>...</td>\n",
       "      <td>200</td>\n",
       "      <td>1538352394000</td>\n",
       "      <td>Mozilla/5.0 (Windows NT 6.1; WOW64; rv:31.0) G...</td>\n",
       "      <td>30</td>\n",
       "      <td>0</td>\n",
       "      <td>0</td>\n",
       "      <td>10</td>\n",
       "      <td>0</td>\n",
       "      <td>1</td>\n",
       "      <td>2018</td>\n",
       "    </tr>\n",
       "  </tbody>\n",
       "</table>\n",
       "<p>3 rows × 24 columns</p>\n",
       "</div>"
      ],
      "text/plain": [
       "             artist       auth firstName gender  itemInSession lastName  \\\n",
       "0    Martha Tilston  Logged In     Colin      M             50  Freeman   \n",
       "1  Five Iron Frenzy  Logged In     Micah      M             79     Long   \n",
       "2      Adam Lambert  Logged In     Colin      M             51  Freeman   \n",
       "\n",
       "      length level                        location method  ...  status  \\\n",
       "0  277.89016  paid                 Bakersfield, CA    PUT  ...     200   \n",
       "1  236.09424  free  Boston-Cambridge-Newton, MA-NH    PUT  ...     200   \n",
       "2  282.82730  paid                 Bakersfield, CA    PUT  ...     200   \n",
       "\n",
       "              ts                                          userAgent userId  \\\n",
       "0  1538352117000  Mozilla/5.0 (Windows NT 6.1; WOW64; rv:31.0) G...     30   \n",
       "1  1538352180000  \"Mozilla/5.0 (Windows NT 6.1; WOW64) AppleWebK...      9   \n",
       "2  1538352394000  Mozilla/5.0 (Windows NT 6.1; WOW64; rv:31.0) G...     30   \n",
       "\n",
       "   Churn  hour month time day  year  \n",
       "0      0     0    10    0   1  2018  \n",
       "1      0     0    10    0   1  2018  \n",
       "2      0     0    10    0   1  2018  \n",
       "\n",
       "[3 rows x 24 columns]"
      ]
     },
     "execution_count": 329,
     "metadata": {},
     "output_type": "execute_result"
    }
   ],
   "source": [
    "df_user_log.head(3)"
   ]
  },
  {
   "cell_type": "code",
   "execution_count": 330,
   "metadata": {},
   "outputs": [
    {
     "name": "stdout",
     "output_type": "stream",
     "text": [
      "        userId  month\n",
      "207497     152     12\n",
      "219898  100002     12\n",
      "241225  200008     12\n",
      "278153  300011     12\n"
     ]
    }
   ],
   "source": [
    "#REMOVING OUTLIER - DECEMEBER ONLY 4 ENTRIES\n",
    "print(df_user_log[df_user_log['month'] == 12][['userId', 'month']].head(5))\n",
    "df_user_log = df_user_log.drop(df_user_log[df_user_log.month == 12].index)"
   ]
  },
  {
   "cell_type": "code",
   "execution_count": 332,
   "metadata": {},
   "outputs": [],
   "source": [
    "total_users = df_user_log['userId'].drop_duplicates().count()\n",
    "\n",
    "num_churned_user    = explore_data(df_user_log, \"userId\", \"1\")\n",
    "num_non_churned_user = explore_data(df_user_log,\"userId\", \"0\")\n",
    "\n",
    "num_males   = df_user_log[df_user_log['gender'] == \"M\"][['userId']].drop_duplicates().count()\n",
    "num_females = df_user_log[df_user_log['gender'] == \"F\"][['userId']].drop_duplicates().count()"
   ]
  },
  {
   "cell_type": "code",
   "execution_count": 333,
   "metadata": {},
   "outputs": [
    {
     "data": {
      "image/png": "[encoded data removed]",
      "text/plain": [
       "<matplotlib.figure.Figure at 0x7f91bfd752e8>"
      ]
     },
     "metadata": {},
     "output_type": "display_data"
    },
    {
     "data": {
      "image/png": "[encoded data removed]",
      "text/plain": [
       "<matplotlib.figure.Figure at 0x7f91c32ccf98>"
      ]
     },
     "metadata": {},
     "output_type": "display_data"
    }
   ],
   "source": [
    "#--PLOT--#\n",
    "plot_pie_chart(num_churned_user, num_non_churned_user)\n",
    "plot_pie_chart(num_males, num_females, 'males', 'females')\n"
   ]
  },
  {
   "cell_type": "code",
   "execution_count": 334,
   "metadata": {},
   "outputs": [
    {
     "name": "stdout",
     "output_type": "stream",
     "text": [
      "TOTAL USERS: 225\n",
      "CHURNED USERS: [52]\n",
      "NON CHURNED USERS: [173]\n"
     ]
    }
   ],
   "source": [
    "print(\"TOTAL USERS:\", total_users)\n",
    "print(\"CHURNED USERS:\",    num_churned_user.values)\n",
    "print(\"NON CHURNED USERS:\", num_non_churned_user.values)"
   ]
  },
  {
   "cell_type": "code",
   "execution_count": null,
   "metadata": {},
   "outputs": [],
   "source": []
  },
  {
   "cell_type": "code",
   "execution_count": 335,
   "metadata": {},
   "outputs": [
    {
     "data": {
      "text/plain": [
       "<matplotlib.axes._subplots.AxesSubplot at 0x7f9199c048d0>"
      ]
     },
     "execution_count": 335,
     "metadata": {},
     "output_type": "execute_result"
    },
    {
     "data": {
      "image/png": "[encoded data removed]",
      "text/plain": [
       "<matplotlib.figure.Figure at 0x7f9199c12d68>"
      ]
     },
     "metadata": {
      "needs_background": "light"
     },
     "output_type": "display_data"
    }
   ],
   "source": [
    "churned_timewise = df_user_log[df_user_log['page'] == 'Cancellation Confirmation'][['day', 'month']]\n",
    "churned_timewise['month'].value_counts(sort=False).plot(kind='bar', use_index=True, title='Churned Users Month Wise')"
   ]
  },
  {
   "cell_type": "code",
   "execution_count": 336,
   "metadata": {},
   "outputs": [
    {
     "data": {
      "image/png": "[encoded data removed]",
      "text/plain": [
       "<matplotlib.figure.Figure at 0x7f91a2a2bd30>"
      ]
     },
     "metadata": {
      "needs_background": "light"
     },
     "output_type": "display_data"
    },
    {
     "data": {
      "image/png": "[encoded data removed]",
      "text/plain": [
       "<matplotlib.figure.Figure at 0x7f91a09084e0>"
      ]
     },
     "metadata": {
      "needs_background": "light"
     },
     "output_type": "display_data"
    },
    {
     "data": {
      "image/png": "[encoded data removed]",
      "text/plain": [
       "<matplotlib.figure.Figure at 0x7f91a2a2d7b8>"
      ]
     },
     "metadata": {
      "needs_background": "light"
     },
     "output_type": "display_data"
    },
    {
     "data": {
      "image/png": "[encoded data removed]",
      "text/plain": [
       "<matplotlib.figure.Figure at 0x7f91a0908f28>"
      ]
     },
     "metadata": {
      "needs_background": "light"
     },
     "output_type": "display_data"
    },
    {
     "data": {
      "image/png": "[encoded data removed]",
      "text/plain": [
       "<matplotlib.figure.Figure at 0x7f91a2a2b898>"
      ]
     },
     "metadata": {
      "needs_background": "light"
     },
     "output_type": "display_data"
    },
    {
     "data": {
      "image/png": "[encoded data removed]",
      "text/plain": [
       "<matplotlib.figure.Figure at 0x7f91a7cdda90>"
      ]
     },
     "metadata": {
      "needs_background": "light"
     },
     "output_type": "display_data"
    }
   ],
   "source": [
    "#Plot events month wise for Churned and Non Churned Users\n",
    "to_plot = ['Downgrade', 'Upgrade', 'Thumbs Down' , 'Thumbs Up', 'NextSong', 'Add to Playlist']\n",
    "for i in to_plot:\n",
    " plot_over_time(df_user_log, 'page' , i, 'month' , 'Months' , i)"
   ]
  },
  {
   "cell_type": "code",
   "execution_count": null,
   "metadata": {},
   "outputs": [],
   "source": []
  },
  {
   "cell_type": "code",
   "execution_count": 337,
   "metadata": {},
   "outputs": [
    {
     "name": "stdout",
     "output_type": "stream",
     "text": [
      "(278150, 63)\n"
     ]
    }
   ],
   "source": [
    "#Get all the event names from page column\n",
    "page_events_name = df_user_log['page'].unique()\n",
    "page_events_name = list(page_events_name)\n",
    "\n",
    "#-Convert Categorical Columns\n",
    "df_events = pd.get_dummies(df_user_log, columns=['gender','level', 'page'])\n",
    "\n",
    "#Create new column for example: num_NextSong\n",
    "# sum all the events for each user and update respective event column\n",
    "for name in page_events_name:\n",
    " df_events = get_total_number(df_events, 'page_'+name,'num_'+name)\n",
    "\n",
    "df_events.columns \n",
    "print(df_events.shape)"
   ]
  },
  {
   "cell_type": "code",
   "execution_count": 338,
   "metadata": {},
   "outputs": [
    {
     "name": "stdout",
     "output_type": "stream",
     "text": [
      "(225, 63)\n"
     ]
    }
   ],
   "source": [
    "#Since all the events for each user are summed up, drop other entries and keep only one entry for each user id\n",
    "df_events = df_events.drop_duplicates(subset=['userId'], keep='first')\n",
    "print(df_events.shape)\n"
   ]
  },
  {
   "cell_type": "code",
   "execution_count": 339,
   "metadata": {},
   "outputs": [
    {
     "data": {
      "text/html": [
       "<div>\n",
       "<style scoped>\n",
       "    .dataframe tbody tr th:only-of-type {\n",
       "        vertical-align: middle;\n",
       "    }\n",
       "\n",
       "    .dataframe tbody tr th {\n",
       "        vertical-align: top;\n",
       "    }\n",
       "\n",
       "    .dataframe thead th {\n",
       "        text-align: right;\n",
       "    }\n",
       "</style>\n",
       "<table border=\"1\" class=\"dataframe\">\n",
       "  <thead>\n",
       "    <tr style=\"text-align: right;\">\n",
       "      <th></th>\n",
       "      <th>artist</th>\n",
       "      <th>auth</th>\n",
       "      <th>firstName</th>\n",
       "      <th>itemInSession</th>\n",
       "      <th>lastName</th>\n",
       "      <th>length</th>\n",
       "      <th>location</th>\n",
       "      <th>method</th>\n",
       "      <th>registration</th>\n",
       "      <th>sessionId</th>\n",
       "      <th>...</th>\n",
       "      <th>num_Upgrade</th>\n",
       "      <th>num_Add Friend</th>\n",
       "      <th>num_Settings</th>\n",
       "      <th>num_Submit Upgrade</th>\n",
       "      <th>num_About</th>\n",
       "      <th>num_Submit Downgrade</th>\n",
       "      <th>num_Error</th>\n",
       "      <th>num_Save Settings</th>\n",
       "      <th>num_Cancel</th>\n",
       "      <th>num_Cancellation Confirmation</th>\n",
       "    </tr>\n",
       "  </thead>\n",
       "  <tbody>\n",
       "    <tr>\n",
       "      <th>0</th>\n",
       "      <td>Martha Tilston</td>\n",
       "      <td>Logged In</td>\n",
       "      <td>Colin</td>\n",
       "      <td>50</td>\n",
       "      <td>Freeman</td>\n",
       "      <td>277.89016</td>\n",
       "      <td>Bakersfield, CA</td>\n",
       "      <td>PUT</td>\n",
       "      <td>1538173362000</td>\n",
       "      <td>29</td>\n",
       "      <td>...</td>\n",
       "      <td>14</td>\n",
       "      <td>25</td>\n",
       "      <td>13</td>\n",
       "      <td>1</td>\n",
       "      <td>3</td>\n",
       "      <td>1</td>\n",
       "      <td>1</td>\n",
       "      <td>1</td>\n",
       "      <td>0</td>\n",
       "      <td>0</td>\n",
       "    </tr>\n",
       "    <tr>\n",
       "      <th>1</th>\n",
       "      <td>Five Iron Frenzy</td>\n",
       "      <td>Logged In</td>\n",
       "      <td>Micah</td>\n",
       "      <td>79</td>\n",
       "      <td>Long</td>\n",
       "      <td>236.09424</td>\n",
       "      <td>Boston-Cambridge-Newton, MA-NH</td>\n",
       "      <td>PUT</td>\n",
       "      <td>1538331630000</td>\n",
       "      <td>8</td>\n",
       "      <td>...</td>\n",
       "      <td>6</td>\n",
       "      <td>40</td>\n",
       "      <td>12</td>\n",
       "      <td>2</td>\n",
       "      <td>9</td>\n",
       "      <td>1</td>\n",
       "      <td>3</td>\n",
       "      <td>1</td>\n",
       "      <td>0</td>\n",
       "      <td>0</td>\n",
       "    </tr>\n",
       "    <tr>\n",
       "      <th>17</th>\n",
       "      <td>Tokyo Police Club</td>\n",
       "      <td>Logged In</td>\n",
       "      <td>Ashlynn</td>\n",
       "      <td>0</td>\n",
       "      <td>Williams</td>\n",
       "      <td>166.11220</td>\n",
       "      <td>Tallahassee, FL</td>\n",
       "      <td>PUT</td>\n",
       "      <td>1537365219000</td>\n",
       "      <td>217</td>\n",
       "      <td>...</td>\n",
       "      <td>3</td>\n",
       "      <td>43</td>\n",
       "      <td>17</td>\n",
       "      <td>2</td>\n",
       "      <td>4</td>\n",
       "      <td>1</td>\n",
       "      <td>1</td>\n",
       "      <td>1</td>\n",
       "      <td>0</td>\n",
       "      <td>0</td>\n",
       "    </tr>\n",
       "  </tbody>\n",
       "</table>\n",
       "<p>3 rows × 63 columns</p>\n",
       "</div>"
      ],
      "text/plain": [
       "               artist       auth firstName  itemInSession  lastName  \\\n",
       "0      Martha Tilston  Logged In     Colin             50   Freeman   \n",
       "1    Five Iron Frenzy  Logged In     Micah             79      Long   \n",
       "17  Tokyo Police Club  Logged In   Ashlynn              0  Williams   \n",
       "\n",
       "       length                        location method   registration  \\\n",
       "0   277.89016                 Bakersfield, CA    PUT  1538173362000   \n",
       "1   236.09424  Boston-Cambridge-Newton, MA-NH    PUT  1538331630000   \n",
       "17  166.11220                 Tallahassee, FL    PUT  1537365219000   \n",
       "\n",
       "    sessionId              ...               num_Upgrade  num_Add Friend  \\\n",
       "0          29              ...                        14              25   \n",
       "1           8              ...                         6              40   \n",
       "17        217              ...                         3              43   \n",
       "\n",
       "    num_Settings num_Submit Upgrade num_About num_Submit Downgrade num_Error  \\\n",
       "0             13                  1         3                    1         1   \n",
       "1             12                  2         9                    1         3   \n",
       "17            17                  2         4                    1         1   \n",
       "\n",
       "    num_Save Settings  num_Cancel  num_Cancellation Confirmation  \n",
       "0                   1           0                              0  \n",
       "1                   1           0                              0  \n",
       "17                  1           0                              0  \n",
       "\n",
       "[3 rows x 63 columns]"
      ]
     },
     "execution_count": 339,
     "metadata": {},
     "output_type": "execute_result"
    }
   ],
   "source": [
    "df_events.head(3)"
   ]
  },
  {
   "cell_type": "code",
   "execution_count": null,
   "metadata": {},
   "outputs": [],
   "source": []
  },
  {
   "cell_type": "code",
   "execution_count": 340,
   "metadata": {},
   "outputs": [
    {
     "data": {
      "application/vnd.plotly.v1+json": {
       "data": [
        {
         "domain": {
          "x": [
           0,
           0.48
          ]
         },
         "hole": 0.6,
         "hoverinfo": "label+percent+name",
         "labels": [
          "M",
          "F"
         ],
         "marker": {
          "line": {
           "color": "rgb(243,243,243)",
           "width": 2
          }
         },
         "name": "Churn Customers",
         "type": "pie",
         "values": [
          25696,
          19168
         ]
        },
        {
         "domain": {
          "x": [
           0.52,
           1
          ]
         },
         "hole": 0.6,
         "hoverinfo": "label+percent+name",
         "labels": [
          "F",
          "M"
         ],
         "marker": {
          "line": {
           "color": "rgb(243,243,243)",
           "width": 2
          }
         },
         "name": "Non churn customers",
         "type": "pie",
         "values": [
          135410,
          97880
         ]
        }
       ],
       "layout": {
        "annotations": [
         {
          "font": {
           "size": 13
          },
          "showarrow": false,
          "text": "churn customers",
          "x": 0.15,
          "y": 0.5
         },
         {
          "font": {
           "size": 13
          },
          "showarrow": false,
          "text": "Non churn customers",
          "x": 0.88,
          "y": 0.5
         }
        ],
        "paper_bgcolor": "rgb(243,243,243)",
        "plot_bgcolor": "rgb(243,243,243)",
        "title": "gender distribution"
       }
      },
      "text/html": [
       "<div id=\"36bffa9c-7c3f-4317-b664-973a419bbdb2\" style=\"height: 525px; width: 100%;\" class=\"plotly-graph-div\"></div><script type=\"text/javascript\">require([\"plotly\"], function(Plotly) { window.PLOTLYENV=window.PLOTLYENV || {};window.PLOTLYENV.BASE_URL=\"https://plot.ly\";Plotly.newPlot(\"36bffa9c-7c3f-4317-b664-973a419bbdb2\", [{\"type\": \"pie\", \"values\": [25696, 19168], \"labels\": [\"M\", \"F\"], \"hoverinfo\": \"label+percent+name\", \"domain\": {\"x\": [0, 0.48]}, \"name\": \"Churn Customers\", \"marker\": {\"line\": {\"width\": 2, \"color\": \"rgb(243,243,243)\"}}, \"hole\": 0.6}, {\"type\": \"pie\", \"values\": [135410, 97880], \"labels\": [\"F\", \"M\"], \"hoverinfo\": \"label+percent+name\", \"marker\": {\"line\": {\"width\": 2, \"color\": \"rgb(243,243,243)\"}}, \"domain\": {\"x\": [0.52, 1]}, \"hole\": 0.6, \"name\": \"Non churn customers\"}], {\"title\": \"gender distribution\", \"plot_bgcolor\": \"rgb(243,243,243)\", \"paper_bgcolor\": \"rgb(243,243,243)\", \"annotations\": [{\"text\": \"churn customers\", \"font\": {\"size\": 13}, \"showarrow\": false, \"x\": 0.15, \"y\": 0.5}, {\"text\": \"Non churn customers\", \"font\": {\"size\": 13}, \"showarrow\": false, \"x\": 0.88, \"y\": 0.5}]}, {\"showLink\": true, \"linkText\": \"Export to plot.ly\"})});</script>"
      ],
      "text/vnd.plotly.v1+html": [
       "<div id=\"36bffa9c-7c3f-4317-b664-973a419bbdb2\" style=\"height: 525px; width: 100%;\" class=\"plotly-graph-div\"></div><script type=\"text/javascript\">require([\"plotly\"], function(Plotly) { window.PLOTLYENV=window.PLOTLYENV || {};window.PLOTLYENV.BASE_URL=\"https://plot.ly\";Plotly.newPlot(\"36bffa9c-7c3f-4317-b664-973a419bbdb2\", [{\"type\": \"pie\", \"values\": [25696, 19168], \"labels\": [\"M\", \"F\"], \"hoverinfo\": \"label+percent+name\", \"domain\": {\"x\": [0, 0.48]}, \"name\": \"Churn Customers\", \"marker\": {\"line\": {\"width\": 2, \"color\": \"rgb(243,243,243)\"}}, \"hole\": 0.6}, {\"type\": \"pie\", \"values\": [135410, 97880], \"labels\": [\"F\", \"M\"], \"hoverinfo\": \"label+percent+name\", \"marker\": {\"line\": {\"width\": 2, \"color\": \"rgb(243,243,243)\"}}, \"domain\": {\"x\": [0.52, 1]}, \"hole\": 0.6, \"name\": \"Non churn customers\"}], {\"title\": \"gender distribution\", \"plot_bgcolor\": \"rgb(243,243,243)\", \"paper_bgcolor\": \"rgb(243,243,243)\", \"annotations\": [{\"text\": \"churn customers\", \"font\": {\"size\": 13}, \"showarrow\": false, \"x\": 0.15, \"y\": 0.5}, {\"text\": \"Non churn customers\", \"font\": {\"size\": 13}, \"showarrow\": false, \"x\": 0.88, \"y\": 0.5}]}, {\"showLink\": true, \"linkText\": \"Export to plot.ly\"})});</script>"
      ]
     },
     "metadata": {},
     "output_type": "display_data"
    }
   ],
   "source": [
    "plot_pie('gender')"
   ]
  },
  {
   "cell_type": "code",
   "execution_count": 341,
   "metadata": {},
   "outputs": [
    {
     "data": {
      "application/vnd.plotly.v1+json": {
       "data": [
        {
         "domain": {
          "x": [
           0,
           0.48
          ]
         },
         "hole": 0.6,
         "hoverinfo": "label+percent+name",
         "labels": [
          "NextSong",
          "Thumbs Up",
          "Home",
          "Add to Playlist",
          "Roll Advert",
          "Add Friend",
          "Logout",
          "Thumbs Down",
          "Downgrade",
          "Settings",
          "Help",
          "Upgrade",
          "Save Settings",
          "About",
          "Cancellation Confirmation",
          "Cancel",
          "Error",
          "Submit Upgrade",
          "Submit Downgrade"
         ],
         "marker": {
          "line": {
           "color": "rgb(243,243,243)",
           "width": 2
          }
         },
         "name": "Churn Customers",
         "type": "pie",
         "values": [
          36394,
          1859,
          1672,
          1038,
          967,
          636,
          553,
          496,
          337,
          270,
          239,
          112,
          58,
          56,
          52,
          52,
          32,
          32,
          9
         ]
        },
        {
         "domain": {
          "x": [
           0.52,
           1
          ]
         },
         "hole": 0.6,
         "hoverinfo": "label+percent+name",
         "labels": [
          "NextSong",
          "Thumbs Up",
          "Home",
          "Add to Playlist",
          "Add Friend",
          "Roll Advert",
          "Logout",
          "Thumbs Down",
          "Downgrade",
          "Settings",
          "Help",
          "About",
          "Upgrade",
          "Save Settings",
          "Error",
          "Submit Upgrade",
          "Submit Downgrade"
         ],
         "marker": {
          "line": {
           "color": "rgb(243,243,243)",
           "width": 2
          }
         },
         "name": "Non churn customers",
         "type": "pie",
         "values": [
          191714,
          10692,
          8410,
          5488,
          3641,
          2966,
          2673,
          2050,
          1718,
          1244,
          1215,
          439,
          387,
          252,
          220,
          127,
          54
         ]
        }
       ],
       "layout": {
        "annotations": [
         {
          "font": {
           "size": 13
          },
          "showarrow": false,
          "text": "churn customers",
          "x": 0.15,
          "y": 0.5
         },
         {
          "font": {
           "size": 13
          },
          "showarrow": false,
          "text": "Non churn customers",
          "x": 0.88,
          "y": 0.5
         }
        ],
        "paper_bgcolor": "rgb(243,243,243)",
        "plot_bgcolor": "rgb(243,243,243)",
        "title": "page distribution"
       }
      },
      "text/html": [
       "<div id=\"4e6b4c59-caa5-482d-a3e3-b528d0f92182\" style=\"height: 525px; width: 100%;\" class=\"plotly-graph-div\"></div><script type=\"text/javascript\">require([\"plotly\"], function(Plotly) { window.PLOTLYENV=window.PLOTLYENV || {};window.PLOTLYENV.BASE_URL=\"https://plot.ly\";Plotly.newPlot(\"4e6b4c59-caa5-482d-a3e3-b528d0f92182\", [{\"type\": \"pie\", \"values\": [36394, 1859, 1672, 1038, 967, 636, 553, 496, 337, 270, 239, 112, 58, 56, 52, 52, 32, 32, 9], \"labels\": [\"NextSong\", \"Thumbs Up\", \"Home\", \"Add to Playlist\", \"Roll Advert\", \"Add Friend\", \"Logout\", \"Thumbs Down\", \"Downgrade\", \"Settings\", \"Help\", \"Upgrade\", \"Save Settings\", \"About\", \"Cancellation Confirmation\", \"Cancel\", \"Error\", \"Submit Upgrade\", \"Submit Downgrade\"], \"hoverinfo\": \"label+percent+name\", \"domain\": {\"x\": [0, 0.48]}, \"name\": \"Churn Customers\", \"marker\": {\"line\": {\"width\": 2, \"color\": \"rgb(243,243,243)\"}}, \"hole\": 0.6}, {\"type\": \"pie\", \"values\": [191714, 10692, 8410, 5488, 3641, 2966, 2673, 2050, 1718, 1244, 1215, 439, 387, 252, 220, 127, 54], \"labels\": [\"NextSong\", \"Thumbs Up\", \"Home\", \"Add to Playlist\", \"Add Friend\", \"Roll Advert\", \"Logout\", \"Thumbs Down\", \"Downgrade\", \"Settings\", \"Help\", \"About\", \"Upgrade\", \"Save Settings\", \"Error\", \"Submit Upgrade\", \"Submit Downgrade\"], \"hoverinfo\": \"label+percent+name\", \"marker\": {\"line\": {\"width\": 2, \"color\": \"rgb(243,243,243)\"}}, \"domain\": {\"x\": [0.52, 1]}, \"hole\": 0.6, \"name\": \"Non churn customers\"}], {\"title\": \"page distribution\", \"plot_bgcolor\": \"rgb(243,243,243)\", \"paper_bgcolor\": \"rgb(243,243,243)\", \"annotations\": [{\"text\": \"churn customers\", \"font\": {\"size\": 13}, \"showarrow\": false, \"x\": 0.15, \"y\": 0.5}, {\"text\": \"Non churn customers\", \"font\": {\"size\": 13}, \"showarrow\": false, \"x\": 0.88, \"y\": 0.5}]}, {\"showLink\": true, \"linkText\": \"Export to plot.ly\"})});</script>"
      ],
      "text/vnd.plotly.v1+html": [
       "<div id=\"4e6b4c59-caa5-482d-a3e3-b528d0f92182\" style=\"height: 525px; width: 100%;\" class=\"plotly-graph-div\"></div><script type=\"text/javascript\">require([\"plotly\"], function(Plotly) { window.PLOTLYENV=window.PLOTLYENV || {};window.PLOTLYENV.BASE_URL=\"https://plot.ly\";Plotly.newPlot(\"4e6b4c59-caa5-482d-a3e3-b528d0f92182\", [{\"type\": \"pie\", \"values\": [36394, 1859, 1672, 1038, 967, 636, 553, 496, 337, 270, 239, 112, 58, 56, 52, 52, 32, 32, 9], \"labels\": [\"NextSong\", \"Thumbs Up\", \"Home\", \"Add to Playlist\", \"Roll Advert\", \"Add Friend\", \"Logout\", \"Thumbs Down\", \"Downgrade\", \"Settings\", \"Help\", \"Upgrade\", \"Save Settings\", \"About\", \"Cancellation Confirmation\", \"Cancel\", \"Error\", \"Submit Upgrade\", \"Submit Downgrade\"], \"hoverinfo\": \"label+percent+name\", \"domain\": {\"x\": [0, 0.48]}, \"name\": \"Churn Customers\", \"marker\": {\"line\": {\"width\": 2, \"color\": \"rgb(243,243,243)\"}}, \"hole\": 0.6}, {\"type\": \"pie\", \"values\": [191714, 10692, 8410, 5488, 3641, 2966, 2673, 2050, 1718, 1244, 1215, 439, 387, 252, 220, 127, 54], \"labels\": [\"NextSong\", \"Thumbs Up\", \"Home\", \"Add to Playlist\", \"Add Friend\", \"Roll Advert\", \"Logout\", \"Thumbs Down\", \"Downgrade\", \"Settings\", \"Help\", \"About\", \"Upgrade\", \"Save Settings\", \"Error\", \"Submit Upgrade\", \"Submit Downgrade\"], \"hoverinfo\": \"label+percent+name\", \"marker\": {\"line\": {\"width\": 2, \"color\": \"rgb(243,243,243)\"}}, \"domain\": {\"x\": [0.52, 1]}, \"hole\": 0.6, \"name\": \"Non churn customers\"}], {\"title\": \"page distribution\", \"plot_bgcolor\": \"rgb(243,243,243)\", \"paper_bgcolor\": \"rgb(243,243,243)\", \"annotations\": [{\"text\": \"churn customers\", \"font\": {\"size\": 13}, \"showarrow\": false, \"x\": 0.15, \"y\": 0.5}, {\"text\": \"Non churn customers\", \"font\": {\"size\": 13}, \"showarrow\": false, \"x\": 0.88, \"y\": 0.5}]}, {\"showLink\": true, \"linkText\": \"Export to plot.ly\"})});</script>"
      ]
     },
     "metadata": {},
     "output_type": "display_data"
    }
   ],
   "source": [
    "plot_pie('page')"
   ]
  },
  {
   "cell_type": "code",
   "execution_count": 342,
   "metadata": {},
   "outputs": [
    {
     "data": {
      "application/vnd.plotly.v1+json": {
       "data": [
        {
         "domain": {
          "x": [
           0,
           0.48
          ]
         },
         "hole": 0.6,
         "hoverinfo": "label+percent+name",
         "labels": [
          "Logged In",
          "Cancelled"
         ],
         "marker": {
          "line": {
           "color": "rgb(243,243,243)",
           "width": 2
          }
         },
         "name": "Churn Customers",
         "type": "pie",
         "values": [
          44812,
          52
         ]
        },
        {
         "domain": {
          "x": [
           0.52,
           1
          ]
         },
         "hole": 0.6,
         "hoverinfo": "label+percent+name",
         "labels": [
          "Logged In"
         ],
         "marker": {
          "line": {
           "color": "rgb(243,243,243)",
           "width": 2
          }
         },
         "name": "Non churn customers",
         "type": "pie",
         "values": [
          233290
         ]
        }
       ],
       "layout": {
        "annotations": [
         {
          "font": {
           "size": 13
          },
          "showarrow": false,
          "text": "churn customers",
          "x": 0.15,
          "y": 0.5
         },
         {
          "font": {
           "size": 13
          },
          "showarrow": false,
          "text": "Non churn customers",
          "x": 0.88,
          "y": 0.5
         }
        ],
        "paper_bgcolor": "rgb(243,243,243)",
        "plot_bgcolor": "rgb(243,243,243)",
        "title": "auth distribution"
       }
      },
      "text/html": [
       "<div id=\"dbd6fea1-493a-4515-98e6-c190ba83f240\" style=\"height: 525px; width: 100%;\" class=\"plotly-graph-div\"></div><script type=\"text/javascript\">require([\"plotly\"], function(Plotly) { window.PLOTLYENV=window.PLOTLYENV || {};window.PLOTLYENV.BASE_URL=\"https://plot.ly\";Plotly.newPlot(\"dbd6fea1-493a-4515-98e6-c190ba83f240\", [{\"type\": \"pie\", \"values\": [44812, 52], \"labels\": [\"Logged In\", \"Cancelled\"], \"hoverinfo\": \"label+percent+name\", \"domain\": {\"x\": [0, 0.48]}, \"name\": \"Churn Customers\", \"marker\": {\"line\": {\"width\": 2, \"color\": \"rgb(243,243,243)\"}}, \"hole\": 0.6}, {\"type\": \"pie\", \"values\": [233290], \"labels\": [\"Logged In\"], \"hoverinfo\": \"label+percent+name\", \"marker\": {\"line\": {\"width\": 2, \"color\": \"rgb(243,243,243)\"}}, \"domain\": {\"x\": [0.52, 1]}, \"hole\": 0.6, \"name\": \"Non churn customers\"}], {\"title\": \"auth distribution\", \"plot_bgcolor\": \"rgb(243,243,243)\", \"paper_bgcolor\": \"rgb(243,243,243)\", \"annotations\": [{\"text\": \"churn customers\", \"font\": {\"size\": 13}, \"showarrow\": false, \"x\": 0.15, \"y\": 0.5}, {\"text\": \"Non churn customers\", \"font\": {\"size\": 13}, \"showarrow\": false, \"x\": 0.88, \"y\": 0.5}]}, {\"showLink\": true, \"linkText\": \"Export to plot.ly\"})});</script>"
      ],
      "text/vnd.plotly.v1+html": [
       "<div id=\"dbd6fea1-493a-4515-98e6-c190ba83f240\" style=\"height: 525px; width: 100%;\" class=\"plotly-graph-div\"></div><script type=\"text/javascript\">require([\"plotly\"], function(Plotly) { window.PLOTLYENV=window.PLOTLYENV || {};window.PLOTLYENV.BASE_URL=\"https://plot.ly\";Plotly.newPlot(\"dbd6fea1-493a-4515-98e6-c190ba83f240\", [{\"type\": \"pie\", \"values\": [44812, 52], \"labels\": [\"Logged In\", \"Cancelled\"], \"hoverinfo\": \"label+percent+name\", \"domain\": {\"x\": [0, 0.48]}, \"name\": \"Churn Customers\", \"marker\": {\"line\": {\"width\": 2, \"color\": \"rgb(243,243,243)\"}}, \"hole\": 0.6}, {\"type\": \"pie\", \"values\": [233290], \"labels\": [\"Logged In\"], \"hoverinfo\": \"label+percent+name\", \"marker\": {\"line\": {\"width\": 2, \"color\": \"rgb(243,243,243)\"}}, \"domain\": {\"x\": [0.52, 1]}, \"hole\": 0.6, \"name\": \"Non churn customers\"}], {\"title\": \"auth distribution\", \"plot_bgcolor\": \"rgb(243,243,243)\", \"paper_bgcolor\": \"rgb(243,243,243)\", \"annotations\": [{\"text\": \"churn customers\", \"font\": {\"size\": 13}, \"showarrow\": false, \"x\": 0.15, \"y\": 0.5}, {\"text\": \"Non churn customers\", \"font\": {\"size\": 13}, \"showarrow\": false, \"x\": 0.88, \"y\": 0.5}]}, {\"showLink\": true, \"linkText\": \"Export to plot.ly\"})});</script>"
      ]
     },
     "metadata": {},
     "output_type": "display_data"
    }
   ],
   "source": [
    "plot_pie('auth')"
   ]
  },
  {
   "cell_type": "code",
   "execution_count": 343,
   "metadata": {},
   "outputs": [
    {
     "data": {
      "application/vnd.plotly.v1+json": {
       "data": [
        {
         "domain": {
          "x": [
           0,
           0.48
          ]
         },
         "hole": 0.6,
         "hoverinfo": "label+percent+name",
         "labels": [
          "paid",
          "free"
         ],
         "marker": {
          "line": {
           "color": "rgb(243,243,243)",
           "width": 2
          }
         },
         "name": "Churn Customers",
         "type": "pie",
         "values": [
          32476,
          12388
         ]
        },
        {
         "domain": {
          "x": [
           0.52,
           1
          ]
         },
         "hole": 0.6,
         "hoverinfo": "label+percent+name",
         "labels": [
          "paid",
          "free"
         ],
         "marker": {
          "line": {
           "color": "rgb(243,243,243)",
           "width": 2
          }
         },
         "name": "Non churn customers",
         "type": "pie",
         "values": [
          189957,
          43333
         ]
        }
       ],
       "layout": {
        "annotations": [
         {
          "font": {
           "size": 13
          },
          "showarrow": false,
          "text": "churn customers",
          "x": 0.15,
          "y": 0.5
         },
         {
          "font": {
           "size": 13
          },
          "showarrow": false,
          "text": "Non churn customers",
          "x": 0.88,
          "y": 0.5
         }
        ],
        "paper_bgcolor": "rgb(243,243,243)",
        "plot_bgcolor": "rgb(243,243,243)",
        "title": "level distribution"
       }
      },
      "text/html": [
       "<div id=\"1a85ff2e-106e-40ea-b32c-dc829c9dae92\" style=\"height: 525px; width: 100%;\" class=\"plotly-graph-div\"></div><script type=\"text/javascript\">require([\"plotly\"], function(Plotly) { window.PLOTLYENV=window.PLOTLYENV || {};window.PLOTLYENV.BASE_URL=\"https://plot.ly\";Plotly.newPlot(\"1a85ff2e-106e-40ea-b32c-dc829c9dae92\", [{\"type\": \"pie\", \"values\": [32476, 12388], \"labels\": [\"paid\", \"free\"], \"hoverinfo\": \"label+percent+name\", \"domain\": {\"x\": [0, 0.48]}, \"name\": \"Churn Customers\", \"marker\": {\"line\": {\"width\": 2, \"color\": \"rgb(243,243,243)\"}}, \"hole\": 0.6}, {\"type\": \"pie\", \"values\": [189957, 43333], \"labels\": [\"paid\", \"free\"], \"hoverinfo\": \"label+percent+name\", \"marker\": {\"line\": {\"width\": 2, \"color\": \"rgb(243,243,243)\"}}, \"domain\": {\"x\": [0.52, 1]}, \"hole\": 0.6, \"name\": \"Non churn customers\"}], {\"title\": \"level distribution\", \"plot_bgcolor\": \"rgb(243,243,243)\", \"paper_bgcolor\": \"rgb(243,243,243)\", \"annotations\": [{\"text\": \"churn customers\", \"font\": {\"size\": 13}, \"showarrow\": false, \"x\": 0.15, \"y\": 0.5}, {\"text\": \"Non churn customers\", \"font\": {\"size\": 13}, \"showarrow\": false, \"x\": 0.88, \"y\": 0.5}]}, {\"showLink\": true, \"linkText\": \"Export to plot.ly\"})});</script>"
      ],
      "text/vnd.plotly.v1+html": [
       "<div id=\"1a85ff2e-106e-40ea-b32c-dc829c9dae92\" style=\"height: 525px; width: 100%;\" class=\"plotly-graph-div\"></div><script type=\"text/javascript\">require([\"plotly\"], function(Plotly) { window.PLOTLYENV=window.PLOTLYENV || {};window.PLOTLYENV.BASE_URL=\"https://plot.ly\";Plotly.newPlot(\"1a85ff2e-106e-40ea-b32c-dc829c9dae92\", [{\"type\": \"pie\", \"values\": [32476, 12388], \"labels\": [\"paid\", \"free\"], \"hoverinfo\": \"label+percent+name\", \"domain\": {\"x\": [0, 0.48]}, \"name\": \"Churn Customers\", \"marker\": {\"line\": {\"width\": 2, \"color\": \"rgb(243,243,243)\"}}, \"hole\": 0.6}, {\"type\": \"pie\", \"values\": [189957, 43333], \"labels\": [\"paid\", \"free\"], \"hoverinfo\": \"label+percent+name\", \"marker\": {\"line\": {\"width\": 2, \"color\": \"rgb(243,243,243)\"}}, \"domain\": {\"x\": [0.52, 1]}, \"hole\": 0.6, \"name\": \"Non churn customers\"}], {\"title\": \"level distribution\", \"plot_bgcolor\": \"rgb(243,243,243)\", \"paper_bgcolor\": \"rgb(243,243,243)\", \"annotations\": [{\"text\": \"churn customers\", \"font\": {\"size\": 13}, \"showarrow\": false, \"x\": 0.15, \"y\": 0.5}, {\"text\": \"Non churn customers\", \"font\": {\"size\": 13}, \"showarrow\": false, \"x\": 0.88, \"y\": 0.5}]}, {\"showLink\": true, \"linkText\": \"Export to plot.ly\"})});</script>"
      ]
     },
     "metadata": {},
     "output_type": "display_data"
    }
   ],
   "source": [
    "plot_pie('level')"
   ]
  },
  {
   "cell_type": "code",
   "execution_count": 344,
   "metadata": {},
   "outputs": [
    {
     "data": {
      "application/vnd.plotly.v1+json": {
       "data": [
        {
         "domain": {
          "x": [
           0,
           0.48
          ]
         },
         "hole": 0.6,
         "hoverinfo": "label+percent+name",
         "labels": [
          "PUT",
          "GET"
         ],
         "marker": {
          "line": {
           "color": "rgb(243,243,243)",
           "width": 2
          }
         },
         "name": "Churn Customers",
         "type": "pie",
         "values": [
          41127,
          3737
         ]
        },
        {
         "domain": {
          "x": [
           0.52,
           1
          ]
         },
         "hole": 0.6,
         "hoverinfo": "label+percent+name",
         "labels": [
          "PUT",
          "GET"
         ],
         "marker": {
          "line": {
           "color": "rgb(243,243,243)",
           "width": 2
          }
         },
         "name": "Non churn customers",
         "type": "pie",
         "values": [
          216691,
          16599
         ]
        }
       ],
       "layout": {
        "annotations": [
         {
          "font": {
           "size": 13
          },
          "showarrow": false,
          "text": "churn customers",
          "x": 0.15,
          "y": 0.5
         },
         {
          "font": {
           "size": 13
          },
          "showarrow": false,
          "text": "Non churn customers",
          "x": 0.88,
          "y": 0.5
         }
        ],
        "paper_bgcolor": "rgb(243,243,243)",
        "plot_bgcolor": "rgb(243,243,243)",
        "title": "method distribution"
       }
      },
      "text/html": [
       "<div id=\"ece3e034-f16c-45ca-8417-087271068d6d\" style=\"height: 525px; width: 100%;\" class=\"plotly-graph-div\"></div><script type=\"text/javascript\">require([\"plotly\"], function(Plotly) { window.PLOTLYENV=window.PLOTLYENV || {};window.PLOTLYENV.BASE_URL=\"https://plot.ly\";Plotly.newPlot(\"ece3e034-f16c-45ca-8417-087271068d6d\", [{\"type\": \"pie\", \"values\": [41127, 3737], \"labels\": [\"PUT\", \"GET\"], \"hoverinfo\": \"label+percent+name\", \"domain\": {\"x\": [0, 0.48]}, \"name\": \"Churn Customers\", \"marker\": {\"line\": {\"width\": 2, \"color\": \"rgb(243,243,243)\"}}, \"hole\": 0.6}, {\"type\": \"pie\", \"values\": [216691, 16599], \"labels\": [\"PUT\", \"GET\"], \"hoverinfo\": \"label+percent+name\", \"marker\": {\"line\": {\"width\": 2, \"color\": \"rgb(243,243,243)\"}}, \"domain\": {\"x\": [0.52, 1]}, \"hole\": 0.6, \"name\": \"Non churn customers\"}], {\"title\": \"method distribution\", \"plot_bgcolor\": \"rgb(243,243,243)\", \"paper_bgcolor\": \"rgb(243,243,243)\", \"annotations\": [{\"text\": \"churn customers\", \"font\": {\"size\": 13}, \"showarrow\": false, \"x\": 0.15, \"y\": 0.5}, {\"text\": \"Non churn customers\", \"font\": {\"size\": 13}, \"showarrow\": false, \"x\": 0.88, \"y\": 0.5}]}, {\"showLink\": true, \"linkText\": \"Export to plot.ly\"})});</script>"
      ],
      "text/vnd.plotly.v1+html": [
       "<div id=\"ece3e034-f16c-45ca-8417-087271068d6d\" style=\"height: 525px; width: 100%;\" class=\"plotly-graph-div\"></div><script type=\"text/javascript\">require([\"plotly\"], function(Plotly) { window.PLOTLYENV=window.PLOTLYENV || {};window.PLOTLYENV.BASE_URL=\"https://plot.ly\";Plotly.newPlot(\"ece3e034-f16c-45ca-8417-087271068d6d\", [{\"type\": \"pie\", \"values\": [41127, 3737], \"labels\": [\"PUT\", \"GET\"], \"hoverinfo\": \"label+percent+name\", \"domain\": {\"x\": [0, 0.48]}, \"name\": \"Churn Customers\", \"marker\": {\"line\": {\"width\": 2, \"color\": \"rgb(243,243,243)\"}}, \"hole\": 0.6}, {\"type\": \"pie\", \"values\": [216691, 16599], \"labels\": [\"PUT\", \"GET\"], \"hoverinfo\": \"label+percent+name\", \"marker\": {\"line\": {\"width\": 2, \"color\": \"rgb(243,243,243)\"}}, \"domain\": {\"x\": [0.52, 1]}, \"hole\": 0.6, \"name\": \"Non churn customers\"}], {\"title\": \"method distribution\", \"plot_bgcolor\": \"rgb(243,243,243)\", \"paper_bgcolor\": \"rgb(243,243,243)\", \"annotations\": [{\"text\": \"churn customers\", \"font\": {\"size\": 13}, \"showarrow\": false, \"x\": 0.15, \"y\": 0.5}, {\"text\": \"Non churn customers\", \"font\": {\"size\": 13}, \"showarrow\": false, \"x\": 0.88, \"y\": 0.5}]}, {\"showLink\": true, \"linkText\": \"Export to plot.ly\"})});</script>"
      ]
     },
     "metadata": {},
     "output_type": "display_data"
    }
   ],
   "source": [
    "plot_pie('method')"
   ]
  },
  {
   "cell_type": "code",
   "execution_count": 345,
   "metadata": {},
   "outputs": [
    {
     "data": {
      "application/vnd.plotly.v1+json": {
       "data": [
        {
         "domain": {
          "x": [
           0,
           0.48
          ]
         },
         "hole": 0.6,
         "hoverinfo": "label+percent+name",
         "labels": [
          200,
          307,
          404
         ],
         "marker": {
          "line": {
           "color": "rgb(243,243,243)",
           "width": 2
          }
         },
         "name": "Churn Customers",
         "type": "pie",
         "values": [
          41137,
          3695,
          32
         ]
        },
        {
         "domain": {
          "x": [
           0.52,
           1
          ]
         },
         "hole": 0.6,
         "hoverinfo": "label+percent+name",
         "labels": [
          200,
          307,
          404
         ],
         "marker": {
          "line": {
           "color": "rgb(243,243,243)",
           "width": 2
          }
         },
         "name": "Non churn customers",
         "type": "pie",
         "values": [
          213581,
          19489,
          220
         ]
        }
       ],
       "layout": {
        "annotations": [
         {
          "font": {
           "size": 13
          },
          "showarrow": false,
          "text": "churn customers",
          "x": 0.15,
          "y": 0.5
         },
         {
          "font": {
           "size": 13
          },
          "showarrow": false,
          "text": "Non churn customers",
          "x": 0.88,
          "y": 0.5
         }
        ],
        "paper_bgcolor": "rgb(243,243,243)",
        "plot_bgcolor": "rgb(243,243,243)",
        "title": "status distribution"
       }
      },
      "text/html": [
       "<div id=\"6bed17cb-78d0-4094-81f5-ed7bbf21ff58\" style=\"height: 525px; width: 100%;\" class=\"plotly-graph-div\"></div><script type=\"text/javascript\">require([\"plotly\"], function(Plotly) { window.PLOTLYENV=window.PLOTLYENV || {};window.PLOTLYENV.BASE_URL=\"https://plot.ly\";Plotly.newPlot(\"6bed17cb-78d0-4094-81f5-ed7bbf21ff58\", [{\"type\": \"pie\", \"values\": [41137, 3695, 32], \"labels\": [200, 307, 404], \"hoverinfo\": \"label+percent+name\", \"domain\": {\"x\": [0, 0.48]}, \"name\": \"Churn Customers\", \"marker\": {\"line\": {\"width\": 2, \"color\": \"rgb(243,243,243)\"}}, \"hole\": 0.6}, {\"type\": \"pie\", \"values\": [213581, 19489, 220], \"labels\": [200, 307, 404], \"hoverinfo\": \"label+percent+name\", \"marker\": {\"line\": {\"width\": 2, \"color\": \"rgb(243,243,243)\"}}, \"domain\": {\"x\": [0.52, 1]}, \"hole\": 0.6, \"name\": \"Non churn customers\"}], {\"title\": \"status distribution\", \"plot_bgcolor\": \"rgb(243,243,243)\", \"paper_bgcolor\": \"rgb(243,243,243)\", \"annotations\": [{\"text\": \"churn customers\", \"font\": {\"size\": 13}, \"showarrow\": false, \"x\": 0.15, \"y\": 0.5}, {\"text\": \"Non churn customers\", \"font\": {\"size\": 13}, \"showarrow\": false, \"x\": 0.88, \"y\": 0.5}]}, {\"showLink\": true, \"linkText\": \"Export to plot.ly\"})});</script>"
      ],
      "text/vnd.plotly.v1+html": [
       "<div id=\"6bed17cb-78d0-4094-81f5-ed7bbf21ff58\" style=\"height: 525px; width: 100%;\" class=\"plotly-graph-div\"></div><script type=\"text/javascript\">require([\"plotly\"], function(Plotly) { window.PLOTLYENV=window.PLOTLYENV || {};window.PLOTLYENV.BASE_URL=\"https://plot.ly\";Plotly.newPlot(\"6bed17cb-78d0-4094-81f5-ed7bbf21ff58\", [{\"type\": \"pie\", \"values\": [41137, 3695, 32], \"labels\": [200, 307, 404], \"hoverinfo\": \"label+percent+name\", \"domain\": {\"x\": [0, 0.48]}, \"name\": \"Churn Customers\", \"marker\": {\"line\": {\"width\": 2, \"color\": \"rgb(243,243,243)\"}}, \"hole\": 0.6}, {\"type\": \"pie\", \"values\": [213581, 19489, 220], \"labels\": [200, 307, 404], \"hoverinfo\": \"label+percent+name\", \"marker\": {\"line\": {\"width\": 2, \"color\": \"rgb(243,243,243)\"}}, \"domain\": {\"x\": [0.52, 1]}, \"hole\": 0.6, \"name\": \"Non churn customers\"}], {\"title\": \"status distribution\", \"plot_bgcolor\": \"rgb(243,243,243)\", \"paper_bgcolor\": \"rgb(243,243,243)\", \"annotations\": [{\"text\": \"churn customers\", \"font\": {\"size\": 13}, \"showarrow\": false, \"x\": 0.15, \"y\": 0.5}, {\"text\": \"Non churn customers\", \"font\": {\"size\": 13}, \"showarrow\": false, \"x\": 0.88, \"y\": 0.5}]}, {\"showLink\": true, \"linkText\": \"Export to plot.ly\"})});</script>"
      ]
     },
     "metadata": {},
     "output_type": "display_data"
    }
   ],
   "source": [
    "plot_pie('status')"
   ]
  },
  {
   "cell_type": "code",
   "execution_count": 346,
   "metadata": {},
   "outputs": [
    {
     "data": {
      "application/vnd.plotly.v1+json": {
       "data": [
        {
         "domain": {
          "x": [
           0,
           0.48
          ]
         },
         "hole": 0.6,
         "hoverinfo": "label+percent+name",
         "labels": [
          "Los Angeles-Long Beach-Anaheim, CA",
          "Jackson, MS",
          "Spokane-Spokane Valley, WA",
          "New York-Newark-Jersey City, NY-NJ-PA",
          "Lexington-Fayette, KY",
          "Colorado Springs, CO",
          "Denver-Aurora-Lakewood, CO",
          "Selma, AL",
          "New Philadelphia-Dover, OH",
          "Philadelphia-Camden-Wilmington, PA-NJ-DE-MD",
          "Detroit-Warren-Dearborn, MI",
          "Orlando-Kissimmee-Sanford, FL",
          "Cleveland-Elyria, OH",
          "North Wilkesboro, NC",
          "Quincy, IL-MO",
          "Houston-The Woodlands-Sugar Land, TX",
          "Indianapolis-Carmel-Anderson, IN",
          "Oxnard-Thousand Oaks-Ventura, CA",
          "St. Louis, MO-IL",
          "San Francisco-Oakland-Hayward, CA",
          "Chicago-Naperville-Elgin, IL-IN-WI",
          "London, KY",
          "Little Rock-North Little Rock-Conway, AR",
          "Kansas City, MO-KS",
          "Greenville-Anderson-Mauldin, SC",
          "Albany-Schenectady-Troy, NY",
          "Flint, MI",
          "San Diego-Carlsbad, CA",
          "Dallas-Fort Worth-Arlington, TX",
          "Baltimore-Columbia-Towson, MD",
          "Miami-Fort Lauderdale-West Palm Beach, FL",
          "Bozeman, MT",
          "Phoenix-Mesa-Scottsdale, AZ",
          "Monroe, LA",
          "Washington-Arlington-Alexandria, DC-VA-MD-WV",
          "Virginia Beach-Norfolk-Newport News, VA-NC",
          "Birmingham-Hoover, AL",
          "Memphis, TN-MS-AR",
          "Albany, OR",
          "Corpus Christi, TX"
         ],
         "marker": {
          "line": {
           "color": "rgb(243,243,243)",
           "width": 2
          }
         },
         "name": "Churn Customers",
         "type": "pie",
         "values": [
          5677,
          3839,
          3526,
          2899,
          2464,
          2168,
          2149,
          2027,
          1781,
          1580,
          1502,
          1498,
          1392,
          1050,
          1003,
          964,
          918,
          916,
          848,
          671,
          600,
          552,
          520,
          513,
          494,
          457,
          456,
          349,
          319,
          268,
          265,
          254,
          251,
          216,
          158,
          149,
          75,
          62,
          23,
          11
         ]
        },
        {
         "domain": {
          "x": [
           0.52,
           1
          ]
         },
         "hole": 0.6,
         "hoverinfo": "label+percent+name",
         "labels": [
          "Los Angeles-Long Beach-Anaheim, CA",
          "New York-Newark-Jersey City, NY-NJ-PA",
          "Boston-Cambridge-Newton, MA-NH",
          "Houston-The Woodlands-Sugar Land, TX",
          "Charlotte-Concord-Gastonia, NC-SC",
          "Dallas-Fort Worth-Arlington, TX",
          "Louisville/Jefferson County, KY-IN",
          "Vineland-Bridgeton, NJ",
          "Wilson, NC",
          "Phoenix-Mesa-Scottsdale, AZ",
          "Chicago-Naperville-Elgin, IL-IN-WI",
          "Ionia, MI",
          "San Antonio-New Braunfels, TX",
          "Philadelphia-Camden-Wilmington, PA-NJ-DE-MD",
          "Danville, VA",
          "Atlanta-Sandy Springs-Roswell, GA",
          "St. Louis, MO-IL",
          "New Haven-Milford, CT",
          "Miami-Fort Lauderdale-West Palm Beach, FL",
          "Tallahassee, FL",
          "Washington-Arlington-Alexandria, DC-VA-MD-WV",
          "Pittsburgh, PA",
          "Columbus, GA-AL",
          "Syracuse, NY",
          "Concord, NH",
          "Tampa-St. Petersburg-Clearwater, FL",
          "Baltimore-Columbia-Towson, MD",
          "Riverside-San Bernardino-Ontario, CA",
          "Denver-Aurora-Lakewood, CO",
          "Morgantown, WV",
          "Manchester-Nashua, NH",
          "Atlantic City-Hammonton, NJ",
          "Minneapolis-St. Paul-Bloomington, MN-WI",
          "Billings, MT",
          "Jacksonville, NC",
          "Truckee-Grass Valley, CA",
          "Fairbanks, AK",
          "Kansas City, MO-KS",
          "Las Vegas-Henderson-Paradise, NV",
          "San Francisco-Oakland-Hayward, CA",
          "Kingsport-Bristol-Bristol, TN-VA",
          "Oklahoma City, OK",
          "Hartford-West Hartford-East Hartford, CT",
          "Sacramento--Roseville--Arden-Arcade, CA",
          "Bakersfield, CA",
          "Austin-Round Rock, TX",
          "Cookeville, TN",
          "San Jose-Sunnyvale-Santa Clara, CA",
          "Anchorage, AK",
          "Buffalo-Cheektowaga-Niagara Falls, NY",
          "Milwaukee-Waukesha-West Allis, WI",
          "Gainesville, FL",
          "Sterling, IL",
          "Greensboro-High Point, NC",
          "Price, UT",
          "Napa, CA",
          "Salinas, CA",
          "Hagerstown-Martinsburg, MD-WV",
          "Alexandria, LA",
          "Providence-Warwick, RI-MA",
          "Raleigh, NC",
          "Bridgeport-Stamford-Norwalk, CT",
          "Boulder, CO",
          "Myrtle Beach-Conway-North Myrtle Beach, SC-NC",
          "Detroit-Warren-Dearborn, MI",
          "Winston-Salem, NC",
          "Jacksonville, FL",
          "Allentown-Bethlehem-Easton, PA-NJ",
          "Laurel, MS",
          "Dubuque, IA",
          "Troy, AL",
          "Kankakee, IL",
          "London, KY",
          "San Diego-Carlsbad, CA",
          "Roanoke, VA",
          "Stockton-Lodi, CA",
          "McAllen-Edinburg-Mission, TX",
          "Logan, UT-ID",
          "Pontiac, IL",
          "Muncie, IN",
          "Dayton, OH",
          "Seattle-Tacoma-Bellevue, WA",
          "Santa Maria-Santa Barbara, CA",
          "Omaha-Council Bluffs, NE-IA",
          "Greenville-Anderson-Mauldin, SC",
          "Montgomery, AL",
          "Portland-Vancouver-Hillsboro, OR-WA",
          "Port St. Lucie, FL",
          "Duluth, MN-WI",
          "Virginia Beach-Norfolk-Newport News, VA-NC",
          "Cincinnati, OH-KY-IN",
          "Deltona-Daytona Beach-Ormond Beach, FL",
          "Indianapolis-Carmel-Anderson, IN",
          "Scranton--Wilkes-Barre--Hazleton, PA"
         ],
         "marker": {
          "line": {
           "color": "rgb(243,243,243)",
           "width": 2
          }
         },
         "name": "Non churn customers",
         "type": "pie",
         "values": [
          24454,
          20785,
          13873,
          8535,
          7780,
          7286,
          6880,
          4825,
          4659,
          4595,
          4514,
          4428,
          4373,
          4310,
          4257,
          4236,
          4010,
          4007,
          3499,
          3216,
          2932,
          2917,
          2716,
          2677,
          2544,
          2475,
          2442,
          2404,
          2304,
          2278,
          2220,
          2176,
          2134,
          2132,
          2130,
          2073,
          2067,
          2049,
          2042,
          1976,
          1863,
          1842,
          1820,
          1796,
          1775,
          1682,
          1672,
          1603,
          1496,
          1402,
          1342,
          1229,
          1198,
          1131,
          1102,
          1091,
          1026,
          982,
          955,
          927,
          899,
          893,
          872,
          837,
          830,
          819,
          818,
          815,
          795,
          651,
          630,
          589,
          446,
          405,
          394,
          337,
          324,
          317,
          315,
          292,
          259,
          246,
          218,
          187,
          174,
          125,
          119,
          117,
          107,
          97,
          88,
          73,
          52,
          6
         ]
        }
       ],
       "layout": {
        "annotations": [
         {
          "font": {
           "size": 13
          },
          "showarrow": false,
          "text": "churn customers",
          "x": 0.15,
          "y": 0.5
         },
         {
          "font": {
           "size": 13
          },
          "showarrow": false,
          "text": "Non churn customers",
          "x": 0.88,
          "y": 0.5
         }
        ],
        "paper_bgcolor": "rgb(243,243,243)",
        "plot_bgcolor": "rgb(243,243,243)",
        "title": "location distribution"
       }
      },
      "text/html": [
       "<div id=\"f214bb6d-14a0-4aa2-8561-a3638d29013a\" style=\"height: 525px; width: 100%;\" class=\"plotly-graph-div\"></div><script type=\"text/javascript\">require([\"plotly\"], function(Plotly) { window.PLOTLYENV=window.PLOTLYENV || {};window.PLOTLYENV.BASE_URL=\"https://plot.ly\";Plotly.newPlot(\"f214bb6d-14a0-4aa2-8561-a3638d29013a\", [{\"type\": \"pie\", \"values\": [5677, 3839, 3526, 2899, 2464, 2168, 2149, 2027, 1781, 1580, 1502, 1498, 1392, 1050, 1003, 964, 918, 916, 848, 671, 600, 552, 520, 513, 494, 457, 456, 349, 319, 268, 265, 254, 251, 216, 158, 149, 75, 62, 23, 11], \"labels\": [\"Los Angeles-Long Beach-Anaheim, CA\", \"Jackson, MS\", \"Spokane-Spokane Valley, WA\", \"New York-Newark-Jersey City, NY-NJ-PA\", \"Lexington-Fayette, KY\", \"Colorado Springs, CO\", \"Denver-Aurora-Lakewood, CO\", \"Selma, AL\", \"New Philadelphia-Dover, OH\", \"Philadelphia-Camden-Wilmington, PA-NJ-DE-MD\", \"Detroit-Warren-Dearborn, MI\", \"Orlando-Kissimmee-Sanford, FL\", \"Cleveland-Elyria, OH\", \"North Wilkesboro, NC\", \"Quincy, IL-MO\", \"Houston-The Woodlands-Sugar Land, TX\", \"Indianapolis-Carmel-Anderson, IN\", \"Oxnard-Thousand Oaks-Ventura, CA\", \"St. Louis, MO-IL\", \"San Francisco-Oakland-Hayward, CA\", \"Chicago-Naperville-Elgin, IL-IN-WI\", \"London, KY\", \"Little Rock-North Little Rock-Conway, AR\", \"Kansas City, MO-KS\", \"Greenville-Anderson-Mauldin, SC\", \"Albany-Schenectady-Troy, NY\", \"Flint, MI\", \"San Diego-Carlsbad, CA\", \"Dallas-Fort Worth-Arlington, TX\", \"Baltimore-Columbia-Towson, MD\", \"Miami-Fort Lauderdale-West Palm Beach, FL\", \"Bozeman, MT\", \"Phoenix-Mesa-Scottsdale, AZ\", \"Monroe, LA\", \"Washington-Arlington-Alexandria, DC-VA-MD-WV\", \"Virginia Beach-Norfolk-Newport News, VA-NC\", \"Birmingham-Hoover, AL\", \"Memphis, TN-MS-AR\", \"Albany, OR\", \"Corpus Christi, TX\"], \"hoverinfo\": \"label+percent+name\", \"domain\": {\"x\": [0, 0.48]}, \"name\": \"Churn Customers\", \"marker\": {\"line\": {\"width\": 2, \"color\": \"rgb(243,243,243)\"}}, \"hole\": 0.6}, {\"type\": \"pie\", \"values\": [24454, 20785, 13873, 8535, 7780, 7286, 6880, 4825, 4659, 4595, 4514, 4428, 4373, 4310, 4257, 4236, 4010, 4007, 3499, 3216, 2932, 2917, 2716, 2677, 2544, 2475, 2442, 2404, 2304, 2278, 2220, 2176, 2134, 2132, 2130, 2073, 2067, 2049, 2042, 1976, 1863, 1842, 1820, 1796, 1775, 1682, 1672, 1603, 1496, 1402, 1342, 1229, 1198, 1131, 1102, 1091, 1026, 982, 955, 927, 899, 893, 872, 837, 830, 819, 818, 815, 795, 651, 630, 589, 446, 405, 394, 337, 324, 317, 315, 292, 259, 246, 218, 187, 174, 125, 119, 117, 107, 97, 88, 73, 52, 6], \"labels\": [\"Los Angeles-Long Beach-Anaheim, CA\", \"New York-Newark-Jersey City, NY-NJ-PA\", \"Boston-Cambridge-Newton, MA-NH\", \"Houston-The Woodlands-Sugar Land, TX\", \"Charlotte-Concord-Gastonia, NC-SC\", \"Dallas-Fort Worth-Arlington, TX\", \"Louisville/Jefferson County, KY-IN\", \"Vineland-Bridgeton, NJ\", \"Wilson, NC\", \"Phoenix-Mesa-Scottsdale, AZ\", \"Chicago-Naperville-Elgin, IL-IN-WI\", \"Ionia, MI\", \"San Antonio-New Braunfels, TX\", \"Philadelphia-Camden-Wilmington, PA-NJ-DE-MD\", \"Danville, VA\", \"Atlanta-Sandy Springs-Roswell, GA\", \"St. Louis, MO-IL\", \"New Haven-Milford, CT\", \"Miami-Fort Lauderdale-West Palm Beach, FL\", \"Tallahassee, FL\", \"Washington-Arlington-Alexandria, DC-VA-MD-WV\", \"Pittsburgh, PA\", \"Columbus, GA-AL\", \"Syracuse, NY\", \"Concord, NH\", \"Tampa-St. Petersburg-Clearwater, FL\", \"Baltimore-Columbia-Towson, MD\", \"Riverside-San Bernardino-Ontario, CA\", \"Denver-Aurora-Lakewood, CO\", \"Morgantown, WV\", \"Manchester-Nashua, NH\", \"Atlantic City-Hammonton, NJ\", \"Minneapolis-St. Paul-Bloomington, MN-WI\", \"Billings, MT\", \"Jacksonville, NC\", \"Truckee-Grass Valley, CA\", \"Fairbanks, AK\", \"Kansas City, MO-KS\", \"Las Vegas-Henderson-Paradise, NV\", \"San Francisco-Oakland-Hayward, CA\", \"Kingsport-Bristol-Bristol, TN-VA\", \"Oklahoma City, OK\", \"Hartford-West Hartford-East Hartford, CT\", \"Sacramento--Roseville--Arden-Arcade, CA\", \"Bakersfield, CA\", \"Austin-Round Rock, TX\", \"Cookeville, TN\", \"San Jose-Sunnyvale-Santa Clara, CA\", \"Anchorage, AK\", \"Buffalo-Cheektowaga-Niagara Falls, NY\", \"Milwaukee-Waukesha-West Allis, WI\", \"Gainesville, FL\", \"Sterling, IL\", \"Greensboro-High Point, NC\", \"Price, UT\", \"Napa, CA\", \"Salinas, CA\", \"Hagerstown-Martinsburg, MD-WV\", \"Alexandria, LA\", \"Providence-Warwick, RI-MA\", \"Raleigh, NC\", \"Bridgeport-Stamford-Norwalk, CT\", \"Boulder, CO\", \"Myrtle Beach-Conway-North Myrtle Beach, SC-NC\", \"Detroit-Warren-Dearborn, MI\", \"Winston-Salem, NC\", \"Jacksonville, FL\", \"Allentown-Bethlehem-Easton, PA-NJ\", \"Laurel, MS\", \"Dubuque, IA\", \"Troy, AL\", \"Kankakee, IL\", \"London, KY\", \"San Diego-Carlsbad, CA\", \"Roanoke, VA\", \"Stockton-Lodi, CA\", \"McAllen-Edinburg-Mission, TX\", \"Logan, UT-ID\", \"Pontiac, IL\", \"Muncie, IN\", \"Dayton, OH\", \"Seattle-Tacoma-Bellevue, WA\", \"Santa Maria-Santa Barbara, CA\", \"Omaha-Council Bluffs, NE-IA\", \"Greenville-Anderson-Mauldin, SC\", \"Montgomery, AL\", \"Portland-Vancouver-Hillsboro, OR-WA\", \"Port St. Lucie, FL\", \"Duluth, MN-WI\", \"Virginia Beach-Norfolk-Newport News, VA-NC\", \"Cincinnati, OH-KY-IN\", \"Deltona-Daytona Beach-Ormond Beach, FL\", \"Indianapolis-Carmel-Anderson, IN\", \"Scranton--Wilkes-Barre--Hazleton, PA\"], \"hoverinfo\": \"label+percent+name\", \"marker\": {\"line\": {\"width\": 2, \"color\": \"rgb(243,243,243)\"}}, \"domain\": {\"x\": [0.52, 1]}, \"hole\": 0.6, \"name\": \"Non churn customers\"}], {\"title\": \"location distribution\", \"plot_bgcolor\": \"rgb(243,243,243)\", \"paper_bgcolor\": \"rgb(243,243,243)\", \"annotations\": [{\"text\": \"churn customers\", \"font\": {\"size\": 13}, \"showarrow\": false, \"x\": 0.15, \"y\": 0.5}, {\"text\": \"Non churn customers\", \"font\": {\"size\": 13}, \"showarrow\": false, \"x\": 0.88, \"y\": 0.5}]}, {\"showLink\": true, \"linkText\": \"Export to plot.ly\"})});</script>"
      ],
      "text/vnd.plotly.v1+html": [
       "<div id=\"f214bb6d-14a0-4aa2-8561-a3638d29013a\" style=\"height: 525px; width: 100%;\" class=\"plotly-graph-div\"></div><script type=\"text/javascript\">require([\"plotly\"], function(Plotly) { window.PLOTLYENV=window.PLOTLYENV || {};window.PLOTLYENV.BASE_URL=\"https://plot.ly\";Plotly.newPlot(\"f214bb6d-14a0-4aa2-8561-a3638d29013a\", [{\"type\": \"pie\", \"values\": [5677, 3839, 3526, 2899, 2464, 2168, 2149, 2027, 1781, 1580, 1502, 1498, 1392, 1050, 1003, 964, 918, 916, 848, 671, 600, 552, 520, 513, 494, 457, 456, 349, 319, 268, 265, 254, 251, 216, 158, 149, 75, 62, 23, 11], \"labels\": [\"Los Angeles-Long Beach-Anaheim, CA\", \"Jackson, MS\", \"Spokane-Spokane Valley, WA\", \"New York-Newark-Jersey City, NY-NJ-PA\", \"Lexington-Fayette, KY\", \"Colorado Springs, CO\", \"Denver-Aurora-Lakewood, CO\", \"Selma, AL\", \"New Philadelphia-Dover, OH\", \"Philadelphia-Camden-Wilmington, PA-NJ-DE-MD\", \"Detroit-Warren-Dearborn, MI\", \"Orlando-Kissimmee-Sanford, FL\", \"Cleveland-Elyria, OH\", \"North Wilkesboro, NC\", \"Quincy, IL-MO\", \"Houston-The Woodlands-Sugar Land, TX\", \"Indianapolis-Carmel-Anderson, IN\", \"Oxnard-Thousand Oaks-Ventura, CA\", \"St. Louis, MO-IL\", \"San Francisco-Oakland-Hayward, CA\", \"Chicago-Naperville-Elgin, IL-IN-WI\", \"London, KY\", \"Little Rock-North Little Rock-Conway, AR\", \"Kansas City, MO-KS\", \"Greenville-Anderson-Mauldin, SC\", \"Albany-Schenectady-Troy, NY\", \"Flint, MI\", \"San Diego-Carlsbad, CA\", \"Dallas-Fort Worth-Arlington, TX\", \"Baltimore-Columbia-Towson, MD\", \"Miami-Fort Lauderdale-West Palm Beach, FL\", \"Bozeman, MT\", \"Phoenix-Mesa-Scottsdale, AZ\", \"Monroe, LA\", \"Washington-Arlington-Alexandria, DC-VA-MD-WV\", \"Virginia Beach-Norfolk-Newport News, VA-NC\", \"Birmingham-Hoover, AL\", \"Memphis, TN-MS-AR\", \"Albany, OR\", \"Corpus Christi, TX\"], \"hoverinfo\": \"label+percent+name\", \"domain\": {\"x\": [0, 0.48]}, \"name\": \"Churn Customers\", \"marker\": {\"line\": {\"width\": 2, \"color\": \"rgb(243,243,243)\"}}, \"hole\": 0.6}, {\"type\": \"pie\", \"values\": [24454, 20785, 13873, 8535, 7780, 7286, 6880, 4825, 4659, 4595, 4514, 4428, 4373, 4310, 4257, 4236, 4010, 4007, 3499, 3216, 2932, 2917, 2716, 2677, 2544, 2475, 2442, 2404, 2304, 2278, 2220, 2176, 2134, 2132, 2130, 2073, 2067, 2049, 2042, 1976, 1863, 1842, 1820, 1796, 1775, 1682, 1672, 1603, 1496, 1402, 1342, 1229, 1198, 1131, 1102, 1091, 1026, 982, 955, 927, 899, 893, 872, 837, 830, 819, 818, 815, 795, 651, 630, 589, 446, 405, 394, 337, 324, 317, 315, 292, 259, 246, 218, 187, 174, 125, 119, 117, 107, 97, 88, 73, 52, 6], \"labels\": [\"Los Angeles-Long Beach-Anaheim, CA\", \"New York-Newark-Jersey City, NY-NJ-PA\", \"Boston-Cambridge-Newton, MA-NH\", \"Houston-The Woodlands-Sugar Land, TX\", \"Charlotte-Concord-Gastonia, NC-SC\", \"Dallas-Fort Worth-Arlington, TX\", \"Louisville/Jefferson County, KY-IN\", \"Vineland-Bridgeton, NJ\", \"Wilson, NC\", \"Phoenix-Mesa-Scottsdale, AZ\", \"Chicago-Naperville-Elgin, IL-IN-WI\", \"Ionia, MI\", \"San Antonio-New Braunfels, TX\", \"Philadelphia-Camden-Wilmington, PA-NJ-DE-MD\", \"Danville, VA\", \"Atlanta-Sandy Springs-Roswell, GA\", \"St. Louis, MO-IL\", \"New Haven-Milford, CT\", \"Miami-Fort Lauderdale-West Palm Beach, FL\", \"Tallahassee, FL\", \"Washington-Arlington-Alexandria, DC-VA-MD-WV\", \"Pittsburgh, PA\", \"Columbus, GA-AL\", \"Syracuse, NY\", \"Concord, NH\", \"Tampa-St. Petersburg-Clearwater, FL\", \"Baltimore-Columbia-Towson, MD\", \"Riverside-San Bernardino-Ontario, CA\", \"Denver-Aurora-Lakewood, CO\", \"Morgantown, WV\", \"Manchester-Nashua, NH\", \"Atlantic City-Hammonton, NJ\", \"Minneapolis-St. Paul-Bloomington, MN-WI\", \"Billings, MT\", \"Jacksonville, NC\", \"Truckee-Grass Valley, CA\", \"Fairbanks, AK\", \"Kansas City, MO-KS\", \"Las Vegas-Henderson-Paradise, NV\", \"San Francisco-Oakland-Hayward, CA\", \"Kingsport-Bristol-Bristol, TN-VA\", \"Oklahoma City, OK\", \"Hartford-West Hartford-East Hartford, CT\", \"Sacramento--Roseville--Arden-Arcade, CA\", \"Bakersfield, CA\", \"Austin-Round Rock, TX\", \"Cookeville, TN\", \"San Jose-Sunnyvale-Santa Clara, CA\", \"Anchorage, AK\", \"Buffalo-Cheektowaga-Niagara Falls, NY\", \"Milwaukee-Waukesha-West Allis, WI\", \"Gainesville, FL\", \"Sterling, IL\", \"Greensboro-High Point, NC\", \"Price, UT\", \"Napa, CA\", \"Salinas, CA\", \"Hagerstown-Martinsburg, MD-WV\", \"Alexandria, LA\", \"Providence-Warwick, RI-MA\", \"Raleigh, NC\", \"Bridgeport-Stamford-Norwalk, CT\", \"Boulder, CO\", \"Myrtle Beach-Conway-North Myrtle Beach, SC-NC\", \"Detroit-Warren-Dearborn, MI\", \"Winston-Salem, NC\", \"Jacksonville, FL\", \"Allentown-Bethlehem-Easton, PA-NJ\", \"Laurel, MS\", \"Dubuque, IA\", \"Troy, AL\", \"Kankakee, IL\", \"London, KY\", \"San Diego-Carlsbad, CA\", \"Roanoke, VA\", \"Stockton-Lodi, CA\", \"McAllen-Edinburg-Mission, TX\", \"Logan, UT-ID\", \"Pontiac, IL\", \"Muncie, IN\", \"Dayton, OH\", \"Seattle-Tacoma-Bellevue, WA\", \"Santa Maria-Santa Barbara, CA\", \"Omaha-Council Bluffs, NE-IA\", \"Greenville-Anderson-Mauldin, SC\", \"Montgomery, AL\", \"Portland-Vancouver-Hillsboro, OR-WA\", \"Port St. Lucie, FL\", \"Duluth, MN-WI\", \"Virginia Beach-Norfolk-Newport News, VA-NC\", \"Cincinnati, OH-KY-IN\", \"Deltona-Daytona Beach-Ormond Beach, FL\", \"Indianapolis-Carmel-Anderson, IN\", \"Scranton--Wilkes-Barre--Hazleton, PA\"], \"hoverinfo\": \"label+percent+name\", \"marker\": {\"line\": {\"width\": 2, \"color\": \"rgb(243,243,243)\"}}, \"domain\": {\"x\": [0.52, 1]}, \"hole\": 0.6, \"name\": \"Non churn customers\"}], {\"title\": \"location distribution\", \"plot_bgcolor\": \"rgb(243,243,243)\", \"paper_bgcolor\": \"rgb(243,243,243)\", \"annotations\": [{\"text\": \"churn customers\", \"font\": {\"size\": 13}, \"showarrow\": false, \"x\": 0.15, \"y\": 0.5}, {\"text\": \"Non churn customers\", \"font\": {\"size\": 13}, \"showarrow\": false, \"x\": 0.88, \"y\": 0.5}]}, {\"showLink\": true, \"linkText\": \"Export to plot.ly\"})});</script>"
      ]
     },
     "metadata": {},
     "output_type": "display_data"
    }
   ],
   "source": [
    "plot_pie('location')"
   ]
  },
  {
   "cell_type": "code",
   "execution_count": null,
   "metadata": {},
   "outputs": [],
   "source": []
  },
  {
   "cell_type": "code",
   "execution_count": 347,
   "metadata": {},
   "outputs": [
    {
     "data": {
      "image/png": "[encoded data removed]",
      "text/plain": [
       "<matplotlib.figure.Figure at 0x7f91adfded68>"
      ]
     },
     "metadata": {
      "needs_background": "light"
     },
     "output_type": "display_data"
    }
   ],
   "source": [
    "cmap1 = cm.get_cmap('autumn') # Colour map (there are many others)\n",
    "cmap2 = cm.get_cmap('brg') # Colour map (there are many others)\n",
    "ax = plt.gca()\n",
    "tt[tt['Churn'] == '1'][cols_to_plot].sum().plot(kind='bar',width=0.25, alpha=1,figsize=(15,8), title=\"Churned Users Activity\" , colormap = cmap1 ,position=1, ax=ax)\n",
    "tt[tt['Churn'] == '0'][cols_to_plot].sum().plot(kind='bar',width=0.25,figsize=(15,8),title=\"Non Churned vs Churned Users Activity\",  colormap = cmap2 ,position=0, ax=ax, grid=True)\n",
    "ax.legend([\"Churned Users\",\"Non Churned Users\"]);"
   ]
  },
  {
   "cell_type": "code",
   "execution_count": 348,
   "metadata": {},
   "outputs": [
    {
     "data": {
      "text/plain": [
       "Los Angeles-Long Beach-Anaheim, CA       16\n",
       "New York-Newark-Jersey City, NY-NJ-PA    15\n",
       "Phoenix-Mesa-Scottsdale, AZ               7\n",
       "Dallas-Fort Worth-Arlington, TX           7\n",
       "Chicago-Naperville-Elgin, IL-IN-WI        6\n",
       "Name: location, dtype: int64"
      ]
     },
     "execution_count": 348,
     "metadata": {},
     "output_type": "execute_result"
    }
   ],
   "source": [
    "df_events['location'].value_counts().head(5)"
   ]
  },
  {
   "cell_type": "code",
   "execution_count": 386,
   "metadata": {},
   "outputs": [],
   "source": [
    "#import seaborn as sn\n",
    "\n",
    "#cols_to_plot=  []\n",
    "#for name in cat_col_names:\n",
    "#  cols_to_plot.append('num_'+name)\n",
    "#print(cols_to_plot)\n",
    "#fig, ax = plt.subplots(figsize=(8,8))  \n",
    "#df_tmp = df_events[cols_to_plot]\n",
    "#print(df_tmp.shape)\n",
    "#corrMatrix= df_tmp[cols_to_plot].corr()\n",
    "#sn.heatmap(corrMatrix, annot=True)\n",
    "#plt.show()"
   ]
  },
  {
   "cell_type": "markdown",
   "metadata": {},
   "source": [
    "# Feature Engineering\n",
    "Once you've familiarized yourself with the data, build out the features you find promising to train your model on. To work with the full dataset, you can follow the following steps.\n",
    "- Write a script to extract the necessary features from the smaller subset of data\n",
    "- Ensure that your script is scalable, using the best practices discussed in Lesson 3\n",
    "- Try your script on the full data set, debugging your script if necessary\n",
    "\n",
    "If you are working in the classroom workspace, you can just extract features based on the small subset of data contained here. Be sure to transfer over this work to the larger dataset when you work on your Spark cluster."
   ]
  },
  {
   "cell_type": "code",
   "execution_count": 350,
   "metadata": {},
   "outputs": [
    {
     "name": "stdout",
     "output_type": "stream",
     "text": [
      "<class 'pandas.core.frame.DataFrame'>\n",
      "Int64Index: 225 entries, 0 to 252939\n",
      "Data columns (total 63 columns):\n",
      "artist                            110 non-null object\n",
      "auth                              225 non-null object\n",
      "firstName                         225 non-null object\n",
      "itemInSession                     225 non-null int64\n",
      "lastName                          225 non-null object\n",
      "length                            110 non-null float64\n",
      "location                          225 non-null object\n",
      "method                            225 non-null object\n",
      "registration                      225 non-null int64\n",
      "sessionId                         225 non-null int64\n",
      "song                              110 non-null object\n",
      "status                            225 non-null int64\n",
      "ts                                225 non-null int64\n",
      "userAgent                         225 non-null object\n",
      "userId                            225 non-null object\n",
      "Churn                             225 non-null object\n",
      "hour                              225 non-null object\n",
      "month                             225 non-null int64\n",
      "time                              225 non-null int64\n",
      "day                               225 non-null int64\n",
      "year                              225 non-null int64\n",
      "gender_F                          225 non-null uint8\n",
      "gender_M                          225 non-null uint8\n",
      "level_free                        225 non-null uint8\n",
      "level_paid                        225 non-null uint8\n",
      "page_About                        225 non-null uint8\n",
      "page_Add Friend                   225 non-null uint8\n",
      "page_Add to Playlist              225 non-null uint8\n",
      "page_Cancel                       225 non-null uint8\n",
      "page_Cancellation Confirmation    225 non-null uint8\n",
      "page_Downgrade                    225 non-null uint8\n",
      "page_Error                        225 non-null uint8\n",
      "page_Help                         225 non-null uint8\n",
      "page_Home                         225 non-null uint8\n",
      "page_Logout                       225 non-null uint8\n",
      "page_NextSong                     225 non-null uint8\n",
      "page_Roll Advert                  225 non-null uint8\n",
      "page_Save Settings                225 non-null uint8\n",
      "page_Settings                     225 non-null uint8\n",
      "page_Submit Downgrade             225 non-null uint8\n",
      "page_Submit Upgrade               225 non-null uint8\n",
      "page_Thumbs Down                  225 non-null uint8\n",
      "page_Thumbs Up                    225 non-null uint8\n",
      "page_Upgrade                      225 non-null uint8\n",
      "num_NextSong                      225 non-null float64\n",
      "num_Add to Playlist               225 non-null uint8\n",
      "num_Roll Advert                   225 non-null uint8\n",
      "num_Thumbs Up                     225 non-null float64\n",
      "num_Downgrade                     225 non-null uint8\n",
      "num_Thumbs Down                   225 non-null uint8\n",
      "num_Home                          225 non-null float64\n",
      "num_Logout                        225 non-null uint8\n",
      "num_Help                          225 non-null uint8\n",
      "num_Upgrade                       225 non-null uint8\n",
      "num_Add Friend                    225 non-null uint8\n",
      "num_Settings                      225 non-null uint8\n",
      "num_Submit Upgrade                225 non-null uint8\n",
      "num_About                         225 non-null uint8\n",
      "num_Submit Downgrade              225 non-null uint8\n",
      "num_Error                         225 non-null uint8\n",
      "num_Save Settings                 225 non-null uint8\n",
      "num_Cancel                        225 non-null uint8\n",
      "num_Cancellation Confirmation     225 non-null uint8\n",
      "dtypes: float64(4), int64(9), object(11), uint8(39)\n",
      "memory usage: 52.5+ KB\n"
     ]
    }
   ],
   "source": [
    "df_events[df_events.isna()].count()\n",
    "df_events.columns\n",
    "df_events.info()"
   ]
  },
  {
   "cell_type": "code",
   "execution_count": 351,
   "metadata": {},
   "outputs": [
    {
     "data": {
      "text/html": [
       "<div>\n",
       "<style scoped>\n",
       "    .dataframe tbody tr th:only-of-type {\n",
       "        vertical-align: middle;\n",
       "    }\n",
       "\n",
       "    .dataframe tbody tr th {\n",
       "        vertical-align: top;\n",
       "    }\n",
       "\n",
       "    .dataframe thead th {\n",
       "        text-align: right;\n",
       "    }\n",
       "</style>\n",
       "<table border=\"1\" class=\"dataframe\">\n",
       "  <thead>\n",
       "    <tr style=\"text-align: right;\">\n",
       "      <th></th>\n",
       "      <th>userId</th>\n",
       "      <th>gender_F</th>\n",
       "      <th>gender_M</th>\n",
       "      <th>level_free</th>\n",
       "      <th>level_paid</th>\n",
       "      <th>num_NextSong</th>\n",
       "      <th>Churn</th>\n",
       "    </tr>\n",
       "  </thead>\n",
       "  <tbody>\n",
       "    <tr>\n",
       "      <th>0</th>\n",
       "      <td>30</td>\n",
       "      <td>0</td>\n",
       "      <td>1</td>\n",
       "      <td>0</td>\n",
       "      <td>1</td>\n",
       "      <td>1417.0</td>\n",
       "      <td>0</td>\n",
       "    </tr>\n",
       "    <tr>\n",
       "      <th>1</th>\n",
       "      <td>9</td>\n",
       "      <td>0</td>\n",
       "      <td>1</td>\n",
       "      <td>1</td>\n",
       "      <td>0</td>\n",
       "      <td>2676.0</td>\n",
       "      <td>0</td>\n",
       "    </tr>\n",
       "    <tr>\n",
       "      <th>17</th>\n",
       "      <td>74</td>\n",
       "      <td>1</td>\n",
       "      <td>0</td>\n",
       "      <td>1</td>\n",
       "      <td>0</td>\n",
       "      <td>2400.0</td>\n",
       "      <td>0</td>\n",
       "    </tr>\n",
       "    <tr>\n",
       "      <th>22</th>\n",
       "      <td>54</td>\n",
       "      <td>1</td>\n",
       "      <td>0</td>\n",
       "      <td>0</td>\n",
       "      <td>1</td>\n",
       "      <td>2841.0</td>\n",
       "      <td>1</td>\n",
       "    </tr>\n",
       "    <tr>\n",
       "      <th>70</th>\n",
       "      <td>4</td>\n",
       "      <td>0</td>\n",
       "      <td>1</td>\n",
       "      <td>1</td>\n",
       "      <td>0</td>\n",
       "      <td>2048.0</td>\n",
       "      <td>0</td>\n",
       "    </tr>\n",
       "  </tbody>\n",
       "</table>\n",
       "</div>"
      ],
      "text/plain": [
       "   userId  gender_F  gender_M  level_free  level_paid  num_NextSong Churn\n",
       "0      30         0         1           0           1        1417.0     0\n",
       "1       9         0         1           1           0        2676.0     0\n",
       "17     74         1         0           1           0        2400.0     0\n",
       "22     54         1         0           0           1        2841.0     1\n",
       "70      4         0         1           1           0        2048.0     0"
      ]
     },
     "execution_count": 351,
     "metadata": {},
     "output_type": "execute_result"
    }
   ],
   "source": [
    "feature_df_pd = df_events[['userId', \n",
    "                           'gender_F',\n",
    "                           'gender_M',\n",
    "                           'level_free',\n",
    "                           'level_paid',\n",
    "                           'num_NextSong', \n",
    "                           'Churn']]\n",
    "feature_df_pd.head()"
   ]
  },
  {
   "cell_type": "code",
   "execution_count": 352,
   "metadata": {},
   "outputs": [],
   "source": [
    "#Convert Pandas Data Frame to Spark - for machine learning\n",
    "feature_spark_df = spark.createDataFrame(feature_df_pd)\n"
   ]
  },
  {
   "cell_type": "markdown",
   "metadata": {},
   "source": [
    "# Modeling\n",
    "Split the full dataset into train, test, and validation sets. Test out several of the machine learning methods you learned. Evaluate the accuracy of the various models, tuning parameters as necessary. Determine your winning model based on test accuracy and report results on the validation set. Since the churned users are a fairly small subset, I suggest using F1 score as the metric to optimize."
   ]
  },
  {
   "cell_type": "code",
   "execution_count": 353,
   "metadata": {},
   "outputs": [
    {
     "data": {
      "text/plain": [
       "['gender_F', 'gender_M', 'level_free', 'level_paid', 'num_NextSong']"
      ]
     },
     "execution_count": 353,
     "metadata": {},
     "output_type": "execute_result"
    }
   ],
   "source": [
    "feature_spark_df.columns[1:6]"
   ]
  },
  {
   "cell_type": "code",
   "execution_count": 354,
   "metadata": {},
   "outputs": [
    {
     "name": "stdout",
     "output_type": "stream",
     "text": [
      "+-------+------------------+------------------+-------------------+------------------+-------------------+------------------+-------------------+\n",
      "|summary|            userId|          gender_F|           gender_M|        level_free|         level_paid|      num_NextSong|              Churn|\n",
      "+-------+------------------+------------------+-------------------+------------------+-------------------+------------------+-------------------+\n",
      "|  count|               225|               225|                225|               225|                225|               225|                225|\n",
      "|   mean|65391.013333333336|0.4622222222222222| 0.5377777777777778|0.7866666666666666|0.21333333333333335|1013.7955555555556| 0.2311111111111111|\n",
      "| stddev|105396.47791907165|0.4996824388374478|0.49968243883744784|0.4105745103771404| 0.4105745103771404|1104.9452850778964|0.42248321089963264|\n",
      "|    min|                10|                 0|                  0|                 0|                  0|               3.0|                  0|\n",
      "|    max|                99|                 1|                  1|                 1|                  1|            8002.0|                  1|\n",
      "+-------+------------------+------------------+-------------------+------------------+-------------------+------------------+-------------------+\n",
      "\n"
     ]
    }
   ],
   "source": [
    "feature_spark_df.describe().show()"
   ]
  },
  {
   "cell_type": "code",
   "execution_count": 355,
   "metadata": {},
   "outputs": [],
   "source": [
    "from pyspark.ml import Pipeline\n",
    "from pyspark.ml.feature import VectorAssembler\n",
    "from pyspark.ml.feature import StandardScaler \n",
    "from pyspark.ml.feature import StringIndexer \n",
    "from pyspark.mllib.tree import RandomForest\n",
    "from pyspark.ml.classification import RandomForestClassifier\n",
    "from pyspark.ml.tuning import CrossValidator, ParamGridBuilder\n",
    "from pyspark.mllib.evaluation import BinaryClassificationMetrics\n",
    "from pyspark.mllib.evaluation import MulticlassMetrics\n",
    "from pyspark.ml.evaluation import BinaryClassificationEvaluator    \n",
    "from pyspark.ml.evaluation import MulticlassClassificationEvaluator\n",
    "from pyspark.ml.classification import LogisticRegression\n",
    "from pyspark.ml.classification import DecisionTreeClassifier\n",
    "from pyspark.ml.classification import GBTClassifier"
   ]
  },
  {
   "cell_type": "code",
   "execution_count": 356,
   "metadata": {},
   "outputs": [],
   "source": [
    "def get_accuracy(result):\n",
    " true_pred_count = result.filter(result.label == result.prediction).count()\n",
    " print(\"Correct prediction:\", true_pred_count)\n",
    " print(\"Total values:\", result.count())\n",
    " print(\"Accuracy:\" ,true_pred_count/result.count())"
   ]
  },
  {
   "cell_type": "code",
   "execution_count": 357,
   "metadata": {},
   "outputs": [],
   "source": [
    "def get_eval_metrics(df):\n",
    " predictionRDD = df.select(['label', 'prediction']) \\\n",
    "                            .rdd.map(lambda line: (line[1], line[0]))\n",
    " metrics = MulticlassMetrics(predictionRDD)\n",
    " print(\"Precision:\", metrics.precision())\n",
    " print(\"Accuracy:\", metrics.accuracy)\n",
    " print(\"Recall:\", metrics.recall())\n",
    " print(\"F1:\", metrics.fMeasure())  \n",
    " print(\"Weighted Precision:\",metrics.weightedPrecision)\n",
    " print(\"Weighted Recall:\",metrics.weightedRecall)\n",
    " print(\"Weighted F1:\",metrics.weightedFMeasure())"
   ]
  },
  {
   "cell_type": "code",
   "execution_count": 358,
   "metadata": {},
   "outputs": [],
   "source": [
    "#def config_pipeline(assembler, scaler, indexer,model):\n",
    "#    pipeline = Pipeline(stages=[assembler, scaler, indexer, model])\n",
    "#    return pipeline"
   ]
  },
  {
   "cell_type": "code",
   "execution_count": 359,
   "metadata": {},
   "outputs": [],
   "source": [
    "def config_pipeline(assembler, indexer,model):\n",
    "    pipeline = Pipeline(stages=[assembler, indexer, model])\n",
    "    return pipeline\n",
    "\n",
    "#scaler    = StandardScaler(inputCol=\"features\", outputCol=\"scaled_features\",withStd=False, withMean=True)"
   ]
  },
  {
   "cell_type": "code",
   "execution_count": 360,
   "metadata": {},
   "outputs": [],
   "source": [
    "(trainingData, testData) = feature_spark_df.randomSplit([0.7, 0.3])"
   ]
  },
  {
   "cell_type": "code",
   "execution_count": 361,
   "metadata": {},
   "outputs": [],
   "source": [
    "assembler = VectorAssembler(inputCols=feature_spark_df.columns[1:6], outputCol=\"features\")\n",
    "indexer = StringIndexer(inputCol=\"Churn\", outputCol=\"label\")"
   ]
  },
  {
   "cell_type": "code",
   "execution_count": 362,
   "metadata": {},
   "outputs": [],
   "source": [
    "#Define all the algorithms which we are going to use\n",
    "rf           = RandomForestClassifier(featuresCol=\"features\", labelCol=\"label\", maxDepth=5, numTrees=20)\n",
    "logistic_reg = LogisticRegression(featuresCol = 'features', labelCol = 'label', maxIter=50)\n",
    "d_tree       = DecisionTreeClassifier(featuresCol = 'features', labelCol = 'label', maxDepth = 5)\n",
    "grad_bt      = GBTClassifier(featuresCol = 'features', labelCol = 'label',maxIter=50)\n",
    "\n",
    "# Select (prediction, true label) and compute test error\n",
    "#evaluator = BinaryClassificationEvaluator(labelCol=\"Churn\")\n",
    "evaluator = BinaryClassificationEvaluator()"
   ]
  },
  {
   "cell_type": "code",
   "execution_count": 363,
   "metadata": {},
   "outputs": [],
   "source": [
    "#Define all the algorithms which we are going to use\n",
    "#rf           = RandomForestClassifier(featuresCol=\"features\", labelCol=\"label\", maxDepth=5, numTrees=20)\n",
    "#rf           = RandomForestClassifier(featuresCol=\"scaled_features\", labelCol=\"label\", maxDepth=5, numTrees=20)\n",
    "#logistic_reg = LogisticRegression(featuresCol = 'scaled_features', labelCol = 'label', maxIter=50)\n",
    "#d_tree       = DecisionTreeClassifier(featuresCol = 'scaled_features', labelCol = 'label', maxDepth = 5)\n",
    "#grad_bt      = GBTClassifier(maxIter=50)\n",
    "\n",
    "# Select (prediction, true label) and compute test error\n",
    "#evaluator = BinaryClassificationEvaluator(labelCol=\"Churn\")\n",
    "evaluator = BinaryClassificationEvaluator()"
   ]
  },
  {
   "cell_type": "code",
   "execution_count": 364,
   "metadata": {},
   "outputs": [],
   "source": [
    "#pipeline_rf = config_pipeline(assembler, scaler, indexer,rf)\n",
    "#result.printSchema()\n",
    "#eval_metric = BinaryClassificationMetrics(result)"
   ]
  },
  {
   "cell_type": "code",
   "execution_count": 365,
   "metadata": {},
   "outputs": [
    {
     "name": "stdout",
     "output_type": "stream",
     "text": [
      "+------+-----+--------------------+--------------------+----------+\n",
      "|userId|label|       rawPrediction|         probability|prediction|\n",
      "+------+-----+--------------------+--------------------+----------+\n",
      "|100005|  1.0|[16.6525400489548...|[0.83262700244774...|       0.0|\n",
      "|100006|  1.0|[13.6620682448505...|[0.68310341224252...|       0.0|\n",
      "|100009|  1.0|[16.8296588543637...|[0.84148294271818...|       0.0|\n",
      "|100010|  0.0|[14.7658886934078...|[0.73829443467039...|       0.0|\n",
      "|100022|  1.0|[16.6110405070808...|[0.83055202535404...|       0.0|\n",
      "+------+-----+--------------------+--------------------+----------+\n",
      "only showing top 5 rows\n",
      "\n"
     ]
    }
   ],
   "source": [
    "#RandomForest\n",
    "pipeline_rf = config_pipeline(assembler, indexer,rf)\n",
    "pmodel = pipeline_rf.fit(trainingData)\n",
    "result = pmodel.transform(testData)\n",
    "result.select('userId', 'label', 'rawPrediction' , 'probability' , 'prediction').show(5)"
   ]
  },
  {
   "cell_type": "code",
   "execution_count": 366,
   "metadata": {},
   "outputs": [
    {
     "name": "stdout",
     "output_type": "stream",
     "text": [
      "ROC Value 0.5789215686274509\n",
      "Correct prediction: 50\n",
      "Total values: 71\n",
      "Accuracy: 0.704225352112676\n",
      "Precision: 0.704225352112676\n",
      "Accuracy: 0.704225352112676\n",
      "Recall: 0.704225352112676\n",
      "F1: 0.704225352112676\n",
      "Weighted Precision: 0.5130784708249497\n",
      "Weighted Recall: 0.704225352112676\n",
      "Weighted F1: 0.5936445116982889\n"
     ]
    }
   ],
   "source": [
    "roc  = evaluator.evaluate(result)\n",
    "print('ROC Value', roc)\n",
    "get_accuracy(result)\n",
    "get_eval_metrics(result)"
   ]
  },
  {
   "cell_type": "code",
   "execution_count": 367,
   "metadata": {},
   "outputs": [],
   "source": [
    "#c =result.toPandas()\n",
    "#c[['userId', 'label' , 'probability' , 'rawPrediction', 'prediction']].head(20)\n",
    "#x= pmodel.stages[2]\n",
    "#result.select( 'features','scaled_features').take(2)"
   ]
  },
  {
   "cell_type": "code",
   "execution_count": 368,
   "metadata": {},
   "outputs": [
    {
     "data": {
      "text/plain": [
       "[Row(userId='100005', gender_F=0, gender_M=1, level_free=1, level_paid=0, num_NextSong=154.0, Churn='1', features=DenseVector([0.0, 1.0, 1.0, 0.0, 154.0]), label=1.0),\n",
       " Row(userId='100006', gender_F=1, gender_M=0, level_free=1, level_paid=0, num_NextSong=26.0, Churn='1', features=DenseVector([1.0, 0.0, 1.0, 0.0, 26.0]), label=1.0),\n",
       " Row(userId='100009', gender_F=0, gender_M=1, level_free=1, level_paid=0, num_NextSong=518.0, Churn='1', features=DenseVector([0.0, 1.0, 1.0, 0.0, 518.0]), label=1.0),\n",
       " Row(userId='100010', gender_F=1, gender_M=0, level_free=1, level_paid=0, num_NextSong=275.0, Churn='0', features=DenseVector([1.0, 0.0, 1.0, 0.0, 275.0]), label=0.0),\n",
       " Row(userId='100022', gender_F=1, gender_M=0, level_free=1, level_paid=0, num_NextSong=681.0, Churn='1', features=DenseVector([1.0, 0.0, 1.0, 0.0, 681.0]), label=1.0)]"
      ]
     },
     "execution_count": 368,
     "metadata": {},
     "output_type": "execute_result"
    }
   ],
   "source": [
    "result.select('userId', 'gender_F', 'gender_M' ,'level_free' ,'level_paid', 'num_NextSong', 'Churn', 'features','label').take(5)"
   ]
  },
  {
   "cell_type": "code",
   "execution_count": 369,
   "metadata": {},
   "outputs": [
    {
     "name": "stdout",
     "output_type": "stream",
     "text": [
      "+------+-----+--------------------+--------------------+----------+\n",
      "|userId|label|       rawPrediction|         probability|prediction|\n",
      "+------+-----+--------------------+--------------------+----------+\n",
      "|100005|  1.0|[1.39659265681428...|[0.94230645846222...|       0.0|\n",
      "|100006|  1.0|[1.16990096891966...|[0.91212021041135...|       0.0|\n",
      "|100009|  1.0|[1.79911640734281...|[0.97335721641810...|       0.0|\n",
      "|100010|  0.0|[0.55381522757446...|[0.75168709116404...|       0.0|\n",
      "|100022|  1.0|[1.69121847125613...|[0.96715111466597...|       0.0|\n",
      "+------+-----+--------------------+--------------------+----------+\n",
      "only showing top 5 rows\n",
      "\n"
     ]
    }
   ],
   "source": [
    "#Gradient BT Classifier\n",
    "pipeline_grad  = config_pipeline(assembler, indexer,grad_bt)\n",
    "grad_model     = pipeline_grad.fit(trainingData)\n",
    "grad_pred      = grad_model.transform(testData)\n",
    "grad_pred.select('userId', 'label', 'rawPrediction' , 'probability' , 'prediction').show(5)"
   ]
  },
  {
   "cell_type": "code",
   "execution_count": 370,
   "metadata": {},
   "outputs": [
    {
     "name": "stdout",
     "output_type": "stream",
     "text": [
      "ROC: 0.4764705882352942\n",
      "Precision: 0.6619718309859155\n",
      "Accuracy: 0.6619718309859155\n",
      "Recall: 0.6619718309859155\n",
      "F1: 0.6619718309859155\n",
      "Weighted Precision: 0.5552907186710003\n",
      "Weighted Recall: 0.6619718309859155\n",
      "Weighted F1: 0.5913624985990212\n"
     ]
    }
   ],
   "source": [
    "print('ROC:',evaluator.evaluate(grad_pred))\n",
    "get_eval_metrics(grad_pred)"
   ]
  },
  {
   "cell_type": "code",
   "execution_count": null,
   "metadata": {},
   "outputs": [],
   "source": []
  },
  {
   "cell_type": "code",
   "execution_count": null,
   "metadata": {},
   "outputs": [],
   "source": []
  },
  {
   "cell_type": "code",
   "execution_count": 371,
   "metadata": {},
   "outputs": [
    {
     "name": "stdout",
     "output_type": "stream",
     "text": [
      "+------+-----+--------------------+--------------------+----------+\n",
      "|userId|label|       rawPrediction|         probability|prediction|\n",
      "+------+-----+--------------------+--------------------+----------+\n",
      "|100005|  1.0|[0.94155468131687...|[0.71941358880003...|       0.0|\n",
      "|100006|  1.0|[0.77533650378097...|[0.68467415447519...|       0.0|\n",
      "|100009|  1.0|[1.11357987395405...|[0.75279590804632...|       0.0|\n",
      "|100010|  0.0|[0.89301307786519...|[0.70951157448387...|       0.0|\n",
      "|100022|  1.0|[1.08488733119128...|[0.74741775069330...|       0.0|\n",
      "+------+-----+--------------------+--------------------+----------+\n",
      "only showing top 5 rows\n",
      "\n"
     ]
    }
   ],
   "source": [
    "#Logistic Regression \n",
    "pipeline_lr    =  config_pipeline(assembler, indexer,logistic_reg)\n",
    "lrModel        = pipeline_lr.fit(trainingData)\n",
    "lrModel_pred = lrModel.transform(testData)\n",
    "lrModel_pred.select('userId', 'label', 'rawPrediction' , 'probability' , 'prediction').show(5)"
   ]
  },
  {
   "cell_type": "code",
   "execution_count": 372,
   "metadata": {},
   "outputs": [
    {
     "name": "stdout",
     "output_type": "stream",
     "text": [
      "Precision: 0.7183098591549296\n",
      "Accuracy: 0.7183098591549296\n",
      "Recall: 0.7183098591549296\n",
      "F1: 0.7183098591549296\n",
      "Weighted Precision: 0.5159690537591748\n",
      "Weighted Recall: 0.7183098591549296\n",
      "Weighted F1: 0.6005541445393674\n",
      "ROC: 0.5774509803921569\n"
     ]
    }
   ],
   "source": [
    "eval_result  = evaluator.evaluate(lrModel_pred)\n",
    "get_eval_metrics(lrModel_pred)\n",
    "print(\"ROC:\",eval_result)\n",
    "#get_accuracy(lrModel_pred)"
   ]
  },
  {
   "cell_type": "code",
   "execution_count": 373,
   "metadata": {},
   "outputs": [
    {
     "name": "stdout",
     "output_type": "stream",
     "text": [
      "+------+-----+-------------+--------------------+----------+\n",
      "|userId|label|rawPrediction|         probability|prediction|\n",
      "+------+-----+-------------+--------------------+----------+\n",
      "|100005|  1.0|   [26.0,3.0]|[0.89655172413793...|       0.0|\n",
      "|100006|  1.0|    [7.0,3.0]|           [0.7,0.3]|       0.0|\n",
      "|100009|  1.0|   [19.0,0.0]|           [1.0,0.0]|       0.0|\n",
      "|100010|  0.0|    [2.0,3.0]|           [0.4,0.6]|       1.0|\n",
      "|100022|  1.0|   [19.0,0.0]|           [1.0,0.0]|       0.0|\n",
      "+------+-----+-------------+--------------------+----------+\n",
      "only showing top 5 rows\n",
      "\n"
     ]
    }
   ],
   "source": [
    "#Decesion Tree\n",
    "pipeline_dt   =  config_pipeline(assembler, indexer,d_tree)\n",
    "dtModel = pipeline_dt.fit(trainingData)\n",
    "dt_pred = dtModel.transform(testData)\n",
    "dt_pred.select('userId', 'label', 'rawPrediction' , 'probability' , 'prediction').show(5)"
   ]
  },
  {
   "cell_type": "code",
   "execution_count": 374,
   "metadata": {},
   "outputs": [
    {
     "name": "stdout",
     "output_type": "stream",
     "text": [
      "Precision: 0.6338028169014085\n",
      "Accuracy: 0.6338028169014085\n",
      "Recall: 0.6338028169014085\n",
      "F1: 0.6338028169014085\n",
      "Weighted Precision: 0.5368879946344735\n",
      "Weighted Recall: 0.6338028169014084\n",
      "Weighted F1: 0.5746055279042677\n",
      "ROC: 0.4274509803921569\n"
     ]
    }
   ],
   "source": [
    "eval_result  = evaluator.evaluate(dt_pred)\n",
    "get_eval_metrics(dt_pred)\n",
    "print(\"ROC:\",eval_result)\n",
    "#get_accuracy(dt_pred)"
   ]
  },
  {
   "cell_type": "code",
   "execution_count": null,
   "metadata": {},
   "outputs": [],
   "source": []
  },
  {
   "cell_type": "code",
   "execution_count": 375,
   "metadata": {},
   "outputs": [
    {
     "name": "stdout",
     "output_type": "stream",
     "text": [
      "cacheNodeIds: If false, the algorithm will pass trees to executors to match instances with nodes. If true, the algorithm will cache node IDs for each instance. Caching can speed up training of deeper trees. Users can set how often should the cache be checkpointed or disable it by setting checkpointInterval. (default: False)\n",
      "checkpointInterval: set checkpoint interval (>= 1) or disable checkpoint (-1). E.g. 10 means that the cache will get checkpointed every 10 iterations. Note: this setting will be ignored if the checkpoint directory is not set in the SparkContext. (default: 10)\n",
      "featuresCol: features column name. (default: features, current: features)\n",
      "impurity: Criterion used for information gain calculation (case-insensitive). Supported options: entropy, gini (default: gini)\n",
      "labelCol: label column name. (default: label, current: label)\n",
      "maxBins: Max number of bins for discretizing continuous features.  Must be >=2 and >= number of categories for any categorical feature. (default: 32)\n",
      "maxDepth: Maximum depth of the tree. (>= 0) E.g., depth 0 means 1 leaf node; depth 1 means 1 internal node + 2 leaf nodes. (default: 5, current: 5)\n",
      "maxMemoryInMB: Maximum memory in MB allocated to histogram aggregation. If too small, then 1 node will be split per iteration, and its aggregates may exceed this size. (default: 256)\n",
      "minInfoGain: Minimum information gain for a split to be considered at a tree node. (default: 0.0)\n",
      "minInstancesPerNode: Minimum number of instances each child must have after split. If a split causes the left or right child to have fewer than minInstancesPerNode, the split will be discarded as invalid. Should be >= 1. (default: 1)\n",
      "predictionCol: prediction column name. (default: prediction)\n",
      "probabilityCol: Column name for predicted class conditional probabilities. Note: Not all models output well-calibrated probability estimates! These probabilities should be treated as confidences, not precise probabilities. (default: probability)\n",
      "rawPredictionCol: raw prediction (a.k.a. confidence) column name. (default: rawPrediction)\n",
      "seed: random seed. (default: -8232669717901905529)\n"
     ]
    }
   ],
   "source": [
    "print(d_tree.explainParams())"
   ]
  },
  {
   "cell_type": "code",
   "execution_count": 376,
   "metadata": {},
   "outputs": [],
   "source": [
    "#paramGrid = (ParamGridBuilder. \n",
    "#    .addGrid(rf.numTrees, [3, 10])\n",
    "#    .addGrid(...)  # Add other parameters\n",
    "#    .build())\n",
    "# Set F-1 score as evaluation metric for best model selection\n",
    "evaluator_ = MulticlassClassificationEvaluator(labelCol='label',\n",
    "                                              predictionCol='prediction', metricName='f1')   \n",
    "\n",
    "#Following two parameters chosen because of recommendation in spark api documentation\n",
    "paramGrid = ParamGridBuilder() \\\n",
    "           .addGrid(d_tree.maxDepth, [5,8,10,12]) \\\n",
    "           .build()\n",
    "\n",
    "cv = CrossValidator(estimator=pipeline_dt,                         \n",
    "                    estimatorParamMaps=paramGrid,\n",
    "                    evaluator=evaluator_,\n",
    "                    numFolds=3)  # use 3+ folds in practice\n",
    "\n",
    "# Train model.  This also runs the indexers.\n",
    "tuned_model = cv.fit(trainingData)\n",
    "tuned_results = tuned_model.transform(testData)"
   ]
  },
  {
   "cell_type": "code",
   "execution_count": 377,
   "metadata": {},
   "outputs": [
    {
     "name": "stdout",
     "output_type": "stream",
     "text": [
      "Precision: 0.6901408450704225\n",
      "Accuracy: 0.6901408450704225\n",
      "Recall: 0.6901408450704225\n",
      "F1: 0.6901408450704225\n",
      "Weighted Precision: 0.5850325835610678\n",
      "Weighted Recall: 0.6901408450704225\n",
      "Weighted F1: 0.6078618604281053\n",
      "f1 accuracy: 0.6078618604281053\n"
     ]
    }
   ],
   "source": [
    "get_eval_metrics(tuned_results)\n",
    "print (evaluator_.getMetricName(), 'accuracy:', evaluator_.evaluate(tuned_results))"
   ]
  },
  {
   "cell_type": "code",
   "execution_count": 378,
   "metadata": {},
   "outputs": [
    {
     "name": "stdout",
     "output_type": "stream",
     "text": [
      "RandomForestClassificationModel (uid=RandomForestClassifier_3d62b503738d) with 12 trees\n"
     ]
    }
   ],
   "source": [
    "#paramGrid = (ParamGridBuilder. \n",
    "#    .addGrid(rf.numTrees, [3, 10])\n",
    "#    .addGrid(...)  # Add other parameters\n",
    "#    .build())\n",
    "# Set F-1 score as evaluation metric for best model selection\n",
    "evaluator_ = MulticlassClassificationEvaluator(labelCol='label',\n",
    "                                              predictionCol='prediction', metricName='f1')   \n",
    "\n",
    "#Following two parameters chosen because of recommendation in spark api documentation\n",
    "paramGrid = ParamGridBuilder() \\\n",
    "           .addGrid(rf.maxDepth, [5,8,10,12]) \\\n",
    "           .addGrid(rf.numTrees, [8,10,12,15,20,25]) \\\n",
    "           .build()\n",
    "\n",
    "cv = CrossValidator(estimator=pipeline_rf,                         \n",
    "                    estimatorParamMaps=paramGrid,\n",
    "                    evaluator=evaluator_,\n",
    "                    numFolds=4)\n",
    "\n",
    "# Train model.  This also runs the indexers.\n",
    "tuned_model = cv.fit(trainingData)\n",
    "info = tuned_model.bestModel.stages[2]\n",
    "print(info)\n",
    "tuned_results = tuned_model.transform(testData)"
   ]
  },
  {
   "cell_type": "code",
   "execution_count": 379,
   "metadata": {},
   "outputs": [],
   "source": [
    "#print(tuned_model.avgMetrics)\n"
   ]
  },
  {
   "cell_type": "code",
   "execution_count": 380,
   "metadata": {},
   "outputs": [],
   "source": [
    "#tuned_results = tuned_model.transform(testData)"
   ]
  },
  {
   "cell_type": "code",
   "execution_count": 381,
   "metadata": {},
   "outputs": [
    {
     "name": "stdout",
     "output_type": "stream",
     "text": [
      "50\n",
      "71\n"
     ]
    }
   ],
   "source": [
    "print(tuned_results.filter(tuned_results.label == tuned_results.prediction).count())\n",
    "print(tuned_results.count())"
   ]
  },
  {
   "cell_type": "code",
   "execution_count": 382,
   "metadata": {},
   "outputs": [
    {
     "name": "stdout",
     "output_type": "stream",
     "text": [
      "f1 accuracy: 0.5936445116982889\n"
     ]
    }
   ],
   "source": [
    "print (evaluator_.getMetricName(), 'accuracy:', evaluator_.evaluate(tuned_results))"
   ]
  },
  {
   "cell_type": "code",
   "execution_count": 383,
   "metadata": {},
   "outputs": [
    {
     "name": "stdout",
     "output_type": "stream",
     "text": [
      "Precision: 0.704225352112676\n",
      "Accuracy: 0.704225352112676\n",
      "Recall: 0.704225352112676\n",
      "F1: 0.704225352112676\n",
      "Weighted Precision: 0.5130784708249497\n",
      "Weighted Recall: 0.704225352112676\n",
      "Weighted F1: 0.5936445116982889\n"
     ]
    }
   ],
   "source": [
    "get_eval_metrics(tuned_results)"
   ]
  },
  {
   "cell_type": "code",
   "execution_count": 384,
   "metadata": {},
   "outputs": [],
   "source": [
    "\n",
    "#tree_model = CV_model.bestModel.stages[2]\n",
    "#print tree_model"
   ]
  },
  {
   "cell_type": "code",
   "execution_count": 385,
   "metadata": {},
   "outputs": [
    {
     "ename": "IndexError",
     "evalue": "list index out of range",
     "output_type": "error",
     "traceback": [
      "\u001b[0;31m---------------------------------------------------------------------------\u001b[0m",
      "\u001b[0;31mIndexError\u001b[0m                                Traceback (most recent call last)",
      "\u001b[0;32m<ipython-input-385-d5c4cf3e209d>\u001b[0m in \u001b[0;36m<module>\u001b[0;34m()\u001b[0m\n\u001b[0;32m----> 1\u001b[0;31m \u001b[0mrfModel\u001b[0m \u001b[0;34m=\u001b[0m \u001b[0mpmodel\u001b[0m\u001b[0;34m.\u001b[0m\u001b[0mstages\u001b[0m\u001b[0;34m[\u001b[0m\u001b[0;36m3\u001b[0m\u001b[0;34m]\u001b[0m\u001b[0;34m\u001b[0m\u001b[0m\n\u001b[0m\u001b[1;32m      2\u001b[0m \u001b[0mimportances\u001b[0m \u001b[0;34m=\u001b[0m \u001b[0mrfModel\u001b[0m\u001b[0;34m.\u001b[0m\u001b[0mfeatureImportances\u001b[0m\u001b[0;34m\u001b[0m\u001b[0m\n\u001b[1;32m      3\u001b[0m \u001b[0;31m#gives sparse vector\u001b[0m\u001b[0;34m\u001b[0m\u001b[0;34m\u001b[0m\u001b[0m\n\u001b[1;32m      4\u001b[0m \u001b[0mimportances\u001b[0m\u001b[0;34m\u001b[0m\u001b[0m\n\u001b[1;32m      5\u001b[0m \u001b[0mfeatures_label\u001b[0m \u001b[0;34m=\u001b[0m \u001b[0mfeature_df_pd\u001b[0m\u001b[0;34m.\u001b[0m\u001b[0mcolumns\u001b[0m\u001b[0;34m\u001b[0m\u001b[0m\n",
      "\u001b[0;31mIndexError\u001b[0m: list index out of range"
     ]
    }
   ],
   "source": [
    "#rfModel = pmodel.stages[3]\n",
    "#importances = rfModel.featureImportances\n",
    "#gives sparse vector\n",
    "#importances\n",
    "#features_label = feature_df_pd.columns\n",
    "#import numpy as np\n",
    "#indices = np.argsort(importances)[::-1]\n",
    "#indices\n",
    "#importances[int(indices[1])]\n",
    "\n",
    "#for i in range(1,feature_df_pd.shape[1] -1):     \n",
    "#   print (\"%2d) %-*s %f\" % (i + 1, 30, features_label[i], importances[int(indices[i])] )) \n",
    "   #print(features_label[i], importances[indices[i]])            "
   ]
  },
  {
   "cell_type": "code",
   "execution_count": null,
   "metadata": {},
   "outputs": [],
   "source": []
  },
  {
   "cell_type": "code",
   "execution_count": null,
   "metadata": {},
   "outputs": [],
   "source": []
  },
  {
   "cell_type": "code",
   "execution_count": null,
   "metadata": {},
   "outputs": [],
   "source": [
    "\n"
   ]
  },
  {
   "cell_type": "code",
   "execution_count": null,
   "metadata": {},
   "outputs": [],
   "source": []
  },
  {
   "cell_type": "code",
   "execution_count": null,
   "metadata": {},
   "outputs": [],
   "source": [
    "\n"
   ]
  },
  {
   "cell_type": "code",
   "execution_count": null,
   "metadata": {},
   "outputs": [],
   "source": []
  },
  {
   "cell_type": "code",
   "execution_count": null,
   "metadata": {},
   "outputs": [],
   "source": []
  },
  {
   "cell_type": "markdown",
   "metadata": {},
   "source": [
    "# Final Steps\n",
    "Clean up your code, adding comments and renaming variables to make the code easier to read and maintain. Refer to the Spark Project Overview page and Data Scientist Capstone Project Rubric to make sure you are including all components of the capstone project and meet all expectations. Remember, this includes thorough documentation in a README file in a Github repository, as well as a web app or blog post."
   ]
  },
  {
   "cell_type": "code",
   "execution_count": null,
   "metadata": {},
   "outputs": [],
   "source": []
  }
 ],
 "metadata": {
  "kernelspec": {
   "display_name": "Python 3",
   "language": "python",
   "name": "python3"
  },
  "language_info": {
   "codemirror_mode": {
    "name": "ipython",
    "version": 3
   },
   "file_extension": ".py",
   "mimetype": "text/x-python",
   "name": "python",
   "nbconvert_exporter": "python",
   "pygments_lexer": "ipython3",
   "version": "3.6.3"
  }
 },
 "nbformat": 4,
 "nbformat_minor": 2
}
